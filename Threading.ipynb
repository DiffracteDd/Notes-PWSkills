{
 "cells": [
  {
   "cell_type": "code",
   "execution_count": 1,
   "id": "54b891c6-ecdd-448b-b3b6-241c0ad0a0f2",
   "metadata": {},
   "outputs": [],
   "source": [
    "import threading "
   ]
  },
  {
   "cell_type": "code",
   "execution_count": 2,
   "id": "c041cd2d-de42-41b9-b719-82ccd35c0d63",
   "metadata": {},
   "outputs": [],
   "source": [
    "def test(id):\n",
    "    print(\"This is my test id %d\"%id)"
   ]
  },
  {
   "cell_type": "code",
   "execution_count": 3,
   "id": "78d88786-78f0-47ce-841d-a2cb62f76b0e",
   "metadata": {},
   "outputs": [
    {
     "name": "stdout",
     "output_type": "stream",
     "text": [
      "This is my test id 10\n"
     ]
    }
   ],
   "source": [
    "test(10)"
   ]
  },
  {
   "cell_type": "code",
   "execution_count": 4,
   "id": "d83a4ed9-e87b-42a2-b80d-9eb3204016e0",
   "metadata": {},
   "outputs": [
    {
     "name": "stdout",
     "output_type": "stream",
     "text": [
      "This is my test id 3\n"
     ]
    }
   ],
   "source": [
    "test(3)"
   ]
  },
  {
   "cell_type": "code",
   "execution_count": 5,
   "id": "337fd194-7368-41f2-8637-bf1b2d8736b8",
   "metadata": {},
   "outputs": [
    {
     "name": "stdout",
     "output_type": "stream",
     "text": [
      "This is my test id 1\n"
     ]
    }
   ],
   "source": [
    "test(1)"
   ]
  },
  {
   "cell_type": "markdown",
   "id": "2a1070bc-350a-4c8b-b4bc-865e22a3316b",
   "metadata": {},
   "source": [
    "Now if we want to call all the three cases at the same time , we use threading."
   ]
  },
  {
   "cell_type": "code",
   "execution_count": 6,
   "id": "b3dd17d0-e0b4-47bc-bc4d-2209c4253292",
   "metadata": {},
   "outputs": [],
   "source": [
    "thred=[threading.Thread(target=test,args=(i,))for i in [10,1,3]]"
   ]
  },
  {
   "cell_type": "code",
   "execution_count": 7,
   "id": "6d5c05d8-1a51-42af-9b49-62a32356f91f",
   "metadata": {},
   "outputs": [
    {
     "data": {
      "text/plain": [
       "[<Thread(Thread-5 (test), initial)>,\n",
       " <Thread(Thread-6 (test), initial)>,\n",
       " <Thread(Thread-7 (test), initial)>]"
      ]
     },
     "execution_count": 7,
     "metadata": {},
     "output_type": "execute_result"
    }
   ],
   "source": [
    "thred\n"
   ]
  },
  {
   "cell_type": "code",
   "execution_count": 8,
   "id": "fd348370-8906-4d2f-965b-100efc2c5185",
   "metadata": {},
   "outputs": [
    {
     "name": "stdout",
     "output_type": "stream",
     "text": [
      "This is my test id 10\n",
      "This is my test id 1\n",
      "This is my test id 3\n"
     ]
    }
   ],
   "source": [
    "for t in thred:\n",
    "    t.start()"
   ]
  },
  {
   "cell_type": "markdown",
   "id": "07e551e6-0965-4f4b-aae4-95414e3ebfc3",
   "metadata": {},
   "source": [
    "\n",
    "\n",
    "\n",
    "Suppose we have three different links containing various data , and we need to fetch the data and store it in a local file. This can be easily done using the threading system. "
   ]
  },
  {
   "cell_type": "code",
   "execution_count": 10,
   "id": "de095eea-fcb9-45e1-afa0-a9c4f3306cb3",
   "metadata": {},
   "outputs": [],
   "source": [
    "import urllib.request\n",
    "\n",
    "def file_download(url,filename):\n",
    "    urllib.request.urlretrieve(url,filename)"
   ]
  },
  {
   "cell_type": "code",
   "execution_count": 11,
   "id": "140df1e6-1ba8-4516-ab25-961b0d9b5b96",
   "metadata": {},
   "outputs": [],
   "source": [
    "url_list=['link1','link2','link3']\n"
   ]
  },
  {
   "cell_type": "code",
   "execution_count": null,
   "id": "ccab061c-410d-49d1-8f90-c19d994cff39",
   "metadata": {},
   "outputs": [
    {
     "data": {
      "text/plain": [
       "['link1', 'link2', 'link3']"
      ]
     },
     "execution_count": 12,
     "metadata": {},
     "output_type": "execute_result"
    }
   ],
   "source": [
    "url_list\n"
   ]
  },
  {
   "cell_type": "code",
   "execution_count": 13,
   "id": "03ffffa1-e43e-49b8-a874-9c88dae41451",
   "metadata": {},
   "outputs": [],
   "source": [
    "data_file_list=['data1.txt','data2,txt','data3.txt']"
   ]
  },
  {
   "cell_type": "code",
   "execution_count": 14,
   "id": "9d4a1398-847b-4e05-8d05-ac0168ce9555",
   "metadata": {},
   "outputs": [
    {
     "data": {
      "text/plain": [
       "['data1.txt', 'data2,txt', 'data3.txt']"
      ]
     },
     "execution_count": 14,
     "metadata": {},
     "output_type": "execute_result"
    }
   ],
   "source": [
    "data_file_list"
   ]
  },
  {
   "cell_type": "code",
   "execution_count": 15,
   "id": "cbb5fff4-bb73-41b7-bd0c-7641e8f64839",
   "metadata": {},
   "outputs": [],
   "source": [
    "thread1=[threading.Thread(target=file_download,args=(url_list[i],data_file_list[i]))for i in range(len(url_list))]"
   ]
  },
  {
   "cell_type": "code",
   "execution_count": 17,
   "id": "e4884345-d873-45c8-a774-48b92fbd1a71",
   "metadata": {},
   "outputs": [
    {
     "data": {
      "text/plain": [
       "[<Thread(Thread-8 (file_download), stopped 140685558650432)>,\n",
       " <Thread(Thread-9 (file_download), stopped 140685009221184)>,\n",
       " <Thread(Thread-10 (file_download), stopped 140685000828480)>]"
      ]
     },
     "execution_count": 17,
     "metadata": {},
     "output_type": "execute_result"
    }
   ],
   "source": [
    "thread1"
   ]
  },
  {
   "cell_type": "raw",
   "id": "726730cb-c50d-4b79-ad4b-e55c3c4b6b5e",
   "metadata": {},
   "source": [
    "for t in thread1:\n",
    "    t.start()"
   ]
  },
  {
   "cell_type": "code",
   "execution_count": null,
   "id": "1306f4b3-f598-491c-96de-f189306ad513",
   "metadata": {},
   "outputs": [],
   "source": []
  },
  {
   "cell_type": "code",
   "execution_count": null,
   "id": "aa32fc84-2df5-40c1-a39e-b3d122ea88d6",
   "metadata": {},
   "outputs": [],
   "source": []
  },
  {
   "cell_type": "code",
   "execution_count": 19,
   "id": "1b829cfe-94ec-4fb8-b9e8-bb4b699fe658",
   "metadata": {},
   "outputs": [],
   "source": [
    "import time"
   ]
  },
  {
   "cell_type": "code",
   "execution_count": 24,
   "id": "9b1e920f-072e-4023-9a62-335104d2e3fe",
   "metadata": {},
   "outputs": [],
   "source": [
    "def test2(x):\n",
    "    for i in range(10):\n",
    "        print(\"test1 print the value of x %d and print the value of i %d\"%(x,i))\n",
    "        time.sleep(1) #it will print the output with a time delay of 1 second between ever consecutive output"
   ]
  },
  {
   "cell_type": "code",
   "execution_count": 25,
   "id": "163f0f11-b2f9-47ed-9da8-6e9784ae8818",
   "metadata": {},
   "outputs": [
    {
     "name": "stdout",
     "output_type": "stream",
     "text": [
      "test1 print the value of x 10 and print the value of i 0\n",
      "test1 print the value of x 10 and print the value of i 1\n",
      "test1 print the value of x 10 and print the value of i 2\n",
      "test1 print the value of x 10 and print the value of i 3\n",
      "test1 print the value of x 10 and print the value of i 4\n",
      "test1 print the value of x 10 and print the value of i 5\n",
      "test1 print the value of x 10 and print the value of i 6\n",
      "test1 print the value of x 10 and print the value of i 7\n",
      "test1 print the value of x 10 and print the value of i 8\n",
      "test1 print the value of x 10 and print the value of i 9\n"
     ]
    }
   ],
   "source": [
    "test2(10)"
   ]
  },
  {
   "cell_type": "code",
   "execution_count": 26,
   "id": "1ffd216c-41ec-4b5e-9f8b-a77300adfd51",
   "metadata": {},
   "outputs": [],
   "source": [
    "thread2=[threading.Thread(target=test2,args=(i,))for i in [100,10,20,5]]"
   ]
  },
  {
   "cell_type": "code",
   "execution_count": 27,
   "id": "00a62129-1271-426e-8bf7-a2e87927e074",
   "metadata": {},
   "outputs": [
    {
     "name": "stdout",
     "output_type": "stream",
     "text": [
      "test1 print the value of x 100 and print the value of i 0\n",
      "test1 print the value of x 10 and print the value of i 0\n",
      "test1 print the value of x 20 and print the value of i 0\n",
      "test1 print the value of x 5 and print the value of i 0\n",
      "test1 print the value of x 100 and print the value of i 1test1 print the value of x 10 and print the value of i 1\n",
      "\n",
      "test1 print the value of x 20 and print the value of i 1\n",
      "test1 print the value of x 5 and print the value of i 1\n",
      "test1 print the value of x 10 and print the value of i 2test1 print the value of x 100 and print the value of i 2\n",
      "\n",
      "test1 print the value of x 20 and print the value of i 2\n",
      "test1 print the value of x 5 and print the value of i 2\n",
      "test1 print the value of x 100 and print the value of i 3test1 print the value of x 5 and print the value of i 3\n",
      "test1 print the value of x 10 and print the value of i 3\n",
      "\n",
      "test1 print the value of x 20 and print the value of i 3\n",
      "test1 print the value of x 5 and print the value of i 4\n",
      "test1 print the value of x 10 and print the value of i 4\n",
      "test1 print the value of x 20 and print the value of i 4\n",
      "test1 print the value of x 100 and print the value of i 4\n",
      "test1 print the value of x 5 and print the value of i 5test1 print the value of x 10 and print the value of i 5\n",
      "test1 print the value of x 100 and print the value of i 5\n",
      "test1 print the value of x 20 and print the value of i 5\n",
      "\n",
      "test1 print the value of x 10 and print the value of i 6test1 print the value of x 100 and print the value of i 6\n",
      "\n",
      "test1 print the value of x 5 and print the value of i 6\n",
      "test1 print the value of x 20 and print the value of i 6\n",
      "test1 print the value of x 100 and print the value of i 7test1 print the value of x 10 and print the value of i 7\n",
      "test1 print the value of x 5 and print the value of i 7\n",
      "\n",
      "test1 print the value of x 20 and print the value of i 7\n",
      "test1 print the value of x 10 and print the value of i 8test1 print the value of x 5 and print the value of i 8\n",
      "test1 print the value of x 100 and print the value of i 8\n",
      "\n",
      "test1 print the value of x 20 and print the value of i 8\n",
      "test1 print the value of x 5 and print the value of i 9test1 print the value of x 10 and print the value of i 9\n",
      "test1 print the value of x 100 and print the value of i 9\n",
      "\n",
      "test1 print the value of x 20 and print the value of i 9\n"
     ]
    }
   ],
   "source": [
    "for t in thread2:\n",
    "    t.start()"
   ]
  },
  {
   "cell_type": "code",
   "execution_count": null,
   "id": "caf75772-f885-43c3-bec0-c53321a6747d",
   "metadata": {},
   "outputs": [],
   "source": []
  },
  {
   "cell_type": "code",
   "execution_count": null,
   "id": "0223e552-84d1-424f-b4f9-a7de3325a19a",
   "metadata": {},
   "outputs": [],
   "source": []
  },
  {
   "cell_type": "markdown",
   "id": "d8590db0-6b60-4b05-ac94-df3ca9269521",
   "metadata": {},
   "source": [
    "It is visible from the output that at first 100 , then 10 , then 20 , then 5 is executed for once \n",
    "then again it will go back to executing 100 and so on ."
   ]
  },
  {
   "cell_type": "markdown",
   "id": "8106ad82-6ca6-4ab2-88f8-1048ae9a4992",
   "metadata": {},
   "source": [
    "The ability of a processor to execute multiple threads simultaneously is known as multithreading. Python multithreading facilitates sharing data space and resources of multiple threads with the main thread. It allows efficient and easy communication between the threads."
   ]
  },
  {
   "cell_type": "code",
   "execution_count": null,
   "id": "88ecc083-f49b-4774-9003-4e371f945ce9",
   "metadata": {},
   "outputs": [],
   "source": []
  }
 ],
 "metadata": {
  "kernelspec": {
   "display_name": "Python 3 (ipykernel)",
   "language": "python",
   "name": "python3"
  },
  "language_info": {
   "codemirror_mode": {
    "name": "ipython",
    "version": 3
   },
   "file_extension": ".py",
   "mimetype": "text/x-python",
   "name": "python",
   "nbconvert_exporter": "python",
   "pygments_lexer": "ipython3",
   "version": "3.10.8"
  }
 },
 "nbformat": 4,
 "nbformat_minor": 5
}
