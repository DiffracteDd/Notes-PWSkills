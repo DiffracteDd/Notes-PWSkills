{
 "cells": [
  {
   "cell_type": "markdown",
   "id": "76a25d8e-453a-4149-b969-b53b0ab31136",
   "metadata": {},
   "source": [
    "Program to store lists seperately using args "
   ]
  },
  {
   "cell_type": "code",
   "execution_count": 1,
   "id": "9324d63c-e4eb-4e29-9264-62ece8e179da",
   "metadata": {},
   "outputs": [],
   "source": [
    "def test4(*args):\n",
    "    l=[]\n",
    "    for i in args:\n",
    "        if type(i)==list:\n",
    "            l.append(i)\n",
    "    return l        "
   ]
  },
  {
   "cell_type": "code",
   "execution_count": 2,
   "id": "f56a90ee-17f4-41b5-ae3d-416669bb46f3",
   "metadata": {},
   "outputs": [
    {
     "data": {
      "text/plain": [
       "[[1, 2, 3], [9]]"
      ]
     },
     "execution_count": 2,
     "metadata": {},
     "output_type": "execute_result"
    }
   ],
   "source": [
    "test4(1,2,3,4,[1,2,3],5,6,[9])"
   ]
  },
  {
   "cell_type": "code",
   "execution_count": 1,
   "id": "c57164e4-48fa-47ea-a6eb-ab5f80e366ff",
   "metadata": {},
   "outputs": [],
   "source": [
    "l2=[\"sudh\",\"pwskills\",\"kumar\",\"bangalore\",\"krish\"]"
   ]
  },
  {
   "cell_type": "code",
   "execution_count": 8,
   "id": "6e464a33-1378-4fea-bfa1-46e6562dc470",
   "metadata": {},
   "outputs": [
    {
     "data": {
      "text/plain": [
       "5"
      ]
     },
     "execution_count": 8,
     "metadata": {},
     "output_type": "execute_result"
    }
   ],
   "source": [
    "a=lambda x: len(x)\n",
    "a(l2)"
   ]
  },
  {
   "cell_type": "code",
   "execution_count": 11,
   "id": "f6cddae0-6caf-4a6a-86be-7cd91bfd0928",
   "metadata": {},
   "outputs": [
    {
     "data": {
      "text/plain": [
       "[4, 8, 5, 9, 5]"
      ]
     },
     "execution_count": 11,
     "metadata": {},
     "output_type": "execute_result"
    }
   ],
   "source": [
    "list(map(lambda x: len(x),l2))"
   ]
  },
  {
   "cell_type": "code",
   "execution_count": null,
   "id": "393c8a91-275d-4fdf-ab37-cb37a62d95ab",
   "metadata": {},
   "outputs": [],
   "source": []
  }
 ],
 "metadata": {
  "kernelspec": {
   "display_name": "Python 3 (ipykernel)",
   "language": "python",
   "name": "python3"
  },
  "language_info": {
   "codemirror_mode": {
    "name": "ipython",
    "version": 3
   },
   "file_extension": ".py",
   "mimetype": "text/x-python",
   "name": "python",
   "nbconvert_exporter": "python",
   "pygments_lexer": "ipython3",
   "version": "3.10.8"
  }
 },
 "nbformat": 4,
 "nbformat_minor": 5
}
