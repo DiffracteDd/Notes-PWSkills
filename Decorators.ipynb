{
 "cells": [
  {
   "cell_type": "code",
   "execution_count": 5,
   "id": "821eac3d-67af-43f5-8f82-5b889c739f1a",
   "metadata": {},
   "outputs": [],
   "source": [
    "def deco(func):\n",
    "    def inner_deco():\n",
    "        print(\"this is the start of my fun\")\n",
    "        func()\n",
    "        print(\"this is the end of my fun\")\n",
    "    return inner_deco"
   ]
  },
  {
   "cell_type": "code",
   "execution_count": 9,
   "id": "42b4f217-3b0f-4d85-a7a8-7117ee4944d9",
   "metadata": {},
   "outputs": [],
   "source": [
    "@deco\n",
    "def test1():\n",
    "    print(5+9)"
   ]
  },
  {
   "cell_type": "code",
   "execution_count": 10,
   "id": "3f862551-f3cf-4c42-9cb6-1e2c020908f3",
   "metadata": {},
   "outputs": [
    {
     "name": "stdout",
     "output_type": "stream",
     "text": [
      "this is the start of my fun\n",
      "14\n",
      "this is the end of my fun\n"
     ]
    }
   ],
   "source": [
    "test1()"
   ]
  },
  {
   "cell_type": "code",
   "execution_count": 11,
   "id": "21917951-066d-4fe8-b6f2-ba6efffb0468",
   "metadata": {},
   "outputs": [],
   "source": [
    "import time\n",
    "def timer_test(func):\n",
    "    def timer_test_inner():\n",
    "        start=time.time()\n",
    "        func()\n",
    "        end=time.time()\n",
    "        print(end-start)\n",
    "    return timer_test_inner"
   ]
  },
  {
   "cell_type": "code",
   "execution_count": 14,
   "id": "e2068e8d-67f0-4c9a-b33f-6a33394c8bd8",
   "metadata": {},
   "outputs": [],
   "source": [
    "@timer_test\n",
    "def test2():\n",
    "    print(45+67)"
   ]
  },
  {
   "cell_type": "code",
   "execution_count": 15,
   "id": "a97ac51d-ce8a-4c5d-b775-b0339548ec4d",
   "metadata": {},
   "outputs": [
    {
     "name": "stdout",
     "output_type": "stream",
     "text": [
      "112\n",
      "4.76837158203125e-05\n"
     ]
    }
   ],
   "source": [
    "test2()"
   ]
  },
  {
   "cell_type": "code",
   "execution_count": null,
   "id": "00b72322-fec6-4500-8d68-05221f7a8fe7",
   "metadata": {},
   "outputs": [],
   "source": []
  },
  {
   "cell_type": "code",
   "execution_count": null,
   "id": "0310b919-ba5c-4264-98a4-c70e2a19ea3e",
   "metadata": {},
   "outputs": [],
   "source": []
  },
  {
   "cell_type": "markdown",
   "id": "537512cf-0d08-461d-a99d-ba7ee8186ae7",
   "metadata": {},
   "source": [
    "Class Methods "
   ]
  },
  {
   "cell_type": "markdown",
   "id": "2f5e7b2d-6b1a-470e-a8fa-3f6cd6fab166",
   "metadata": {},
   "source": [
    "Everytime , we do not hsve to pass the functions through the init method. Now we can use an alternative method called the classs nethod."
   ]
  },
  {
   "cell_type": "code",
   "execution_count": 1,
   "id": "34c322ef-3327-456d-afa0-440deab8040e",
   "metadata": {},
   "outputs": [],
   "source": [
    "class pwskills:\n",
    "    def __init__(self,name,email):\n",
    "        self.name=name\n",
    "        self.email=email\n",
    "    def student_details(self):\n",
    "        print(self.name,self.email)"
   ]
  },
  {
   "cell_type": "code",
   "execution_count": 2,
   "id": "a6a51efa-cb55-4904-8720-fef31e352e3b",
   "metadata": {},
   "outputs": [],
   "source": [
    "pw=pwskills(\"Sudh\",\"sudh@gmail.com\")"
   ]
  },
  {
   "cell_type": "code",
   "execution_count": 3,
   "id": "afbfebc1-a1ba-471c-b696-62de895ccf6f",
   "metadata": {},
   "outputs": [
    {
     "data": {
      "text/plain": [
       "'Sudh'"
      ]
     },
     "execution_count": 3,
     "metadata": {},
     "output_type": "execute_result"
    }
   ],
   "source": [
    "pw.name"
   ]
  },
  {
   "cell_type": "code",
   "execution_count": 4,
   "id": "9c3b0c97-9ff5-4529-81f2-be22d8880377",
   "metadata": {},
   "outputs": [
    {
     "data": {
      "text/plain": [
       "'sudh@gmail.com'"
      ]
     },
     "execution_count": 4,
     "metadata": {},
     "output_type": "execute_result"
    }
   ],
   "source": [
    "pw.email"
   ]
  },
  {
   "cell_type": "code",
   "execution_count": 6,
   "id": "b3e1c5b4-5e69-4d5c-8019-f5ee55ce41be",
   "metadata": {},
   "outputs": [
    {
     "name": "stdout",
     "output_type": "stream",
     "text": [
      "Sudh sudh@gmail.com\n"
     ]
    }
   ],
   "source": [
    "pw.student_details()"
   ]
  },
  {
   "cell_type": "markdown",
   "id": "9d0c90fb-b31d-46a2-bc6c-49275d3ec500",
   "metadata": {},
   "source": [
    "Now using the alternative method .\n",
    "The \"@classmethod\" is a default method decorator in python."
   ]
  },
  {
   "cell_type": "code",
   "execution_count": 11,
   "id": "07464130-ab7f-437a-a083-dc56fa2fa9ff",
   "metadata": {},
   "outputs": [],
   "source": [
    "class pwskills1:\n",
    "    def __init__(self,name,email):\n",
    "        self.name=name\n",
    "        self.email=email\n",
    "    @classmethod\n",
    "    def details(cls,name,email):\n",
    "        return cls(name,email)\n",
    "    \n",
    "    def student_details(self):\n",
    "        print(self.name,self.email)"
   ]
  },
  {
   "cell_type": "code",
   "execution_count": 13,
   "id": "f7a09414-cf92-446d-8316-d920a1c201c5",
   "metadata": {},
   "outputs": [],
   "source": [
    "pw1=pwskills1.details(\"Soumik\",\"soumikdey2@gmail.com\")"
   ]
  },
  {
   "cell_type": "code",
   "execution_count": 14,
   "id": "1633b04a-b07f-4932-88bf-9411ad54d12b",
   "metadata": {},
   "outputs": [
    {
     "data": {
      "text/plain": [
       "'Soumik'"
      ]
     },
     "execution_count": 14,
     "metadata": {},
     "output_type": "execute_result"
    }
   ],
   "source": [
    "pw1.name\n"
   ]
  },
  {
   "cell_type": "markdown",
   "id": "41dc8285-227c-4fdd-bbb4-b9346600478c",
   "metadata": {},
   "source": [
    "This is an example of function overloading in python."
   ]
  },
  {
   "cell_type": "code",
   "execution_count": 21,
   "id": "b4238929-9611-41b3-9383-1ba547d2df8f",
   "metadata": {},
   "outputs": [],
   "source": [
    "class pwskills2:\n",
    "    mobile_number=8479908295\n",
    "    def __init__(self,name,email):\n",
    "        self.name=name\n",
    "        self.email=email\n",
    "    @classmethod\n",
    "    def change_mobile_number(cls,mobile):\n",
    "        pwskills2.mobile_number=mobile\n",
    "    @classmethod\n",
    "    def details(cls,name,email):\n",
    "        return cls(name,email)\n",
    "    \n",
    "    def student_details(self):\n",
    "        print(self.name,self.email,pwskills2.mobile_number)"
   ]
  },
  {
   "cell_type": "code",
   "execution_count": 22,
   "id": "e59ec0bc-2ca6-4499-b155-c86627589073",
   "metadata": {},
   "outputs": [],
   "source": [
    "pw3=pwskills2(\"soumik\",\"sd@gmail.com\")"
   ]
  },
  {
   "cell_type": "code",
   "execution_count": 23,
   "id": "d28eebf8-237c-4c0f-a12c-a169e054900f",
   "metadata": {},
   "outputs": [
    {
     "name": "stdout",
     "output_type": "stream",
     "text": [
      "soumik sd@gmail.com 8479908295\n"
     ]
    }
   ],
   "source": [
    "pw3.student_details()"
   ]
  },
  {
   "cell_type": "markdown",
   "id": "6d43ec02-0c50-4ea7-9553-87eab28c3e7d",
   "metadata": {},
   "source": [
    "If we have a class variable,then we dont have to create objects,we can directly access the variable"
   ]
  },
  {
   "cell_type": "code",
   "execution_count": 24,
   "id": "838792d4-5766-4ef9-9206-a8144f189418",
   "metadata": {},
   "outputs": [],
   "source": [
    "pw3.change_mobile_number(8584023263)"
   ]
  },
  {
   "cell_type": "code",
   "execution_count": 25,
   "id": "56da7d45-a1b4-45c2-919b-31a94376b405",
   "metadata": {},
   "outputs": [
    {
     "name": "stdout",
     "output_type": "stream",
     "text": [
      "soumik sd@gmail.com 8584023263\n"
     ]
    }
   ],
   "source": [
    "pw3.student_details()"
   ]
  },
  {
   "cell_type": "markdown",
   "id": "0a19ff5e-4b54-48cb-9b66-8a42ab6fafce",
   "metadata": {},
   "source": [
    "CLass method is like a global method which is accesible by all the objects.\n",
    "We can alter the values of class variables but not that of functions inside the class."
   ]
  },
  {
   "cell_type": "markdown",
   "id": "4ed7181f-9e61-4c95-ab8d-84eb04a8cfb6",
   "metadata": {},
   "source": [
    "To add an external function insde a class :"
   ]
  },
  {
   "cell_type": "code",
   "execution_count": 38,
   "id": "8944b8ef-3b15-4b8f-9440-c804ca111823",
   "metadata": {},
   "outputs": [],
   "source": [
    "class pwskills3:\n",
    "    mobile_number=8479908295\n",
    "    def __init__(self,name,email):\n",
    "        self.name=name\n",
    "        self.email=email\n",
    "    @classmethod\n",
    "    def change_mobile_number(cls,mobile):\n",
    "        pwskills2.mobile_number=mobile\n",
    "    @classmethod\n",
    "    def details(cls,name,email):\n",
    "        return cls(name,email)\n",
    "    \n",
    "    def student_details(self):\n",
    "        print(self.name,self.email,pwskills3.mobile_number)"
   ]
  },
  {
   "cell_type": "code",
   "execution_count": 39,
   "id": "2553e76f-0538-497c-a0d6-e4a3d15e7d4d",
   "metadata": {},
   "outputs": [],
   "source": [
    "def course_details(cls,course_name):\n",
    "    print(\"course_details\",course_name)"
   ]
  },
  {
   "cell_type": "code",
   "execution_count": 40,
   "id": "2f255a19-4f34-4bb2-b09b-49c5d7241006",
   "metadata": {},
   "outputs": [],
   "source": [
    "pwskills3.course_details = classmethod(course_details)"
   ]
  },
  {
   "cell_type": "code",
   "execution_count": 41,
   "id": "07a75355-5476-4a71-b9ff-49bf08d661d1",
   "metadata": {},
   "outputs": [
    {
     "name": "stdout",
     "output_type": "stream",
     "text": [
      "course_details data science masters\n"
     ]
    }
   ],
   "source": [
    "pwskills3.course_details(\"data science masters\")"
   ]
  },
  {
   "cell_type": "code",
   "execution_count": 42,
   "id": "403032fe-3a5c-4bf5-bb84-7ade649053b4",
   "metadata": {},
   "outputs": [],
   "source": [
    "pw4=pwskills3(\"soumik\",\"sudh@gmail.com\")"
   ]
  },
  {
   "cell_type": "code",
   "execution_count": 43,
   "id": "5b41fbbb-f074-4b20-a64e-0b79787b8c6b",
   "metadata": {},
   "outputs": [
    {
     "name": "stdout",
     "output_type": "stream",
     "text": [
      "course_details web dev\n"
     ]
    }
   ],
   "source": [
    "pw4.course_details(\"web dev\")"
   ]
  },
  {
   "cell_type": "markdown",
   "id": "50a8d554-1b95-4003-98e9-4ae635fcf046",
   "metadata": {},
   "source": [
    "To perform deletion operation:-"
   ]
  },
  {
   "cell_type": "code",
   "execution_count": 47,
   "id": "115a3a07-fa2d-45bd-93b9-3ecdf1ddcc50",
   "metadata": {},
   "outputs": [],
   "source": [
    "del pwskills3.change_mobile_number"
   ]
  },
  {
   "cell_type": "code",
   "execution_count": 48,
   "id": "edf334eb-1280-4f7a-9b2e-7b627b1223ee",
   "metadata": {},
   "outputs": [
    {
     "ename": "AttributeError",
     "evalue": "'pwskills3' object has no attribute 'change_mobile_number'",
     "output_type": "error",
     "traceback": [
      "\u001b[0;31m---------------------------------------------------------------------------\u001b[0m",
      "\u001b[0;31mAttributeError\u001b[0m                            Traceback (most recent call last)",
      "Cell \u001b[0;32mIn[48], line 1\u001b[0m\n\u001b[0;32m----> 1\u001b[0m \u001b[43mpw4\u001b[49m\u001b[38;5;241;43m.\u001b[39;49m\u001b[43mchange_mobile_number\u001b[49m(\u001b[38;5;241m12345678\u001b[39m)\n",
      "\u001b[0;31mAttributeError\u001b[0m: 'pwskills3' object has no attribute 'change_mobile_number'"
     ]
    }
   ],
   "source": [
    "pw4.change_mobile_number(12345678)"
   ]
  },
  {
   "cell_type": "markdown",
   "id": "44785122-ec77-447e-a005-5a6df6777cc4",
   "metadata": {},
   "source": [
    "We can also use the delete attribute."
   ]
  },
  {
   "cell_type": "code",
   "execution_count": 51,
   "id": "c38dd7b4-6c51-42ca-85a0-c103cbb41c43",
   "metadata": {},
   "outputs": [],
   "source": [
    "delattr(pwskills3,\"student_details\")"
   ]
  },
  {
   "cell_type": "code",
   "execution_count": null,
   "id": "d7516b0c-e626-4216-b4d9-3caf82c546b8",
   "metadata": {},
   "outputs": [],
   "source": []
  },
  {
   "cell_type": "markdown",
   "id": "68cf68ba-a92c-4407-ba92-96a9019856da",
   "metadata": {},
   "source": [
    "Static Method"
   ]
  },
  {
   "cell_type": "code",
   "execution_count": 54,
   "id": "5d855ab1-e8df-48b7-85fc-b2fd68449d3d",
   "metadata": {},
   "outputs": [],
   "source": [
    "class pwskills5:\n",
    "    def student_details(self,name,mail_id,number):\n",
    "        print(name,mail_id,number)\n",
    "    @staticmethod\n",
    "    def mentor_class(list_mentor):\n",
    "        print(list_mentor)\n",
    "    def mentor(self,mentor_list):\n",
    "        print(mentor_list)"
   ]
  },
  {
   "cell_type": "code",
   "execution_count": 55,
   "id": "824fa2d7-7bde-40a3-8c2c-1e8363849910",
   "metadata": {},
   "outputs": [],
   "source": [
    "pw5=pwskills5()"
   ]
  },
  {
   "cell_type": "code",
   "execution_count": 59,
   "id": "b180ee64-5859-4cbb-bec0-79146d3b0a68",
   "metadata": {},
   "outputs": [
    {
     "name": "stdout",
     "output_type": "stream",
     "text": [
      "['Krish', 'Sudh']\n"
     ]
    }
   ],
   "source": [
    "pw5.mentor([\"Krish\",\"Sudh\"])"
   ]
  },
  {
   "cell_type": "code",
   "execution_count": 60,
   "id": "e7e4934a-187e-4b45-ba9e-28328a5cae7b",
   "metadata": {},
   "outputs": [
    {
     "name": "stdout",
     "output_type": "stream",
     "text": [
      "['Sudh', 'Naik']\n"
     ]
    }
   ],
   "source": [
    "pw5.mentor_class([\"Sudh\",\"Naik\"])"
   ]
  },
  {
   "cell_type": "code",
   "execution_count": 61,
   "id": "6ecc71ac-6f53-4773-b565-749aa9958606",
   "metadata": {},
   "outputs": [
    {
     "name": "stdout",
     "output_type": "stream",
     "text": [
      "['Sudh', 'Naik']\n"
     ]
    }
   ],
   "source": [
    "pwskills5.mentor_class([\"Sudh\",\"Naik\"])"
   ]
  },
  {
   "cell_type": "markdown",
   "id": "bec533ca-4f9e-4c89-a6bc-45b66f81d439",
   "metadata": {},
   "source": [
    "uses :- Using static method, the classses are available to all the objects.\n"
   ]
  },
  {
   "cell_type": "markdown",
   "id": "406ba3e7-2a8e-4f7e-8915-0a87b97e21ad",
   "metadata": {},
   "source": [
    "Special Magic/Dunder Method"
   ]
  },
  {
   "cell_type": "code",
   "execution_count": 63,
   "id": "592c71be-487a-4810-ab8d-8eb9f5ccee68",
   "metadata": {},
   "outputs": [
    {
     "data": {
      "text/plain": [
       "['__abs__',\n",
       " '__add__',\n",
       " '__and__',\n",
       " '__bool__',\n",
       " '__ceil__',\n",
       " '__class__',\n",
       " '__delattr__',\n",
       " '__dir__',\n",
       " '__divmod__',\n",
       " '__doc__',\n",
       " '__eq__',\n",
       " '__float__',\n",
       " '__floor__',\n",
       " '__floordiv__',\n",
       " '__format__',\n",
       " '__ge__',\n",
       " '__getattribute__',\n",
       " '__getnewargs__',\n",
       " '__gt__',\n",
       " '__hash__',\n",
       " '__index__',\n",
       " '__init__',\n",
       " '__init_subclass__',\n",
       " '__int__',\n",
       " '__invert__',\n",
       " '__le__',\n",
       " '__lshift__',\n",
       " '__lt__',\n",
       " '__mod__',\n",
       " '__mul__',\n",
       " '__ne__',\n",
       " '__neg__',\n",
       " '__new__',\n",
       " '__or__',\n",
       " '__pos__',\n",
       " '__pow__',\n",
       " '__radd__',\n",
       " '__rand__',\n",
       " '__rdivmod__',\n",
       " '__reduce__',\n",
       " '__reduce_ex__',\n",
       " '__repr__',\n",
       " '__rfloordiv__',\n",
       " '__rlshift__',\n",
       " '__rmod__',\n",
       " '__rmul__',\n",
       " '__ror__',\n",
       " '__round__',\n",
       " '__rpow__',\n",
       " '__rrshift__',\n",
       " '__rshift__',\n",
       " '__rsub__',\n",
       " '__rtruediv__',\n",
       " '__rxor__',\n",
       " '__setattr__',\n",
       " '__sizeof__',\n",
       " '__str__',\n",
       " '__sub__',\n",
       " '__subclasshook__',\n",
       " '__truediv__',\n",
       " '__trunc__',\n",
       " '__xor__',\n",
       " 'as_integer_ratio',\n",
       " 'bit_count',\n",
       " 'bit_length',\n",
       " 'conjugate',\n",
       " 'denominator',\n",
       " 'from_bytes',\n",
       " 'imag',\n",
       " 'numerator',\n",
       " 'real',\n",
       " 'to_bytes']"
      ]
     },
     "execution_count": 63,
     "metadata": {},
     "output_type": "execute_result"
    }
   ],
   "source": [
    "dir (int)\n"
   ]
  },
  {
   "cell_type": "code",
   "execution_count": 64,
   "id": "c6fe5edc-f504-4e8a-a2f1-d8928f7cfb9d",
   "metadata": {},
   "outputs": [],
   "source": [
    "a=10"
   ]
  },
  {
   "cell_type": "code",
   "execution_count": 65,
   "id": "5002ed04-7236-4a0f-a61b-ce4b7abb2a76",
   "metadata": {},
   "outputs": [
    {
     "data": {
      "text/plain": [
       "16"
      ]
     },
     "execution_count": 65,
     "metadata": {},
     "output_type": "execute_result"
    }
   ],
   "source": [
    "a+6"
   ]
  },
  {
   "cell_type": "code",
   "execution_count": 66,
   "id": "148b8c06-3826-40a2-afd5-95a78393ff19",
   "metadata": {},
   "outputs": [
    {
     "data": {
      "text/plain": [
       "16"
      ]
     },
     "execution_count": 66,
     "metadata": {},
     "output_type": "execute_result"
    }
   ],
   "source": [
    "a.__add__(6)"
   ]
  },
  {
   "cell_type": "code",
   "execution_count": 67,
   "id": "f483643e-3767-451f-8f9f-f952a961b7ae",
   "metadata": {},
   "outputs": [
    {
     "data": {
      "text/plain": [
       "['__add__',\n",
       " '__class__',\n",
       " '__contains__',\n",
       " '__delattr__',\n",
       " '__dir__',\n",
       " '__doc__',\n",
       " '__eq__',\n",
       " '__format__',\n",
       " '__ge__',\n",
       " '__getattribute__',\n",
       " '__getitem__',\n",
       " '__getnewargs__',\n",
       " '__gt__',\n",
       " '__hash__',\n",
       " '__init__',\n",
       " '__init_subclass__',\n",
       " '__iter__',\n",
       " '__le__',\n",
       " '__len__',\n",
       " '__lt__',\n",
       " '__mod__',\n",
       " '__mul__',\n",
       " '__ne__',\n",
       " '__new__',\n",
       " '__reduce__',\n",
       " '__reduce_ex__',\n",
       " '__repr__',\n",
       " '__rmod__',\n",
       " '__rmul__',\n",
       " '__setattr__',\n",
       " '__sizeof__',\n",
       " '__str__',\n",
       " '__subclasshook__',\n",
       " 'capitalize',\n",
       " 'casefold',\n",
       " 'center',\n",
       " 'count',\n",
       " 'encode',\n",
       " 'endswith',\n",
       " 'expandtabs',\n",
       " 'find',\n",
       " 'format',\n",
       " 'format_map',\n",
       " 'index',\n",
       " 'isalnum',\n",
       " 'isalpha',\n",
       " 'isascii',\n",
       " 'isdecimal',\n",
       " 'isdigit',\n",
       " 'isidentifier',\n",
       " 'islower',\n",
       " 'isnumeric',\n",
       " 'isprintable',\n",
       " 'isspace',\n",
       " 'istitle',\n",
       " 'isupper',\n",
       " 'join',\n",
       " 'ljust',\n",
       " 'lower',\n",
       " 'lstrip',\n",
       " 'maketrans',\n",
       " 'partition',\n",
       " 'removeprefix',\n",
       " 'removesuffix',\n",
       " 'replace',\n",
       " 'rfind',\n",
       " 'rindex',\n",
       " 'rjust',\n",
       " 'rpartition',\n",
       " 'rsplit',\n",
       " 'rstrip',\n",
       " 'split',\n",
       " 'splitlines',\n",
       " 'startswith',\n",
       " 'strip',\n",
       " 'swapcase',\n",
       " 'title',\n",
       " 'translate',\n",
       " 'upper',\n",
       " 'zfill']"
      ]
     },
     "execution_count": 67,
     "metadata": {},
     "output_type": "execute_result"
    }
   ],
   "source": [
    "dir(str)"
   ]
  },
  {
   "cell_type": "code",
   "execution_count": 68,
   "id": "cc71950a-9129-479c-a550-0e26439846d6",
   "metadata": {},
   "outputs": [],
   "source": [
    "class pwskills :\n",
    "    \n",
    "    def __new__(cls) : \n",
    "        print(\"this is my new\")\n",
    "        \n",
    "    \n",
    "    def __init__(self):\n",
    "        print(\"this is my init\")"
   ]
  },
  {
   "cell_type": "code",
   "execution_count": 69,
   "id": "b95f94d5-c57e-46ec-bd2b-202d304416bf",
   "metadata": {},
   "outputs": [
    {
     "name": "stdout",
     "output_type": "stream",
     "text": [
      "this is my new\n"
     ]
    }
   ],
   "source": [
    "pw = pwskills()"
   ]
  },
  {
   "cell_type": "code",
   "execution_count": 70,
   "id": "111ed86f-2fcf-40d4-b4df-58dbfd02953e",
   "metadata": {},
   "outputs": [],
   "source": [
    "class pwskills1 :\n",
    "\n",
    "  \n",
    "    def __init__(self):\n",
    "        \n",
    "        \n",
    "        self.mobile_number = 934223424\n",
    "        \n",
    "    def __str__(self) : \n",
    "        return \"this is a magic method which will print something for object \" "
   ]
  },
  {
   "cell_type": "code",
   "execution_count": 71,
   "id": "ab12aa0c-cb7f-4870-98a2-545d9b8f7f7c",
   "metadata": {},
   "outputs": [],
   "source": [
    "pw1  = pwskills1()\n"
   ]
  },
  {
   "cell_type": "code",
   "execution_count": 72,
   "id": "8302d4f1-6e5f-4731-ad01-f332f5d8f792",
   "metadata": {},
   "outputs": [
    {
     "data": {
      "text/plain": [
       "<__main__.pwskills1 at 0x7f2bec4226b0>"
      ]
     },
     "execution_count": 72,
     "metadata": {},
     "output_type": "execute_result"
    }
   ],
   "source": [
    "pw1\n"
   ]
  },
  {
   "cell_type": "code",
   "execution_count": 73,
   "id": "ef1f41be-6be2-4381-9326-45df279d5b3d",
   "metadata": {},
   "outputs": [
    {
     "name": "stdout",
     "output_type": "stream",
     "text": [
      "this is a magic method which will print something for object \n"
     ]
    }
   ],
   "source": [
    "print(pw1)"
   ]
  },
  {
   "cell_type": "code",
   "execution_count": 74,
   "id": "23fb2492-d68e-4b69-a74c-6a0742ac4535",
   "metadata": {},
   "outputs": [
    {
     "data": {
      "text/plain": [
       "['__class__',\n",
       " '__class_getitem__',\n",
       " '__contains__',\n",
       " '__delattr__',\n",
       " '__delitem__',\n",
       " '__dir__',\n",
       " '__doc__',\n",
       " '__eq__',\n",
       " '__format__',\n",
       " '__ge__',\n",
       " '__getattribute__',\n",
       " '__getitem__',\n",
       " '__gt__',\n",
       " '__hash__',\n",
       " '__init__',\n",
       " '__init_subclass__',\n",
       " '__ior__',\n",
       " '__iter__',\n",
       " '__le__',\n",
       " '__len__',\n",
       " '__lt__',\n",
       " '__ne__',\n",
       " '__new__',\n",
       " '__or__',\n",
       " '__reduce__',\n",
       " '__reduce_ex__',\n",
       " '__repr__',\n",
       " '__reversed__',\n",
       " '__ror__',\n",
       " '__setattr__',\n",
       " '__setitem__',\n",
       " '__sizeof__',\n",
       " '__str__',\n",
       " '__subclasshook__',\n",
       " 'clear',\n",
       " 'copy',\n",
       " 'fromkeys',\n",
       " 'get',\n",
       " 'items',\n",
       " 'keys',\n",
       " 'pop',\n",
       " 'popitem',\n",
       " 'setdefault',\n",
       " 'update',\n",
       " 'values']"
      ]
     },
     "execution_count": 74,
     "metadata": {},
     "output_type": "execute_result"
    }
   ],
   "source": [
    "dir(dict)"
   ]
  },
  {
   "cell_type": "code",
   "execution_count": 75,
   "id": "e54686d9-e7e0-4fb0-9536-3fc034dff801",
   "metadata": {},
   "outputs": [
    {
     "data": {
      "text/plain": [
       "['__add__',\n",
       " '__class__',\n",
       " '__class_getitem__',\n",
       " '__contains__',\n",
       " '__delattr__',\n",
       " '__dir__',\n",
       " '__doc__',\n",
       " '__eq__',\n",
       " '__format__',\n",
       " '__ge__',\n",
       " '__getattribute__',\n",
       " '__getitem__',\n",
       " '__getnewargs__',\n",
       " '__gt__',\n",
       " '__hash__',\n",
       " '__init__',\n",
       " '__init_subclass__',\n",
       " '__iter__',\n",
       " '__le__',\n",
       " '__len__',\n",
       " '__lt__',\n",
       " '__mul__',\n",
       " '__ne__',\n",
       " '__new__',\n",
       " '__reduce__',\n",
       " '__reduce_ex__',\n",
       " '__repr__',\n",
       " '__rmul__',\n",
       " '__setattr__',\n",
       " '__sizeof__',\n",
       " '__str__',\n",
       " '__subclasshook__',\n",
       " 'count',\n",
       " 'index']"
      ]
     },
     "execution_count": 75,
     "metadata": {},
     "output_type": "execute_result"
    }
   ],
   "source": [
    "dir(tuple)"
   ]
  },
  {
   "cell_type": "code",
   "execution_count": null,
   "id": "338bd882-02cc-4af3-bdeb-b3de55bd6fec",
   "metadata": {},
   "outputs": [],
   "source": []
  },
  {
   "cell_type": "code",
   "execution_count": null,
   "id": "dca3c36e-9cc4-40f8-b41e-b044d675211d",
   "metadata": {},
   "outputs": [],
   "source": []
  },
  {
   "cell_type": "markdown",
   "id": "fdb243b5-5c43-41fe-9c9d-4b92f7bc91b7",
   "metadata": {},
   "source": [
    "Property Decorator"
   ]
  },
  {
   "cell_type": "markdown",
   "id": "36c4bdb8-4ae6-4a5a-96a1-b40fe58d06f6",
   "metadata": {},
   "source": [
    "property decorator makes the private objects in a class visible to the clients."
   ]
  },
  {
   "cell_type": "code",
   "execution_count": 76,
   "id": "20600f98-51f5-433e-a648-e5fe004662bc",
   "metadata": {},
   "outputs": [],
   "source": [
    "class pwskills10():\n",
    "    def __init__(self,course_price,course_name):\n",
    "        self.__course_price=course_price\n",
    "        self.course_name=course_name\n",
    "    \n",
    "    @property\n",
    "    def course_price_access(self):\n",
    "        return self.__course_price\n",
    "    \n",
    "    @course_price_access.setter\n",
    "    def course_price_set(self,price):\n",
    "        if price<=3500:\n",
    "            pass\n",
    "        else:\n",
    "            self.__course_price=price\n",
    "    \n",
    "    @course_price_access.deleter\n",
    "    def course_price_del(self):\n",
    "        del self.__course_price"
   ]
  },
  {
   "cell_type": "code",
   "execution_count": 78,
   "id": "33784de8-196b-452c-82af-e2622c563c5e",
   "metadata": {},
   "outputs": [],
   "source": [
    "pw=pwskills10(3500,\"data science masters\")"
   ]
  },
  {
   "cell_type": "code",
   "execution_count": 79,
   "id": "2e588c09-0463-4712-ac21-aa3f700dfdfa",
   "metadata": {},
   "outputs": [
    {
     "data": {
      "text/plain": [
       "3500"
      ]
     },
     "execution_count": 79,
     "metadata": {},
     "output_type": "execute_result"
    }
   ],
   "source": [
    "pw.course_price_access"
   ]
  },
  {
   "cell_type": "code",
   "execution_count": 81,
   "id": "670beff6-ba9d-43a3-91c0-317bcc181f0e",
   "metadata": {},
   "outputs": [],
   "source": [
    "del pw.course_price_del\n"
   ]
  },
  {
   "cell_type": "code",
   "execution_count": 82,
   "id": "0c5914cc-c706-4024-b168-050287d75142",
   "metadata": {},
   "outputs": [
    {
     "ename": "AttributeError",
     "evalue": "'pwskills10' object has no attribute '_pwskills10__course_price'",
     "output_type": "error",
     "traceback": [
      "\u001b[0;31m---------------------------------------------------------------------------\u001b[0m",
      "\u001b[0;31mAttributeError\u001b[0m                            Traceback (most recent call last)",
      "Cell \u001b[0;32mIn[82], line 1\u001b[0m\n\u001b[0;32m----> 1\u001b[0m \u001b[43mpw\u001b[49m\u001b[38;5;241;43m.\u001b[39;49m\u001b[43mcourse_price_access\u001b[49m\n",
      "Cell \u001b[0;32mIn[76], line 8\u001b[0m, in \u001b[0;36mpwskills10.course_price_access\u001b[0;34m(self)\u001b[0m\n\u001b[1;32m      6\u001b[0m \u001b[38;5;129m@property\u001b[39m\n\u001b[1;32m      7\u001b[0m \u001b[38;5;28;01mdef\u001b[39;00m \u001b[38;5;21mcourse_price_access\u001b[39m(\u001b[38;5;28mself\u001b[39m):\n\u001b[0;32m----> 8\u001b[0m     \u001b[38;5;28;01mreturn\u001b[39;00m \u001b[38;5;28;43mself\u001b[39;49m\u001b[38;5;241;43m.\u001b[39;49m\u001b[43m__course_price\u001b[49m\n",
      "\u001b[0;31mAttributeError\u001b[0m: 'pwskills10' object has no attribute '_pwskills10__course_price'"
     ]
    }
   ],
   "source": [
    "pw.course_price_access"
   ]
  },
  {
   "cell_type": "code",
   "execution_count": null,
   "id": "d507a275-06e0-4c0c-b061-82d571642608",
   "metadata": {},
   "outputs": [],
   "source": []
  }
 ],
 "metadata": {
  "kernelspec": {
   "display_name": "Python 3 (ipykernel)",
   "language": "python",
   "name": "python3"
  },
  "language_info": {
   "codemirror_mode": {
    "name": "ipython",
    "version": 3
   },
   "file_extension": ".py",
   "mimetype": "text/x-python",
   "name": "python",
   "nbconvert_exporter": "python",
   "pygments_lexer": "ipython3",
   "version": "3.10.8"
  }
 },
 "nbformat": 4,
 "nbformat_minor": 5
}
