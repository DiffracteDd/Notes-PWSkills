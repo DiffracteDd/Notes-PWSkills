{
 "cells": [
  {
   "cell_type": "code",
   "execution_count": 1,
   "id": "b4fbf8bd-c8cf-40c1-a819-c5ca78bea7d1",
   "metadata": {},
   "outputs": [],
   "source": [
    "class pwskills1:\n",
    "    def __init__(self,phone_number,email_id,student_id):\n",
    "        self.phone_number=phone_number\n",
    "        self.email_id=email_id\n",
    "        self.student_id=student_id\n",
    "        \n",
    "    def return_student_details(self):\n",
    "        return self.phone_number,self.email_id,self.student_id"
   ]
  },
  {
   "cell_type": "code",
   "execution_count": 2,
   "id": "3ae71c4b-1c48-4f1e-993d-0f68b1d520fd",
   "metadata": {},
   "outputs": [],
   "source": [
    "rohan=pwskills1(858403,\"rohan@gmail.com\",101)"
   ]
  },
  {
   "cell_type": "code",
   "execution_count": 3,
   "id": "be12a2c0-205d-4494-b2fa-b8d7e827ba03",
   "metadata": {},
   "outputs": [
    {
     "data": {
      "text/plain": [
       "858403"
      ]
     },
     "execution_count": 3,
     "metadata": {},
     "output_type": "execute_result"
    }
   ],
   "source": [
    "rohan.phone_number"
   ]
  },
  {
   "cell_type": "code",
   "execution_count": 4,
   "id": "3a5ff620-9437-4f4e-a5ec-912ddf16b0f8",
   "metadata": {},
   "outputs": [
    {
     "data": {
      "text/plain": [
       "'rohan@gmail.com'"
      ]
     },
     "execution_count": 4,
     "metadata": {},
     "output_type": "execute_result"
    }
   ],
   "source": [
    "rohan.email_id"
   ]
  },
  {
   "cell_type": "code",
   "execution_count": 5,
   "id": "762d9a4f-e0b4-4fce-a6dd-fa4c30c6e2cc",
   "metadata": {},
   "outputs": [
    {
     "data": {
      "text/plain": [
       "101"
      ]
     },
     "execution_count": 5,
     "metadata": {},
     "output_type": "execute_result"
    }
   ],
   "source": [
    "rohan.student_id"
   ]
  },
  {
   "cell_type": "code",
   "execution_count": 7,
   "id": "d7bb391f-c306-4d7f-a06c-1604c517c8c6",
   "metadata": {},
   "outputs": [
    {
     "data": {
      "text/plain": [
       "(858403, 'rohan@gmail.com', 101)"
      ]
     },
     "execution_count": 7,
     "metadata": {},
     "output_type": "execute_result"
    }
   ],
   "source": [
    "rohan.return_student_details()"
   ]
  },
  {
   "cell_type": "code",
   "execution_count": 19,
   "id": "48a350b0-d02a-48ac-a11a-34443f2fd060",
   "metadata": {},
   "outputs": [],
   "source": [
    "class pwskills2:\n",
    "    def __init__(sudh,phone_number,email_id,student_id):\n",
    "        sudh.phone_number=phone_number\n",
    "        sudh.email_id=email_id\n",
    "        sudh.student_id=student_id\n",
    "        \n",
    "    def return_student_details(sudh):\n",
    "        return sudh.phone_number,sudh.email_id,sudh.student_id"
   ]
  },
  {
   "cell_type": "code",
   "execution_count": 20,
   "id": "9e1b01cc-ee02-4548-8e73-1052876e4b7b",
   "metadata": {},
   "outputs": [],
   "source": [
    "sohan=pwskills2(123456789,\"sd@gmail.com\",234)"
   ]
  },
  {
   "cell_type": "code",
   "execution_count": 21,
   "id": "6b00d964-52a4-4530-837f-c5ac3e2a5e6b",
   "metadata": {},
   "outputs": [
    {
     "data": {
      "text/plain": [
       "(123456789, 'sd@gmail.com', 234)"
      ]
     },
     "execution_count": 21,
     "metadata": {},
     "output_type": "execute_result"
    }
   ],
   "source": [
    "sohan.return_student_details()"
   ]
  },
  {
   "cell_type": "code",
   "execution_count": 10,
   "id": "a320b1c0-620c-4897-9e88-7b616658f3a9",
   "metadata": {},
   "outputs": [
    {
     "data": {
      "text/plain": [
       "123456789"
      ]
     },
     "execution_count": 10,
     "metadata": {},
     "output_type": "execute_result"
    }
   ],
   "source": [
    "sohan.phone_number"
   ]
  },
  {
   "cell_type": "code",
   "execution_count": 11,
   "id": "db980bf6-bff0-485a-af6e-80cdabba8728",
   "metadata": {},
   "outputs": [
    {
     "data": {
      "text/plain": [
       "'sd@gmail.com'"
      ]
     },
     "execution_count": 11,
     "metadata": {},
     "output_type": "execute_result"
    }
   ],
   "source": [
    "sohan.email_id\n"
   ]
  },
  {
   "cell_type": "code",
   "execution_count": 14,
   "id": "1ffc693c-59c2-44fe-b53e-882e20437c30",
   "metadata": {},
   "outputs": [
    {
     "data": {
      "text/plain": [
       "234"
      ]
     },
     "execution_count": 14,
     "metadata": {},
     "output_type": "execute_result"
    }
   ],
   "source": [
    "sohan.student_id"
   ]
  },
  {
   "cell_type": "markdown",
   "id": "d52fb780-0fbf-425a-b918-fa843cafad4f",
   "metadata": {},
   "source": [
    "A class always acceses it's variable ."
   ]
  },
  {
   "cell_type": "code",
   "execution_count": 4,
   "id": "a52eec1b-89e4-4460-b9fd-bd2c40a6edd4",
   "metadata": {},
   "outputs": [],
   "source": [
    "class pwskills3:\n",
    "    def __init__(sudh,phone_number,email_id,student_id):\n",
    "        sudh.phone_number1=phone_number\n",
    "        sudh.email_id=email_id\n",
    "        sudh.student_id=student_id\n",
    "        \n",
    "    def return_student_details(sudh):\n",
    "        return sudh.phone_number1,sudh.email_id,sudh.student_id"
   ]
  },
  {
   "cell_type": "code",
   "execution_count": 5,
   "id": "8dda4033-5434-4210-b381-ba84fe3197c2",
   "metadata": {},
   "outputs": [],
   "source": [
    "sohan=pwskills3(123456789,\"sd@gmail.com\",234)"
   ]
  },
  {
   "cell_type": "code",
   "execution_count": 6,
   "id": "c4fc3cf4-d633-43ec-b199-3bb19e810ad9",
   "metadata": {},
   "outputs": [
    {
     "data": {
      "text/plain": [
       "123456789"
      ]
     },
     "execution_count": 6,
     "metadata": {},
     "output_type": "execute_result"
    }
   ],
   "source": [
    "sohan.phone_number1"
   ]
  },
  {
   "cell_type": "markdown",
   "id": "c4486598-c336-463a-8945-97120f2d12c6",
   "metadata": {},
   "source": [
    "ENCAPSULATION"
   ]
  },
  {
   "cell_type": "code",
   "execution_count": 7,
   "id": "5b2f325c-e609-4170-84c9-f8b80c3a4525",
   "metadata": {},
   "outputs": [],
   "source": [
    "class test :\n",
    "    def __init__(self,a,b):\n",
    "        self.a=a\n",
    "        self.b=b\n",
    "        "
   ]
  },
  {
   "cell_type": "code",
   "execution_count": 8,
   "id": "78dfba3a-a586-47dc-a790-dbadf5ee157f",
   "metadata": {},
   "outputs": [],
   "source": [
    "t=test(45,56)"
   ]
  },
  {
   "cell_type": "code",
   "execution_count": 9,
   "id": "cc518123-9352-4d29-bf7e-7c69f839082b",
   "metadata": {},
   "outputs": [
    {
     "data": {
      "text/plain": [
       "45"
      ]
     },
     "execution_count": 9,
     "metadata": {},
     "output_type": "execute_result"
    }
   ],
   "source": [
    "t.a"
   ]
  },
  {
   "cell_type": "code",
   "execution_count": 10,
   "id": "b822639f-49d7-470b-a56b-e6e453b0553b",
   "metadata": {},
   "outputs": [
    {
     "data": {
      "text/plain": [
       "56"
      ]
     },
     "execution_count": 10,
     "metadata": {},
     "output_type": "execute_result"
    }
   ],
   "source": [
    "t.b"
   ]
  },
  {
   "cell_type": "markdown",
   "id": "48da1398-2d6c-430e-a6b7-7c46a60cca37",
   "metadata": {},
   "source": [
    "The user should not be able to change the values of the class objects. This is done by data encapsulation."
   ]
  },
  {
   "cell_type": "code",
   "execution_count": 12,
   "id": "f216c08f-1d06-41ac-b32f-f37f61f4397f",
   "metadata": {},
   "outputs": [],
   "source": [
    "class car:\n",
    "    def __init__(self,year,make,model,speed):\n",
    "        self.__year=year\n",
    "        self.__make=make\n",
    "        self.__model=model\n",
    "        self.__speed=speed"
   ]
  },
  {
   "cell_type": "code",
   "execution_count": 13,
   "id": "c0880593-bffd-4aa9-8dfa-125424312b0b",
   "metadata": {},
   "outputs": [],
   "source": [
    "obj_car=car(2021,'Toyota','Innova',12)"
   ]
  },
  {
   "cell_type": "markdown",
   "id": "0ab7487a-549f-45bf-ad39-a8fe3748dd19",
   "metadata": {},
   "source": [
    "after \"obj_car.\" if we press tab then we wont be able to see any suggestions. This is because the oobjects are made private and the user cannot modify\n",
    "them. This is done by thee \"__\" (double underscore)."
   ]
  },
  {
   "cell_type": "code",
   "execution_count": 14,
   "id": "8a2f7b9f-a707-4fbd-a547-b5ddd7ba0729",
   "metadata": {},
   "outputs": [
    {
     "data": {
      "text/plain": [
       "2021"
      ]
     },
     "execution_count": 14,
     "metadata": {},
     "output_type": "execute_result"
    }
   ],
   "source": [
    "obj_car._car__year"
   ]
  },
  {
   "cell_type": "code",
   "execution_count": 45,
   "id": "3a165266-7c23-4e20-83e1-3e654625e5ac",
   "metadata": {},
   "outputs": [],
   "source": [
    "class car:\n",
    "    def __init__(self,year,make,model,speed):\n",
    "        self.__year=year\n",
    "        self.__make=make\n",
    "        self.__model=model\n",
    "        self.__speed=speed\n",
    "    def set_speed(self,speed):\n",
    "        self.__speed=0 if speed < 0 else speed \n",
    "    def get_speed(self):\n",
    "        return self._speed"
   ]
  },
  {
   "cell_type": "code",
   "execution_count": 47,
   "id": "2799dc66-e1a9-4933-959e-db77d196d0ae",
   "metadata": {},
   "outputs": [
    {
     "ename": "NameError",
     "evalue": "name '__init__' is not defined",
     "output_type": "error",
     "traceback": [
      "\u001b[0;31m---------------------------------------------------------------------------\u001b[0m",
      "\u001b[0;31mNameError\u001b[0m                                 Traceback (most recent call last)",
      "Cell \u001b[0;32mIn[47], line 1\u001b[0m\n\u001b[0;32m----> 1\u001b[0m obj2\u001b[38;5;241m=\u001b[39m\u001b[38;5;21;43m__init__\u001b[39;49m\n\u001b[1;32m      2\u001b[0m obj2\u001b[38;5;241m.\u001b[39mset_speed(\u001b[38;5;241m12\u001b[39m)\n",
      "\u001b[0;31mNameError\u001b[0m: name '__init__' is not defined"
     ]
    }
   ],
   "source": [
    "obj2=__init__\n",
    "obj2.set_speed(12)"
   ]
  },
  {
   "cell_type": "markdown",
   "id": "dfe10e5d-9e5f-4885-b617-cf0e89c16961",
   "metadata": {},
   "source": [
    "Inheritance"
   ]
  },
  {
   "cell_type": "code",
   "execution_count": null,
   "id": "7f04b22f-ac83-4d50-aa7f-ae9e963ea476",
   "metadata": {},
   "outputs": [],
   "source": []
  },
  {
   "cell_type": "code",
   "execution_count": null,
   "id": "57737998-ed08-48e6-9b8d-8cb598b63961",
   "metadata": {},
   "outputs": [],
   "source": []
  },
  {
   "cell_type": "code",
   "execution_count": 26,
   "id": "07f5f476-2bd4-47ef-9806-df18ed2f1d9d",
   "metadata": {},
   "outputs": [],
   "source": [
    "class parent:\n",
    "    def test_parent(self):\n",
    "        print(\"this is my parent class\")"
   ]
  },
  {
   "cell_type": "code",
   "execution_count": 27,
   "id": "de3b7b4a-9d08-4de4-9a2b-bddc89d0995b",
   "metadata": {},
   "outputs": [],
   "source": [
    "class child(parent):\n",
    "    pass\n"
   ]
  },
  {
   "cell_type": "code",
   "execution_count": 28,
   "id": "3d4ccf12-3c1d-435d-9c34-0d271f556169",
   "metadata": {},
   "outputs": [],
   "source": [
    "child_obj=child()\n",
    "    "
   ]
  },
  {
   "cell_type": "code",
   "execution_count": 29,
   "id": "e603197b-7c37-477f-8eb8-f466bf92e685",
   "metadata": {},
   "outputs": [
    {
     "name": "stdout",
     "output_type": "stream",
     "text": [
      "this is my parent class\n"
     ]
    }
   ],
   "source": [
    "child_obj.test_parent()"
   ]
  },
  {
   "cell_type": "markdown",
   "id": "58161723-1269-414f-98d2-d38267033d3e",
   "metadata": {},
   "source": [
    "Multi level Inheritance"
   ]
  },
  {
   "cell_type": "code",
   "execution_count": 30,
   "id": "8f920c37-1a9d-47eb-a209-fae87c6056f1",
   "metadata": {},
   "outputs": [],
   "source": [
    "class class1:\n",
    "    def testclass1(self):\n",
    "        print(\"This is class1\")\n",
    "class class2(class1):\n",
    "    def testclass2(self):\n",
    "        print(\"This is class2\")\n",
    "class class3(class2):\n",
    "    def testclass3(self):\n",
    "        print(\"This is class3\")"
   ]
  },
  {
   "cell_type": "code",
   "execution_count": 34,
   "id": "7242dfa1-4a0c-46df-af70-4b0294f73e97",
   "metadata": {},
   "outputs": [],
   "source": [
    "obj_class3 = class3()"
   ]
  },
  {
   "cell_type": "code",
   "execution_count": 36,
   "id": "f43314ac-51cc-46ea-9f21-095af87edd23",
   "metadata": {},
   "outputs": [
    {
     "name": "stdout",
     "output_type": "stream",
     "text": [
      "This is class1\n"
     ]
    }
   ],
   "source": [
    "obj_class3.testclass1()"
   ]
  },
  {
   "cell_type": "code",
   "execution_count": 37,
   "id": "f843e2f4-3197-4286-a3cd-c64052e3bd56",
   "metadata": {},
   "outputs": [
    {
     "name": "stdout",
     "output_type": "stream",
     "text": [
      "This is class2\n"
     ]
    }
   ],
   "source": [
    "obj_class3.testclass2()"
   ]
  },
  {
   "cell_type": "markdown",
   "id": "c5bcf953-6c9f-444a-8fdb-05154e44bd98",
   "metadata": {},
   "source": [
    "Multiple Inheritance"
   ]
  },
  {
   "cell_type": "code",
   "execution_count": 40,
   "id": "b3ae9601-3cda-4cfe-a2d1-46ae52381e62",
   "metadata": {},
   "outputs": [],
   "source": [
    "class class1:\n",
    "    def testclass1(self):\n",
    "        print(\"This is class1\")\n",
    "class class2:\n",
    "    def testclass2(self):\n",
    "        print(\"This is class2\")\n",
    "class class3(class1,class2):\n",
    "    pass"
   ]
  },
  {
   "cell_type": "code",
   "execution_count": 41,
   "id": "4460b6af-5514-4811-969f-ecbe4c8b1e1c",
   "metadata": {},
   "outputs": [],
   "source": [
    "cl3=class3()\n"
   ]
  },
  {
   "cell_type": "code",
   "execution_count": 42,
   "id": "a7b21019-5903-401e-b801-32be4ca148a8",
   "metadata": {},
   "outputs": [
    {
     "name": "stdout",
     "output_type": "stream",
     "text": [
      "This is class1\n"
     ]
    }
   ],
   "source": [
    "cl3.testclass1()"
   ]
  },
  {
   "cell_type": "code",
   "execution_count": 43,
   "id": "fd36d028-0d2f-4657-83b5-0aa77ec6a2d4",
   "metadata": {},
   "outputs": [
    {
     "name": "stdout",
     "output_type": "stream",
     "text": [
      "This is class2\n"
     ]
    }
   ],
   "source": [
    "cl3.testclass2()"
   ]
  },
  {
   "cell_type": "code",
   "execution_count": null,
   "id": "c5c93f35-c542-4b98-9f3b-0b05b1dde114",
   "metadata": {},
   "outputs": [],
   "source": []
  }
 ],
 "metadata": {
  "kernelspec": {
   "display_name": "Python 3 (ipykernel)",
   "language": "python",
   "name": "python3"
  },
  "language_info": {
   "codemirror_mode": {
    "name": "ipython",
    "version": 3
   },
   "file_extension": ".py",
   "mimetype": "text/x-python",
   "name": "python",
   "nbconvert_exporter": "python",
   "pygments_lexer": "ipython3",
   "version": "3.10.8"
  }
 },
 "nbformat": 4,
 "nbformat_minor": 5
}
