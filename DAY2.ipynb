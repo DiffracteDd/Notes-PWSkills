{
 "cells": [
  {
   "cell_type": "code",
   "execution_count": 1,
   "id": "fbf0c8af-13ca-462e-9412-3b8206941d6f",
   "metadata": {},
   "outputs": [
    {
     "name": "stdout",
     "output_type": "stream",
     "text": [
      "Hello World\n"
     ]
    }
   ],
   "source": [
    "print('Hello World')\n"
   ]
  },
  {
   "cell_type": "code",
   "execution_count": 2,
   "id": "38783d4b-49ec-41e2-9e95-3cc91ca35e2c",
   "metadata": {},
   "outputs": [
    {
     "name": "stdout",
     "output_type": "stream",
     "text": [
      "my age is : 32\n"
     ]
    }
   ],
   "source": [
    "age=32\n",
    "print(\"my age is :\",age)"
   ]
  },
  {
   "cell_type": "code",
   "execution_count": 4,
   "id": "e9a28a53-7dbb-4c4f-8118-1d67ce7983a6",
   "metadata": {},
   "outputs": [
    {
     "name": "stdout",
     "output_type": "stream",
     "text": [
      "my age is : 32\n"
     ]
    }
   ],
   "source": [
    "print(f\"my age is : {age}\")\n",
    "\n",
    "      "
   ]
  },
  {
   "cell_type": "code",
   "execution_count": 1,
   "id": "911499ae-9106-4c86-a805-5ca9ef4f8510",
   "metadata": {},
   "outputs": [
    {
     "name": "stdout",
     "output_type": "stream",
     "text": [
      "my age is 20 and I have completed my degree of btech with the name of Soumik\n"
     ]
    }
   ],
   "source": [
    "## format(), placeholder\n",
    "age=20\n",
    "name='Soumik'\n",
    "degree='btech'\n",
    "print(\"my age is {a} and I have completed my degree of {d} with the name of {n}\".format(a=age,d=degree,n=name))"
   ]
  },
  {
   "cell_type": "code",
   "execution_count": 4,
   "id": "b2c09fbd-9153-48ec-81f6-5c284ff2673d",
   "metadata": {},
   "outputs": [
    {
     "name": "stdout",
     "output_type": "stream",
     "text": [
      "my age is 20 and I have completed my degree of btech with the name of Soumik\n"
     ]
    }
   ],
   "source": [
    "## formatting(f)\n",
    "print(f\"my age is {age} and I have completed my degree of {degree} with the name of {name}\")"
   ]
  },
  {
   "cell_type": "raw",
   "id": "35eece3c-c392-42ea-b89f-ffeacf94ca44",
   "metadata": {},
   "source": [
    "## if and input command\n",
    "age=int(input(\"enter your age :\"))\n",
    "if age>18 and age<=45:\n",
    "    print(\"young blood\")\n",
    "else:\n",
    "        print(\"Thank you, we will let you know\")"
   ]
  },
  {
   "cell_type": "code",
   "execution_count": 3,
   "id": "120015b4-6cfe-400c-95bb-2e4c14eac0bf",
   "metadata": {},
   "outputs": [
    {
     "name": "stdin",
     "output_type": "stream",
     "text": [
      "Enter price 200\n"
     ]
    },
    {
     "name": "stdout",
     "output_type": "stream",
     "text": [
      "price required to be paid after discount : 140.0\n"
     ]
    }
   ],
   "source": [
    "price=int(input(\"Enter price\"))\n",
    "if price>1000:\n",
    "    print(\"price required to be paid after discount :\",(price-0.2*price))\n",
    "else :\n",
    "    print(\"price required to be paid after discount :\",(price-0.3*price))"
   ]
  },
  {
   "cell_type": "code",
   "execution_count": 8,
   "id": "e402ab1f-4581-41c6-8081-b97443b2b59c",
   "metadata": {
    "tags": []
   },
   "outputs": [
    {
     "name": "stdin",
     "output_type": "stream",
     "text": [
      "Enter price 2010\n"
     ]
    },
    {
     "name": "stdout",
     "output_type": "stream",
     "text": [
      "price required to be paid after discount : 1407.0\n"
     ]
    }
   ],
   "source": [
    "price=int(input(\"Enter price\"))\n",
    "if price>3000:\n",
    "    print(\"price required to be paid after discount :\",(price-0.2*price))\n",
    "elif price >=2000 and price < 3000:\n",
    "    print(\"price required to be paid after discount :\",(price-0.3*price))\n",
    "elif price >=1000 and price < 2000:\n",
    "    print(\"price required to be paid after discount :\",(price-0.4*price))\n"
   ]
  },
  {
   "cell_type": "code",
   "execution_count": null,
   "id": "8de1539a-ab18-4b9a-ac7c-59f6dc8a906e",
   "metadata": {},
   "outputs": [],
   "source": []
  }
 ],
 "metadata": {
  "kernelspec": {
   "display_name": "Python 3 (ipykernel)",
   "language": "python",
   "name": "python3"
  },
  "language_info": {
   "codemirror_mode": {
    "name": "ipython",
    "version": 3
   },
   "file_extension": ".py",
   "mimetype": "text/x-python",
   "name": "python",
   "nbconvert_exporter": "python",
   "pygments_lexer": "ipython3",
   "version": "3.10.8"
  }
 },
 "nbformat": 4,
 "nbformat_minor": 5
}
