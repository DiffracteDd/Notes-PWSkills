{
 "cells": [
  {
   "cell_type": "code",
   "execution_count": 1,
   "id": "81404795-a528-43e3-8bf3-5810cb4f3ee9",
   "metadata": {},
   "outputs": [],
   "source": [
    "import requests\n",
    "from bs4 import BeautifulSoup as bs\n",
    "from urllib.request import urlopen\n",
    "import logging\n"
   ]
  },
  {
   "cell_type": "code",
   "execution_count": 2,
   "id": "67596eeb-3a4a-4d34-9c09-0866f1fc4432",
   "metadata": {},
   "outputs": [],
   "source": [
    "flipkart_url=\"https://www.flipkart.com/search?q=\" + \"iphone12pro\""
   ]
  },
  {
   "cell_type": "code",
   "execution_count": 3,
   "id": "bfcc054e-818b-4e1b-a448-7cad6dd81001",
   "metadata": {},
   "outputs": [
    {
     "data": {
      "text/plain": [
       "'https://www.flipkart.com/search?q=iphone12pro'"
      ]
     },
     "execution_count": 3,
     "metadata": {},
     "output_type": "execute_result"
    }
   ],
   "source": [
    "flipkart_url"
   ]
  },
  {
   "cell_type": "code",
   "execution_count": 4,
   "id": "feb3a54c-a292-479e-ba4b-80fb1e13431a",
   "metadata": {},
   "outputs": [],
   "source": [
    "#we got the url but what we need is to open the url in our python function \n",
    "#In order to do so, we use the \"urlopen\" module"
   ]
  },
  {
   "cell_type": "code",
   "execution_count": 5,
   "id": "0ad4bfe2-5da3-4f5e-8e38-d147f67c2ea6",
   "metadata": {},
   "outputs": [],
   "source": [
    "urlclient=urlopen(flipkart_url)"
   ]
  },
  {
   "cell_type": "code",
   "execution_count": 6,
   "id": "4d9cd5aa-cf2b-4798-84c6-24dfa61786de",
   "metadata": {},
   "outputs": [],
   "source": [
    "#Now to get the data stored in the flipkart_url , we use the read function"
   ]
  },
  {
   "cell_type": "code",
   "execution_count": 7,
   "id": "3ec0e82c-503e-4089-8b12-5fd0ddcf7943",
   "metadata": {},
   "outputs": [],
   "source": [
    "flipkart_page=urlclient.read()#stores all the data in the url "
   ]
  },
  {
   "cell_type": "code",
   "execution_count": 8,
   "id": "20475236-c3e6-48d1-99d4-113852137fc7",
   "metadata": {},
   "outputs": [],
   "source": [
    "flipkart_html= bs(flipkart_page,'html.parser') \n",
    "#bs is the alias used for BeautifulSoap.\n",
    "#BeautifulSoap is used to beautify the code, it transforms a part of the code into user readable format"
   ]
  },
  {
   "cell_type": "code",
   "execution_count": 9,
   "id": "4bedeb60-781b-4ece-8310-23d01e30cd52",
   "metadata": {},
   "outputs": [],
   "source": [
    "#Now we concatenate the href from the webpage using F12 and the flipkart_url till \"/\"."
   ]
  },
  {
   "cell_type": "code",
   "execution_count": 10,
   "id": "91ce50fa-a05b-4535-bab5-75f25157fe20",
   "metadata": {},
   "outputs": [
    {
     "data": {
      "text/plain": [
       "'https://www.flipkart.com/apple-iphone-13-green-128-gb/p/itm18a55937b2607?pid=MOBGC9VGSU9DWGJZ&lid=LSTMOBGC9VGSU9DWGJZ0Q1T8E&marketplace=FLIPKART&q=iphone+13&store=tyy%2F4io&srno=s_1_1&otracker=AS_QueryStore_OrganicAutoSuggest_1_3_na_na_na&otracker1=AS_QueryStore_OrganicAutoSuggest_1_3_na_na_na&fm=organic&iid=1069182d-bbe4-4224-83d3-05992f53cf59.MOBGC9VGSU9DWGJZ.SEARCH&ppt=hp&ppn=homepage&ssid=bd9ttj7neo0000001679324931876&qH=c68a3b83214bb235'"
      ]
     },
     "execution_count": 10,
     "metadata": {},
     "output_type": "execute_result"
    }
   ],
   "source": [
    "\"https://www.flipkart.com\"+\"/apple-iphone-13-green-128-gb/p/itm18a55937b2607?pid=MOBGC9VGSU9DWGJZ&lid=LSTMOBGC9VGSU9DWGJZ0Q1T8E&marketplace=FLIPKART&q=iphone+13&store=tyy%2F4io&srno=s_1_1&otracker=AS_QueryStore_OrganicAutoSuggest_1_3_na_na_na&otracker1=AS_QueryStore_OrganicAutoSuggest_1_3_na_na_na&fm=organic&iid=1069182d-bbe4-4224-83d3-05992f53cf59.MOBGC9VGSU9DWGJZ.SEARCH&ppt=hp&ppn=homepage&ssid=bd9ttj7neo0000001679324931876&qH=c68a3b83214bb235\""
   ]
  },
  {
   "cell_type": "code",
   "execution_count": 11,
   "id": "c1e0824f-0200-425e-ba24-ccc7cddc5f0d",
   "metadata": {},
   "outputs": [],
   "source": [
    "#Now we collect all the big boxes in the html page which contains data "
   ]
  },
  {
   "cell_type": "code",
   "execution_count": 12,
   "id": "96686ab8-3058-437f-aa5a-74d8f5562e82",
   "metadata": {},
   "outputs": [],
   "source": [
    "bigbox=flipkart_html.find_all(\"div\",{\"class\":\"_1AtVbE col-12-12\"})"
   ]
  },
  {
   "cell_type": "code",
   "execution_count": 13,
   "id": "aba7f729-7ad0-475e-bb3f-593eab916860",
   "metadata": {},
   "outputs": [
    {
     "data": {
      "text/plain": [
       "29"
      ]
     },
     "execution_count": 13,
     "metadata": {},
     "output_type": "execute_result"
    }
   ],
   "source": [
    "len(bigbox) # indicates that total 29 objects have been found "
   ]
  },
  {
   "cell_type": "code",
   "execution_count": 14,
   "id": "c1fac933-1eb9-4623-824f-1af4d409644d",
   "metadata": {},
   "outputs": [],
   "source": [
    "del bigbox[0:3] #deleting the first thee big boxes since they contain irelevant info like heading etc"
   ]
  },
  {
   "cell_type": "code",
   "execution_count": 15,
   "id": "a5f32b72-1c0b-4ae3-a352-2e5935317e57",
   "metadata": {},
   "outputs": [],
   "source": [
    "#In order to reach the href tag which is enclosed inside multiple div tags , we use this method"
   ]
  },
  {
   "cell_type": "code",
   "execution_count": 16,
   "id": "9a5b51b2-7d3c-4b26-9a24-fda88d326a97",
   "metadata": {},
   "outputs": [
    {
     "data": {
      "text/plain": [
       "'/apple-iphone-12-pro-gold-512-gb/p/itm157b3be191fd1?pid=MOBFWBYZGKFYVTWH&lid=LSTMOBFWBYZGKFYVTWHR65UKC&marketplace=FLIPKART&q=iphone12pro&store=tyy%2F4io&srno=s_1_2&otracker=search&fm=organic&iid=8bb7d23c-efc8-420e-9d86-852e76d67cc9.MOBFWBYZGKFYVTWH.SEARCH&ppt=None&ppn=None&ssid=xs4du7i7k00000001679374991137&qH=712933e6bd68e7b9'"
      ]
     },
     "execution_count": 16,
     "metadata": {},
     "output_type": "execute_result"
    }
   ],
   "source": [
    "bigbox[0].div.div.div.a['href']"
   ]
  },
  {
   "cell_type": "code",
   "execution_count": 17,
   "id": "dccd8200-269b-4bb8-89ca-c0bbf24573b4",
   "metadata": {},
   "outputs": [],
   "source": [
    "#If we concatenate this url with the flipkart url then we will get a complete url for the first object"
   ]
  },
  {
   "cell_type": "code",
   "execution_count": 18,
   "id": "82942d13-81af-435b-84f2-8da158af8ca9",
   "metadata": {},
   "outputs": [],
   "source": [
    "product_link=\"https://www.flipkart.com\"+bigbox[0].div.div.div.a['href']"
   ]
  },
  {
   "cell_type": "code",
   "execution_count": 19,
   "id": "b02c0254-673e-414f-bb7c-19f794ef2c98",
   "metadata": {},
   "outputs": [],
   "source": [
    "#in order to do this for multiple objects we can use the for loop "
   ]
  },
  {
   "cell_type": "code",
   "execution_count": 20,
   "id": "283578ea-4fd1-4a3e-9949-32b5519a5b5c",
   "metadata": {},
   "outputs": [
    {
     "name": "stdout",
     "output_type": "stream",
     "text": [
      "/apple-iphone-12-pro-gold-512-gb/p/itm157b3be191fd1?pid=MOBFWBYZGKFYVTWH&lid=LSTMOBFWBYZGKFYVTWHR65UKC&marketplace=FLIPKART&q=iphone12pro&store=tyy%2F4io&srno=s_1_2&otracker=search&fm=organic&iid=8bb7d23c-efc8-420e-9d86-852e76d67cc9.MOBFWBYZGKFYVTWH.SEARCH&ppt=None&ppn=None&ssid=xs4du7i7k00000001679374991137&qH=712933e6bd68e7b9\n",
      "/apple-iphone-12-pro-gold-512-gb/p/itm157b3be191fd1?pid=MOBFWBYZGKFYVTWH&lid=LSTMOBFWBYZGKFYVTWHR65UKC&marketplace=FLIPKART&q=iphone12pro&store=tyy%2F4io&srno=s_1_2&otracker=search&fm=organic&iid=8bb7d23c-efc8-420e-9d86-852e76d67cc9.MOBFWBYZGKFYVTWH.SEARCH&ppt=None&ppn=None&ssid=xs4du7i7k00000001679374991137&qH=712933e6bd68e7b9\n",
      "/apple-iphone-12-pro-gold-512-gb/p/itm157b3be191fd1?pid=MOBFWBYZGKFYVTWH&lid=LSTMOBFWBYZGKFYVTWHR65UKC&marketplace=FLIPKART&q=iphone12pro&store=tyy%2F4io&srno=s_1_2&otracker=search&fm=organic&iid=8bb7d23c-efc8-420e-9d86-852e76d67cc9.MOBFWBYZGKFYVTWH.SEARCH&ppt=None&ppn=None&ssid=xs4du7i7k00000001679374991137&qH=712933e6bd68e7b9\n",
      "/apple-iphone-12-pro-gold-512-gb/p/itm157b3be191fd1?pid=MOBFWBYZGKFYVTWH&lid=LSTMOBFWBYZGKFYVTWHR65UKC&marketplace=FLIPKART&q=iphone12pro&store=tyy%2F4io&srno=s_1_2&otracker=search&fm=organic&iid=8bb7d23c-efc8-420e-9d86-852e76d67cc9.MOBFWBYZGKFYVTWH.SEARCH&ppt=None&ppn=None&ssid=xs4du7i7k00000001679374991137&qH=712933e6bd68e7b9\n",
      "/apple-iphone-12-pro-gold-512-gb/p/itm157b3be191fd1?pid=MOBFWBYZGKFYVTWH&lid=LSTMOBFWBYZGKFYVTWHR65UKC&marketplace=FLIPKART&q=iphone12pro&store=tyy%2F4io&srno=s_1_2&otracker=search&fm=organic&iid=8bb7d23c-efc8-420e-9d86-852e76d67cc9.MOBFWBYZGKFYVTWH.SEARCH&ppt=None&ppn=None&ssid=xs4du7i7k00000001679374991137&qH=712933e6bd68e7b9\n",
      "/apple-iphone-12-pro-gold-512-gb/p/itm157b3be191fd1?pid=MOBFWBYZGKFYVTWH&lid=LSTMOBFWBYZGKFYVTWHR65UKC&marketplace=FLIPKART&q=iphone12pro&store=tyy%2F4io&srno=s_1_2&otracker=search&fm=organic&iid=8bb7d23c-efc8-420e-9d86-852e76d67cc9.MOBFWBYZGKFYVTWH.SEARCH&ppt=None&ppn=None&ssid=xs4du7i7k00000001679374991137&qH=712933e6bd68e7b9\n",
      "/apple-iphone-12-pro-gold-512-gb/p/itm157b3be191fd1?pid=MOBFWBYZGKFYVTWH&lid=LSTMOBFWBYZGKFYVTWHR65UKC&marketplace=FLIPKART&q=iphone12pro&store=tyy%2F4io&srno=s_1_2&otracker=search&fm=organic&iid=8bb7d23c-efc8-420e-9d86-852e76d67cc9.MOBFWBYZGKFYVTWH.SEARCH&ppt=None&ppn=None&ssid=xs4du7i7k00000001679374991137&qH=712933e6bd68e7b9\n",
      "/apple-iphone-12-pro-gold-512-gb/p/itm157b3be191fd1?pid=MOBFWBYZGKFYVTWH&lid=LSTMOBFWBYZGKFYVTWHR65UKC&marketplace=FLIPKART&q=iphone12pro&store=tyy%2F4io&srno=s_1_2&otracker=search&fm=organic&iid=8bb7d23c-efc8-420e-9d86-852e76d67cc9.MOBFWBYZGKFYVTWH.SEARCH&ppt=None&ppn=None&ssid=xs4du7i7k00000001679374991137&qH=712933e6bd68e7b9\n",
      "/apple-iphone-12-pro-gold-512-gb/p/itm157b3be191fd1?pid=MOBFWBYZGKFYVTWH&lid=LSTMOBFWBYZGKFYVTWHR65UKC&marketplace=FLIPKART&q=iphone12pro&store=tyy%2F4io&srno=s_1_2&otracker=search&fm=organic&iid=8bb7d23c-efc8-420e-9d86-852e76d67cc9.MOBFWBYZGKFYVTWH.SEARCH&ppt=None&ppn=None&ssid=xs4du7i7k00000001679374991137&qH=712933e6bd68e7b9\n",
      "/apple-iphone-12-pro-gold-512-gb/p/itm157b3be191fd1?pid=MOBFWBYZGKFYVTWH&lid=LSTMOBFWBYZGKFYVTWHR65UKC&marketplace=FLIPKART&q=iphone12pro&store=tyy%2F4io&srno=s_1_2&otracker=search&fm=organic&iid=8bb7d23c-efc8-420e-9d86-852e76d67cc9.MOBFWBYZGKFYVTWH.SEARCH&ppt=None&ppn=None&ssid=xs4du7i7k00000001679374991137&qH=712933e6bd68e7b9\n",
      "/apple-iphone-12-pro-gold-512-gb/p/itm157b3be191fd1?pid=MOBFWBYZGKFYVTWH&lid=LSTMOBFWBYZGKFYVTWHR65UKC&marketplace=FLIPKART&q=iphone12pro&store=tyy%2F4io&srno=s_1_2&otracker=search&fm=organic&iid=8bb7d23c-efc8-420e-9d86-852e76d67cc9.MOBFWBYZGKFYVTWH.SEARCH&ppt=None&ppn=None&ssid=xs4du7i7k00000001679374991137&qH=712933e6bd68e7b9\n",
      "/apple-iphone-12-pro-gold-512-gb/p/itm157b3be191fd1?pid=MOBFWBYZGKFYVTWH&lid=LSTMOBFWBYZGKFYVTWHR65UKC&marketplace=FLIPKART&q=iphone12pro&store=tyy%2F4io&srno=s_1_2&otracker=search&fm=organic&iid=8bb7d23c-efc8-420e-9d86-852e76d67cc9.MOBFWBYZGKFYVTWH.SEARCH&ppt=None&ppn=None&ssid=xs4du7i7k00000001679374991137&qH=712933e6bd68e7b9\n",
      "/apple-iphone-12-pro-gold-512-gb/p/itm157b3be191fd1?pid=MOBFWBYZGKFYVTWH&lid=LSTMOBFWBYZGKFYVTWHR65UKC&marketplace=FLIPKART&q=iphone12pro&store=tyy%2F4io&srno=s_1_2&otracker=search&fm=organic&iid=8bb7d23c-efc8-420e-9d86-852e76d67cc9.MOBFWBYZGKFYVTWH.SEARCH&ppt=None&ppn=None&ssid=xs4du7i7k00000001679374991137&qH=712933e6bd68e7b9\n",
      "/apple-iphone-12-pro-gold-512-gb/p/itm157b3be191fd1?pid=MOBFWBYZGKFYVTWH&lid=LSTMOBFWBYZGKFYVTWHR65UKC&marketplace=FLIPKART&q=iphone12pro&store=tyy%2F4io&srno=s_1_2&otracker=search&fm=organic&iid=8bb7d23c-efc8-420e-9d86-852e76d67cc9.MOBFWBYZGKFYVTWH.SEARCH&ppt=None&ppn=None&ssid=xs4du7i7k00000001679374991137&qH=712933e6bd68e7b9\n",
      "/apple-iphone-12-pro-gold-512-gb/p/itm157b3be191fd1?pid=MOBFWBYZGKFYVTWH&lid=LSTMOBFWBYZGKFYVTWHR65UKC&marketplace=FLIPKART&q=iphone12pro&store=tyy%2F4io&srno=s_1_2&otracker=search&fm=organic&iid=8bb7d23c-efc8-420e-9d86-852e76d67cc9.MOBFWBYZGKFYVTWH.SEARCH&ppt=None&ppn=None&ssid=xs4du7i7k00000001679374991137&qH=712933e6bd68e7b9\n",
      "/apple-iphone-12-pro-gold-512-gb/p/itm157b3be191fd1?pid=MOBFWBYZGKFYVTWH&lid=LSTMOBFWBYZGKFYVTWHR65UKC&marketplace=FLIPKART&q=iphone12pro&store=tyy%2F4io&srno=s_1_2&otracker=search&fm=organic&iid=8bb7d23c-efc8-420e-9d86-852e76d67cc9.MOBFWBYZGKFYVTWH.SEARCH&ppt=None&ppn=None&ssid=xs4du7i7k00000001679374991137&qH=712933e6bd68e7b9\n",
      "/apple-iphone-12-pro-gold-512-gb/p/itm157b3be191fd1?pid=MOBFWBYZGKFYVTWH&lid=LSTMOBFWBYZGKFYVTWHR65UKC&marketplace=FLIPKART&q=iphone12pro&store=tyy%2F4io&srno=s_1_2&otracker=search&fm=organic&iid=8bb7d23c-efc8-420e-9d86-852e76d67cc9.MOBFWBYZGKFYVTWH.SEARCH&ppt=None&ppn=None&ssid=xs4du7i7k00000001679374991137&qH=712933e6bd68e7b9\n",
      "/apple-iphone-12-pro-gold-512-gb/p/itm157b3be191fd1?pid=MOBFWBYZGKFYVTWH&lid=LSTMOBFWBYZGKFYVTWHR65UKC&marketplace=FLIPKART&q=iphone12pro&store=tyy%2F4io&srno=s_1_2&otracker=search&fm=organic&iid=8bb7d23c-efc8-420e-9d86-852e76d67cc9.MOBFWBYZGKFYVTWH.SEARCH&ppt=None&ppn=None&ssid=xs4du7i7k00000001679374991137&qH=712933e6bd68e7b9\n",
      "/apple-iphone-12-pro-gold-512-gb/p/itm157b3be191fd1?pid=MOBFWBYZGKFYVTWH&lid=LSTMOBFWBYZGKFYVTWHR65UKC&marketplace=FLIPKART&q=iphone12pro&store=tyy%2F4io&srno=s_1_2&otracker=search&fm=organic&iid=8bb7d23c-efc8-420e-9d86-852e76d67cc9.MOBFWBYZGKFYVTWH.SEARCH&ppt=None&ppn=None&ssid=xs4du7i7k00000001679374991137&qH=712933e6bd68e7b9\n",
      "/apple-iphone-12-pro-gold-512-gb/p/itm157b3be191fd1?pid=MOBFWBYZGKFYVTWH&lid=LSTMOBFWBYZGKFYVTWHR65UKC&marketplace=FLIPKART&q=iphone12pro&store=tyy%2F4io&srno=s_1_2&otracker=search&fm=organic&iid=8bb7d23c-efc8-420e-9d86-852e76d67cc9.MOBFWBYZGKFYVTWH.SEARCH&ppt=None&ppn=None&ssid=xs4du7i7k00000001679374991137&qH=712933e6bd68e7b9\n",
      "/apple-iphone-12-pro-gold-512-gb/p/itm157b3be191fd1?pid=MOBFWBYZGKFYVTWH&lid=LSTMOBFWBYZGKFYVTWHR65UKC&marketplace=FLIPKART&q=iphone12pro&store=tyy%2F4io&srno=s_1_2&otracker=search&fm=organic&iid=8bb7d23c-efc8-420e-9d86-852e76d67cc9.MOBFWBYZGKFYVTWH.SEARCH&ppt=None&ppn=None&ssid=xs4du7i7k00000001679374991137&qH=712933e6bd68e7b9\n",
      "/apple-iphone-12-pro-gold-512-gb/p/itm157b3be191fd1?pid=MOBFWBYZGKFYVTWH&lid=LSTMOBFWBYZGKFYVTWHR65UKC&marketplace=FLIPKART&q=iphone12pro&store=tyy%2F4io&srno=s_1_2&otracker=search&fm=organic&iid=8bb7d23c-efc8-420e-9d86-852e76d67cc9.MOBFWBYZGKFYVTWH.SEARCH&ppt=None&ppn=None&ssid=xs4du7i7k00000001679374991137&qH=712933e6bd68e7b9\n",
      "/apple-iphone-12-pro-gold-512-gb/p/itm157b3be191fd1?pid=MOBFWBYZGKFYVTWH&lid=LSTMOBFWBYZGKFYVTWHR65UKC&marketplace=FLIPKART&q=iphone12pro&store=tyy%2F4io&srno=s_1_2&otracker=search&fm=organic&iid=8bb7d23c-efc8-420e-9d86-852e76d67cc9.MOBFWBYZGKFYVTWH.SEARCH&ppt=None&ppn=None&ssid=xs4du7i7k00000001679374991137&qH=712933e6bd68e7b9\n",
      "/apple-iphone-12-pro-gold-512-gb/p/itm157b3be191fd1?pid=MOBFWBYZGKFYVTWH&lid=LSTMOBFWBYZGKFYVTWHR65UKC&marketplace=FLIPKART&q=iphone12pro&store=tyy%2F4io&srno=s_1_2&otracker=search&fm=organic&iid=8bb7d23c-efc8-420e-9d86-852e76d67cc9.MOBFWBYZGKFYVTWH.SEARCH&ppt=None&ppn=None&ssid=xs4du7i7k00000001679374991137&qH=712933e6bd68e7b9\n",
      "/apple-iphone-12-pro-gold-512-gb/p/itm157b3be191fd1?pid=MOBFWBYZGKFYVTWH&lid=LSTMOBFWBYZGKFYVTWHR65UKC&marketplace=FLIPKART&q=iphone12pro&store=tyy%2F4io&srno=s_1_2&otracker=search&fm=organic&iid=8bb7d23c-efc8-420e-9d86-852e76d67cc9.MOBFWBYZGKFYVTWH.SEARCH&ppt=None&ppn=None&ssid=xs4du7i7k00000001679374991137&qH=712933e6bd68e7b9\n",
      "/apple-iphone-12-pro-gold-512-gb/p/itm157b3be191fd1?pid=MOBFWBYZGKFYVTWH&lid=LSTMOBFWBYZGKFYVTWHR65UKC&marketplace=FLIPKART&q=iphone12pro&store=tyy%2F4io&srno=s_1_2&otracker=search&fm=organic&iid=8bb7d23c-efc8-420e-9d86-852e76d67cc9.MOBFWBYZGKFYVTWH.SEARCH&ppt=None&ppn=None&ssid=xs4du7i7k00000001679374991137&qH=712933e6bd68e7b9\n"
     ]
    }
   ],
   "source": [
    "for i in bigbox:\n",
    "    print(bigbox[0].div.div.div.a['href'])"
   ]
  },
  {
   "cell_type": "code",
   "execution_count": 21,
   "id": "5e77b141-1e18-4720-aa4f-d0302d5f5ad2",
   "metadata": {},
   "outputs": [
    {
     "data": {
      "text/plain": [
       "'https://www.flipkart.com/apple-iphone-12-pro-gold-512-gb/p/itm157b3be191fd1?pid=MOBFWBYZGKFYVTWH&lid=LSTMOBFWBYZGKFYVTWHR65UKC&marketplace=FLIPKART&q=iphone12pro&store=tyy%2F4io&srno=s_1_2&otracker=search&fm=organic&iid=8bb7d23c-efc8-420e-9d86-852e76d67cc9.MOBFWBYZGKFYVTWH.SEARCH&ppt=None&ppn=None&ssid=xs4du7i7k00000001679374991137&qH=712933e6bd68e7b9'"
      ]
     },
     "execution_count": 21,
     "metadata": {},
     "output_type": "execute_result"
    }
   ],
   "source": [
    "product_link"
   ]
  },
  {
   "cell_type": "code",
   "execution_count": 22,
   "id": "560d7533-bddb-4a7d-a167-a30d1e61dc2b",
   "metadata": {},
   "outputs": [],
   "source": [
    "product_req=requests.get(product_link) #acquires the info of the html code of the required webpage"
   ]
  },
  {
   "cell_type": "code",
   "execution_count": 23,
   "id": "e9f55a15-64fe-4bf3-96e6-d8f00c322f2c",
   "metadata": {},
   "outputs": [],
   "source": [
    "product_html=bs(product_req.text,'html.parser') #beautifying the code into human readable format"
   ]
  },
  {
   "cell_type": "code",
   "execution_count": 42,
   "id": "030730d9-20fb-4dbf-8e18-96d9ea8dd07e",
   "metadata": {},
   "outputs": [],
   "source": [
    "comment_box=product_html.find_all(\"div\",{\"class\":\"_16PBlm\"})"
   ]
  },
  {
   "cell_type": "code",
   "execution_count": 43,
   "id": "ae4a924e-274b-4bf4-8ef3-4f8f5acb47f4",
   "metadata": {},
   "outputs": [
    {
     "data": {
      "text/plain": [
       "11"
      ]
     },
     "execution_count": 43,
     "metadata": {},
     "output_type": "execute_result"
    }
   ],
   "source": [
    "len(comment_box)"
   ]
  },
  {
   "cell_type": "code",
   "execution_count": 44,
   "id": "f457eb17-b764-4bd9-bba4-f9f0c5a0c032",
   "metadata": {},
   "outputs": [
    {
     "data": {
      "text/plain": [
       "[<div class=\"_16PBlm\"><div class=\"col\"><div class=\"col _2wzgFH\"><div class=\"row\"><div class=\"_3LWZlK _1BLPMq\">5<img class=\"_1wB99o\" src=\"data:image/svg+xml;base64,PHN2ZyB4bWxucz0iaHR0cDovL3d3dy53My5vcmcvMjAwMC9zdmciIHdpZHRoPSIxMyIgaGVpZ2h0PSIxMiI+PHBhdGggZmlsbD0iI0ZGRiIgZD0iTTYuNSA5LjQzOWwtMy42NzQgMi4yMy45NC00LjI2LTMuMjEtMi44ODMgNC4yNTQtLjQwNEw2LjUuMTEybDEuNjkgNC4wMSA0LjI1NC40MDQtMy4yMSAyLjg4Mi45NCA0LjI2eiIvPjwvc3ZnPg==\"/></div><p class=\"_2-N8zT\">Best in the market!</p></div><div class=\"row\"><div class=\"t-ZTKy\"><div><div class=\"\">I have been using iPhones for years, but the fast charging and battery on this one is brilliant. Like i always say, iPhone is more of a jewellery than a phone. But this one has some power-packed features and an awesome camera. So if you can afford it, buy it!</div><span class=\"_1H-bmy\"><span>READ MORE</span></span></div></div></div><div class=\"_2nMSwX _3oLIki\"><div class=\"_21YjFX _2A07HP\" style=\"background-image:url(https://rukminim1.flixcart.com/blobio/124/124/imr-202107/blobio-imr-202107_81df3873bb194f69b3ee844fc1560ec3.jpeg?q=90), url(data:image/svg+xml;base64,PHN2ZyB3aWR0aD0iMjIiIGhlaWdodD0iMTgiIHhtbG5zPSJodHRwOi8vd3d3LnczLm9yZy8yMDAwL3N2ZyI+PGcgZmlsbD0iIzlEOUQ5RCIgZmlsbC1ydWxlPSJub256ZXJvIj48cGF0aCBkPSJNMjAgMEgyQzEgMCAwIDEgMCAydjE0YzAgMS4xLjkgMiAyIDJoMThjMSAwIDItMSAyLTJWMmMwLTEtMS0yLTItMnptMCAxNS45MmMtLjAyLjAzLS4wNi4wNi0uMDguMDhIMlYyLjA4TDIuMDggMmgxNy44M2MuMDMuMDIuMDYuMDYuMDguMDh2MTMuODRIMjB6Ii8+PHBhdGggZD0iTTEwIDEyLjUxTDcuNSA5LjUgNCAxNGgxNGwtNC41LTZ6Ii8+PC9nPjwvc3ZnPg==);width:62px;height:62px\"></div><div class=\"_21YjFX _2A07HP\" style=\"background-image:url(https://rukminim1.flixcart.com/blobio/124/124/imr-202107/blobio-imr-202107_de40bbc73a3844e9aee0dd5750da84a8.jpeg?q=90), url(data:image/svg+xml;base64,PHN2ZyB3aWR0aD0iMjIiIGhlaWdodD0iMTgiIHhtbG5zPSJodHRwOi8vd3d3LnczLm9yZy8yMDAwL3N2ZyI+PGcgZmlsbD0iIzlEOUQ5RCIgZmlsbC1ydWxlPSJub256ZXJvIj48cGF0aCBkPSJNMjAgMEgyQzEgMCAwIDEgMCAydjE0YzAgMS4xLjkgMiAyIDJoMThjMSAwIDItMSAyLTJWMmMwLTEtMS0yLTItMnptMCAxNS45MmMtLjAyLjAzLS4wNi4wNi0uMDguMDhIMlYyLjA4TDIuMDggMmgxNy44M2MuMDMuMDIuMDYuMDYuMDguMDh2MTMuODRIMjB6Ii8+PHBhdGggZD0iTTEwIDEyLjUxTDcuNSA5LjUgNCAxNGgxNGwtNC41LTZ6Ii8+PC9nPjwvc3ZnPg==);width:62px;height:62px\"></div><div class=\"_21YjFX _2A07HP\" style=\"background-image:url(https://rukminim1.flixcart.com/blobio/124/124/imr-202107/blobio-imr-202107_36ea7d195c6242b581adda2b3f6e746d.jpeg?q=90), url(data:image/svg+xml;base64,PHN2ZyB3aWR0aD0iMjIiIGhlaWdodD0iMTgiIHhtbG5zPSJodHRwOi8vd3d3LnczLm9yZy8yMDAwL3N2ZyI+PGcgZmlsbD0iIzlEOUQ5RCIgZmlsbC1ydWxlPSJub256ZXJvIj48cGF0aCBkPSJNMjAgMEgyQzEgMCAwIDEgMCAydjE0YzAgMS4xLjkgMiAyIDJoMThjMSAwIDItMSAyLTJWMmMwLTEtMS0yLTItMnptMCAxNS45MmMtLjAyLjAzLS4wNi4wNi0uMDguMDhIMlYyLjA4TDIuMDggMmgxNy44M2MuMDMuMDIuMDYuMDYuMDguMDh2MTMuODRIMjB6Ii8+PHBhdGggZD0iTTEwIDEyLjUxTDcuNSA5LjUgNCAxNGgxNGwtNC41LTZ6Ii8+PC9nPjwvc3ZnPg==);width:62px;height:62px\"></div><div class=\"_21YjFX _2A07HP\" style=\"background-image:url(https://rukminim1.flixcart.com/blobio/124/124/imr-202107/blobio-imr-202107_2d64653c6a5640f592d17daa040d0b0a.jpeg?q=90), url(data:image/svg+xml;base64,PHN2ZyB3aWR0aD0iMjIiIGhlaWdodD0iMTgiIHhtbG5zPSJodHRwOi8vd3d3LnczLm9yZy8yMDAwL3N2ZyI+PGcgZmlsbD0iIzlEOUQ5RCIgZmlsbC1ydWxlPSJub256ZXJvIj48cGF0aCBkPSJNMjAgMEgyQzEgMCAwIDEgMCAydjE0YzAgMS4xLjkgMiAyIDJoMThjMSAwIDItMSAyLTJWMmMwLTEtMS0yLTItMnptMCAxNS45MmMtLjAyLjAzLS4wNi4wNi0uMDguMDhIMlYyLjA4TDIuMDggMmgxNy44M2MuMDMuMDIuMDYuMDYuMDguMDh2MTMuODRIMjB6Ii8+PHBhdGggZD0iTTEwIDEyLjUxTDcuNSA5LjUgNCAxNGgxNGwtNC41LTZ6Ii8+PC9nPjwvc3ZnPg==);width:62px;height:62px\"></div></div><div class=\"row _3n8db9\"><div class=\"row\"><p class=\"_2sc7ZR _2V5EHH\">Vinit Kar</p><svg class=\"_2a1p_T\" height=\"14\" viewbox=\"0 0 12 12\" width=\"14\" xmlns=\"http://www.w3.org/2000/svg\"><g><circle cx=\"6\" cy=\"6\" fill=\"#878787\" r=\"6\"></circle><path d=\"M3 6l2 2 4-4\" fill=\"#878787\" stroke=\"#FFF\" stroke-width=\"1.5\"></path></g></svg><p class=\"_2mcZGG\" id=\"review-4cde68ab-62b5-4c7f-bc3b-f3f45fc36b09\"><span>Certified Buyer</span><span>, Mumbai</span></p><div></div><p class=\"_2sc7ZR\">Jul, 2021</p></div><div class=\"_1e9_Zu\"><div class=\"row\"><div class=\"_27aTsS\"><div class=\"_1LmwT9\"><svg class=\"skCrcq\" height=\"15\" width=\"20\" xmlns=\"http://www.w3.org/2000/svg\"><path class=\"_1LIt4y\" d=\"M9.58.006c-.41.043-.794.32-1.01.728-.277.557-2.334 4.693-2.74 5.1-.41.407-.944.6-1.544.6v8.572h7.5c.45 0 .835-.28 1.007-.665 0 0 2.207-6.234 2.207-6.834 0-.6-.47-1.072-1.07-1.072h-3.216c-.6 0-1.07-.535-1.07-1.07 0-.537.835-3.387 1.006-3.944.17-.557-.107-1.157-.664-1.35-.15-.043-.257-.086-.407-.064zM0 6.434v8.572h2.143V6.434H0z\" fill=\"#fff\" fill-rule=\"evenodd\"></path></svg><span class=\"_3c3Px5\">4818</span></div><div class=\"_1LmwT9 pkR4jH\"><svg class=\"skCrcq pkR4jH\" height=\"15\" width=\"20\" xmlns=\"http://www.w3.org/2000/svg\"><path class=\"_1LIt4y\" d=\"M9.58.006c-.41.043-.794.32-1.01.728-.277.557-2.334 4.693-2.74 5.1-.41.407-.944.6-1.544.6v8.572h7.5c.45 0 .835-.28 1.007-.665 0 0 2.207-6.234 2.207-6.834 0-.6-.47-1.072-1.07-1.072h-3.216c-.6 0-1.07-.535-1.07-1.07 0-.537.835-3.387 1.006-3.944.17-.557-.107-1.157-.664-1.35-.15-.043-.257-.086-.407-.064zM0 6.434v8.572h2.143V6.434H0z\" fill=\"#fff\" fill-rule=\"evenodd\"></path></svg><span class=\"_3c3Px5\">859</span></div></div><div class=\"_2bmov8\"><svg class=\"_2UvOBb\" height=\"11\" viewbox=\"0 0 16 27\" width=\"6\" xmlns=\"http://www.w3.org/2000/svg\"><path class=\"_2aPE6f\" d=\"M16 23.207L6.11 13.161 16 3.093 12.955 0 0 13.161l12.955 13.161z\" fill=\"#fff\"></path></svg><div class=\"_3E8aIl _38dCuf\"><div class=\"_3XCI6U\"><a href=\"/reviews/MOBFWBYZXYSCEEEH:53?reviewId=4cde68ab-62b5-4c7f-bc3b-f3f45fc36b09\"><span>Permalink</span></a></div><div class=\"_3XCI6U _2b2z-j\"><span>Report Abuse</span></div></div></div></div></div></div></div></div></div>,\n",
       " <div class=\"_16PBlm\"><div class=\"col\"><div class=\"col _2wzgFH\"><div class=\"row\"><div class=\"_3LWZlK _1BLPMq\">5<img class=\"_1wB99o\" src=\"data:image/svg+xml;base64,PHN2ZyB4bWxucz0iaHR0cDovL3d3dy53My5vcmcvMjAwMC9zdmciIHdpZHRoPSIxMyIgaGVpZ2h0PSIxMiI+PHBhdGggZmlsbD0iI0ZGRiIgZD0iTTYuNSA5LjQzOWwtMy42NzQgMi4yMy45NC00LjI2LTMuMjEtMi44ODMgNC4yNTQtLjQwNEw2LjUuMTEybDEuNjkgNC4wMSA0LjI1NC40MDQtMy4yMSAyLjg4Mi45NCA0LjI2eiIvPjwvc3ZnPg==\"/></div><p class=\"_2-N8zT\">Highly recommended</p></div><div class=\"row\"><div class=\"t-ZTKy\"><div><div class=\"\">I like the most in this phone:-<br/>1. I like the size of this phone because it is easy to hold.<br/>2. The camera quality of this phone is admirable. <br/>3. Battery backup is good.<br/>4. The new design and colour  of this phone also a plus point of its beauty.<br/>5. These  points are my personal which i like most in this phone.</div><span class=\"_1H-bmy\"><span>READ MORE</span></span></div></div></div><div class=\"_2nMSwX _3oLIki\"><div class=\"_21YjFX _2A07HP\" style=\"background-image:url(https://rukminim1.flixcart.com/blobio/124/124/imr-202011/blobio-imr-202011_9c0ac4e3b999443a90e49559f726044e.jpg?q=90), url(data:image/svg+xml;base64,PHN2ZyB3aWR0aD0iMjIiIGhlaWdodD0iMTgiIHhtbG5zPSJodHRwOi8vd3d3LnczLm9yZy8yMDAwL3N2ZyI+PGcgZmlsbD0iIzlEOUQ5RCIgZmlsbC1ydWxlPSJub256ZXJvIj48cGF0aCBkPSJNMjAgMEgyQzEgMCAwIDEgMCAydjE0YzAgMS4xLjkgMiAyIDJoMThjMSAwIDItMSAyLTJWMmMwLTEtMS0yLTItMnptMCAxNS45MmMtLjAyLjAzLS4wNi4wNi0uMDguMDhIMlYyLjA4TDIuMDggMmgxNy44M2MuMDMuMDIuMDYuMDYuMDguMDh2MTMuODRIMjB6Ii8+PHBhdGggZD0iTTEwIDEyLjUxTDcuNSA5LjUgNCAxNGgxNGwtNC41LTZ6Ii8+PC9nPjwvc3ZnPg==);width:62px;height:62px\"></div><div class=\"_21YjFX _2A07HP\" style=\"background-image:url(https://rukminim1.flixcart.com/blobio/124/124/imr-202011/blobio-imr-202011_15e3ebe5d6794f38a9dc78614ce79f1b.jpg?q=90), url(data:image/svg+xml;base64,PHN2ZyB3aWR0aD0iMjIiIGhlaWdodD0iMTgiIHhtbG5zPSJodHRwOi8vd3d3LnczLm9yZy8yMDAwL3N2ZyI+PGcgZmlsbD0iIzlEOUQ5RCIgZmlsbC1ydWxlPSJub256ZXJvIj48cGF0aCBkPSJNMjAgMEgyQzEgMCAwIDEgMCAydjE0YzAgMS4xLjkgMiAyIDJoMThjMSAwIDItMSAyLTJWMmMwLTEtMS0yLTItMnptMCAxNS45MmMtLjAyLjAzLS4wNi4wNi0uMDguMDhIMlYyLjA4TDIuMDggMmgxNy44M2MuMDMuMDIuMDYuMDYuMDguMDh2MTMuODRIMjB6Ii8+PHBhdGggZD0iTTEwIDEyLjUxTDcuNSA5LjUgNCAxNGgxNGwtNC41LTZ6Ii8+PC9nPjwvc3ZnPg==);width:62px;height:62px\"></div><div class=\"_21YjFX _2A07HP\" style=\"background-image:url(https://rukminim1.flixcart.com/blobio/124/124/imr-202011/blobio-imr-202011_07d4872e5be144638787d6aac082247d.jpg?q=90), url(data:image/svg+xml;base64,PHN2ZyB3aWR0aD0iMjIiIGhlaWdodD0iMTgiIHhtbG5zPSJodHRwOi8vd3d3LnczLm9yZy8yMDAwL3N2ZyI+PGcgZmlsbD0iIzlEOUQ5RCIgZmlsbC1ydWxlPSJub256ZXJvIj48cGF0aCBkPSJNMjAgMEgyQzEgMCAwIDEgMCAydjE0YzAgMS4xLjkgMiAyIDJoMThjMSAwIDItMSAyLTJWMmMwLTEtMS0yLTItMnptMCAxNS45MmMtLjAyLjAzLS4wNi4wNi0uMDguMDhIMlYyLjA4TDIuMDggMmgxNy44M2MuMDMuMDIuMDYuMDYuMDguMDh2MTMuODRIMjB6Ii8+PHBhdGggZD0iTTEwIDEyLjUxTDcuNSA5LjUgNCAxNGgxNGwtNC41LTZ6Ii8+PC9nPjwvc3ZnPg==);width:62px;height:62px\"></div><div class=\"_21YjFX _2A07HP\" style=\"background-image:url(https://rukminim1.flixcart.com/blobio/124/124/imr-202011/blobio-imr-202011_677c3d53dd384a8aa64a65cfecbb84c7.jpg?q=90), url(data:image/svg+xml;base64,PHN2ZyB3aWR0aD0iMjIiIGhlaWdodD0iMTgiIHhtbG5zPSJodHRwOi8vd3d3LnczLm9yZy8yMDAwL3N2ZyI+PGcgZmlsbD0iIzlEOUQ5RCIgZmlsbC1ydWxlPSJub256ZXJvIj48cGF0aCBkPSJNMjAgMEgyQzEgMCAwIDEgMCAydjE0YzAgMS4xLjkgMiAyIDJoMThjMSAwIDItMSAyLTJWMmMwLTEtMS0yLTItMnptMCAxNS45MmMtLjAyLjAzLS4wNi4wNi0uMDguMDhIMlYyLjA4TDIuMDggMmgxNy44M2MuMDMuMDIuMDYuMDYuMDguMDh2MTMuODRIMjB6Ii8+PHBhdGggZD0iTTEwIDEyLjUxTDcuNSA5LjUgNCAxNGgxNGwtNC41LTZ6Ii8+PC9nPjwvc3ZnPg==);width:62px;height:62px\"></div><div class=\"_21YjFX _2A07HP\" style=\"background-image:url(https://rukminim1.flixcart.com/blobio/124/124/imr-202011/blobio-imr-202011_d90bdb4c95eb42418e759137d3518168.jpg?q=90), url(data:image/svg+xml;base64,PHN2ZyB3aWR0aD0iMjIiIGhlaWdodD0iMTgiIHhtbG5zPSJodHRwOi8vd3d3LnczLm9yZy8yMDAwL3N2ZyI+PGcgZmlsbD0iIzlEOUQ5RCIgZmlsbC1ydWxlPSJub256ZXJvIj48cGF0aCBkPSJNMjAgMEgyQzEgMCAwIDEgMCAydjE0YzAgMS4xLjkgMiAyIDJoMThjMSAwIDItMSAyLTJWMmMwLTEtMS0yLTItMnptMCAxNS45MmMtLjAyLjAzLS4wNi4wNi0uMDguMDhIMlYyLjA4TDIuMDggMmgxNy44M2MuMDMuMDIuMDYuMDYuMDguMDh2MTMuODRIMjB6Ii8+PHBhdGggZD0iTTEwIDEyLjUxTDcuNSA5LjUgNCAxNGgxNGwtNC41LTZ6Ii8+PC9nPjwvc3ZnPg==);width:62px;height:62px\"></div></div><div class=\"row _3n8db9\"><div class=\"row\"><p class=\"_2sc7ZR _2V5EHH\">Rahul  Meena</p><svg class=\"_2a1p_T\" height=\"14\" viewbox=\"0 0 12 12\" width=\"14\" xmlns=\"http://www.w3.org/2000/svg\"><g><circle cx=\"6\" cy=\"6\" fill=\"#878787\" r=\"6\"></circle><path d=\"M3 6l2 2 4-4\" fill=\"#878787\" stroke=\"#FFF\" stroke-width=\"1.5\"></path></g></svg><p class=\"_2mcZGG\" id=\"review-889bebbf-d62f-41b2-aacd-d64a366181ea\"><span>Certified Buyer</span><span>, Gangapur City</span></p><div></div><p class=\"_2sc7ZR\">Nov, 2020</p></div><div class=\"_1e9_Zu\"><div class=\"row\"><div class=\"_27aTsS\"><div class=\"_1LmwT9\"><svg class=\"skCrcq\" height=\"15\" width=\"20\" xmlns=\"http://www.w3.org/2000/svg\"><path class=\"_1LIt4y\" d=\"M9.58.006c-.41.043-.794.32-1.01.728-.277.557-2.334 4.693-2.74 5.1-.41.407-.944.6-1.544.6v8.572h7.5c.45 0 .835-.28 1.007-.665 0 0 2.207-6.234 2.207-6.834 0-.6-.47-1.072-1.07-1.072h-3.216c-.6 0-1.07-.535-1.07-1.07 0-.537.835-3.387 1.006-3.944.17-.557-.107-1.157-.664-1.35-.15-.043-.257-.086-.407-.064zM0 6.434v8.572h2.143V6.434H0z\" fill=\"#fff\" fill-rule=\"evenodd\"></path></svg><span class=\"_3c3Px5\">5747</span></div><div class=\"_1LmwT9 pkR4jH\"><svg class=\"skCrcq pkR4jH\" height=\"15\" width=\"20\" xmlns=\"http://www.w3.org/2000/svg\"><path class=\"_1LIt4y\" d=\"M9.58.006c-.41.043-.794.32-1.01.728-.277.557-2.334 4.693-2.74 5.1-.41.407-.944.6-1.544.6v8.572h7.5c.45 0 .835-.28 1.007-.665 0 0 2.207-6.234 2.207-6.834 0-.6-.47-1.072-1.07-1.072h-3.216c-.6 0-1.07-.535-1.07-1.07 0-.537.835-3.387 1.006-3.944.17-.557-.107-1.157-.664-1.35-.15-.043-.257-.086-.407-.064zM0 6.434v8.572h2.143V6.434H0z\" fill=\"#fff\" fill-rule=\"evenodd\"></path></svg><span class=\"_3c3Px5\">1096</span></div></div><div class=\"_2bmov8\"><svg class=\"_2UvOBb\" height=\"11\" viewbox=\"0 0 16 27\" width=\"6\" xmlns=\"http://www.w3.org/2000/svg\"><path class=\"_2aPE6f\" d=\"M16 23.207L6.11 13.161 16 3.093 12.955 0 0 13.161l12.955 13.161z\" fill=\"#fff\"></path></svg><div class=\"_3E8aIl _38dCuf\"><div class=\"_3XCI6U\"><a href=\"/reviews/MOBFWBYZVRPH2UCD:6?reviewId=889bebbf-d62f-41b2-aacd-d64a366181ea\"><span>Permalink</span></a></div><div class=\"_3XCI6U _2b2z-j\"><span>Report Abuse</span></div></div></div></div></div></div></div></div></div>,\n",
       " <div class=\"_16PBlm\"><div class=\"col\"><div class=\"col _2wzgFH\"><div class=\"row\"><div class=\"_3LWZlK _1BLPMq\">5<img class=\"_1wB99o\" src=\"data:image/svg+xml;base64,PHN2ZyB4bWxucz0iaHR0cDovL3d3dy53My5vcmcvMjAwMC9zdmciIHdpZHRoPSIxMyIgaGVpZ2h0PSIxMiI+PHBhdGggZmlsbD0iI0ZGRiIgZD0iTTYuNSA5LjQzOWwtMy42NzQgMi4yMy45NC00LjI2LTMuMjEtMi44ODMgNC4yNTQtLjQwNEw2LjUuMTEybDEuNjkgNC4wMSA0LjI1NC40MDQtMy4yMSAyLjg4Mi45NCA0LjI2eiIvPjwvc3ZnPg==\"/></div><p class=\"_2-N8zT\">Super!</p></div><div class=\"row\"><div class=\"t-ZTKy\"><div><div class=\"\">One of the best looking phone in the market right now with a decent performance jump from 11 pro. Camera is excellent and the display is quite responsive and sharp. Only issue is it does not have a higher refresh rate and the battery life is average.</div><span class=\"_1H-bmy\"><span>READ MORE</span></span></div></div></div><div class=\"row _3n8db9\"><div class=\"row\"><p class=\"_2sc7ZR _2V5EHH\">Nami Hathishah</p><svg class=\"_2a1p_T\" height=\"14\" viewbox=\"0 0 12 12\" width=\"14\" xmlns=\"http://www.w3.org/2000/svg\"><g><circle cx=\"6\" cy=\"6\" fill=\"#878787\" r=\"6\"></circle><path d=\"M3 6l2 2 4-4\" fill=\"#878787\" stroke=\"#FFF\" stroke-width=\"1.5\"></path></g></svg><p class=\"_2mcZGG\" id=\"review-6f83d598-d90e-42ee-ab8b-e2cf8810d8d9\"><span>Certified Buyer</span><span>, Bhopal</span></p><div></div><p class=\"_2sc7ZR\">Nov, 2020</p></div><div class=\"_1e9_Zu\"><div class=\"row\"><div class=\"_27aTsS\"><div class=\"_1LmwT9\"><svg class=\"skCrcq\" height=\"15\" width=\"20\" xmlns=\"http://www.w3.org/2000/svg\"><path class=\"_1LIt4y\" d=\"M9.58.006c-.41.043-.794.32-1.01.728-.277.557-2.334 4.693-2.74 5.1-.41.407-.944.6-1.544.6v8.572h7.5c.45 0 .835-.28 1.007-.665 0 0 2.207-6.234 2.207-6.834 0-.6-.47-1.072-1.07-1.072h-3.216c-.6 0-1.07-.535-1.07-1.07 0-.537.835-3.387 1.006-3.944.17-.557-.107-1.157-.664-1.35-.15-.043-.257-.086-.407-.064zM0 6.434v8.572h2.143V6.434H0z\" fill=\"#fff\" fill-rule=\"evenodd\"></path></svg><span class=\"_3c3Px5\">685</span></div><div class=\"_1LmwT9 pkR4jH\"><svg class=\"skCrcq pkR4jH\" height=\"15\" width=\"20\" xmlns=\"http://www.w3.org/2000/svg\"><path class=\"_1LIt4y\" d=\"M9.58.006c-.41.043-.794.32-1.01.728-.277.557-2.334 4.693-2.74 5.1-.41.407-.944.6-1.544.6v8.572h7.5c.45 0 .835-.28 1.007-.665 0 0 2.207-6.234 2.207-6.834 0-.6-.47-1.072-1.07-1.072h-3.216c-.6 0-1.07-.535-1.07-1.07 0-.537.835-3.387 1.006-3.944.17-.557-.107-1.157-.664-1.35-.15-.043-.257-.086-.407-.064zM0 6.434v8.572h2.143V6.434H0z\" fill=\"#fff\" fill-rule=\"evenodd\"></path></svg><span class=\"_3c3Px5\">188</span></div></div><div class=\"_2bmov8\"><svg class=\"_2UvOBb\" height=\"11\" viewbox=\"0 0 16 27\" width=\"6\" xmlns=\"http://www.w3.org/2000/svg\"><path class=\"_2aPE6f\" d=\"M16 23.207L6.11 13.161 16 3.093 12.955 0 0 13.161l12.955 13.161z\" fill=\"#fff\"></path></svg><div class=\"_3E8aIl _38dCuf\"><div class=\"_3XCI6U\"><a href=\"/reviews/MOBFWBYZBA36UB7G:1?reviewId=6f83d598-d90e-42ee-ab8b-e2cf8810d8d9\"><span>Permalink</span></a></div><div class=\"_3XCI6U _2b2z-j\"><span>Report Abuse</span></div></div></div></div></div></div></div></div></div>,\n",
       " <div class=\"_16PBlm _3_IKGE\"><div class=\"col\"><div class=\"col _2wzgFH\"><div class=\"row\"><div class=\"_3LWZlK _1BLPMq\">5<img class=\"_1wB99o\" src=\"data:image/svg+xml;base64,PHN2ZyB4bWxucz0iaHR0cDovL3d3dy53My5vcmcvMjAwMC9zdmciIHdpZHRoPSIxMyIgaGVpZ2h0PSIxMiI+PHBhdGggZmlsbD0iI0ZGRiIgZD0iTTYuNSA5LjQzOWwtMy42NzQgMi4yMy45NC00LjI2LTMuMjEtMi44ODMgNC4yNTQtLjQwNEw2LjUuMTEybDEuNjkgNC4wMSA0LjI1NC40MDQtMy4yMSAyLjg4Mi45NCA0LjI2eiIvPjwvc3ZnPg==\"/></div><p class=\"_2-N8zT\">Brilliant</p></div><div class=\"row\"><div class=\"t-ZTKy\"><div><div class=\"\">I have upgraded from Android to iOS for the first time with the IPhone 12 Pro. And the experience is very much satisfactory. The new A14 bionic processor is very fast. The boxy design is what I liked the most. The camera and display are top notch. Night mode photography is excellent. Worth upgrading from Android to iOS .</div><span class=\"_1H-bmy\"><span>READ MORE</span></span></div></div></div><div class=\"row _3n8db9\"><div class=\"row\"><p class=\"_2sc7ZR _2V5EHH\">Rajesh Jena</p><svg class=\"_2a1p_T\" height=\"14\" viewbox=\"0 0 12 12\" width=\"14\" xmlns=\"http://www.w3.org/2000/svg\"><g><circle cx=\"6\" cy=\"6\" fill=\"#878787\" r=\"6\"></circle><path d=\"M3 6l2 2 4-4\" fill=\"#878787\" stroke=\"#FFF\" stroke-width=\"1.5\"></path></g></svg><p class=\"_2mcZGG\" id=\"review-b8b9ca98-9bc2-4918-b9e5-4e5d9eacb644\"><span>Certified Buyer</span><span>, Bhubaneshwar</span></p><div></div><p class=\"_2sc7ZR\">Nov, 2020</p></div><div class=\"_1e9_Zu\"><div class=\"row\"><div class=\"_27aTsS\"><div class=\"_1LmwT9\"><svg class=\"skCrcq\" height=\"15\" width=\"20\" xmlns=\"http://www.w3.org/2000/svg\"><path class=\"_1LIt4y\" d=\"M9.58.006c-.41.043-.794.32-1.01.728-.277.557-2.334 4.693-2.74 5.1-.41.407-.944.6-1.544.6v8.572h7.5c.45 0 .835-.28 1.007-.665 0 0 2.207-6.234 2.207-6.834 0-.6-.47-1.072-1.07-1.072h-3.216c-.6 0-1.07-.535-1.07-1.07 0-.537.835-3.387 1.006-3.944.17-.557-.107-1.157-.664-1.35-.15-.043-.257-.086-.407-.064zM0 6.434v8.572h2.143V6.434H0z\" fill=\"#fff\" fill-rule=\"evenodd\"></path></svg><span class=\"_3c3Px5\">290</span></div><div class=\"_1LmwT9 pkR4jH\"><svg class=\"skCrcq pkR4jH\" height=\"15\" width=\"20\" xmlns=\"http://www.w3.org/2000/svg\"><path class=\"_1LIt4y\" d=\"M9.58.006c-.41.043-.794.32-1.01.728-.277.557-2.334 4.693-2.74 5.1-.41.407-.944.6-1.544.6v8.572h7.5c.45 0 .835-.28 1.007-.665 0 0 2.207-6.234 2.207-6.834 0-.6-.47-1.072-1.07-1.072h-3.216c-.6 0-1.07-.535-1.07-1.07 0-.537.835-3.387 1.006-3.944.17-.557-.107-1.157-.664-1.35-.15-.043-.257-.086-.407-.064zM0 6.434v8.572h2.143V6.434H0z\" fill=\"#fff\" fill-rule=\"evenodd\"></path></svg><span class=\"_3c3Px5\">129</span></div></div><div class=\"_2bmov8\"><svg class=\"_2UvOBb\" height=\"11\" viewbox=\"0 0 16 27\" width=\"6\" xmlns=\"http://www.w3.org/2000/svg\"><path class=\"_2aPE6f\" d=\"M16 23.207L6.11 13.161 16 3.093 12.955 0 0 13.161l12.955 13.161z\" fill=\"#fff\"></path></svg><div class=\"_3E8aIl _38dCuf\"><div class=\"_3XCI6U\"><a href=\"/reviews/MOBFWBYZXYSCEEEH:7?reviewId=b8b9ca98-9bc2-4918-b9e5-4e5d9eacb644\"><span>Permalink</span></a></div><div class=\"_3XCI6U _2b2z-j\"><span>Report Abuse</span></div></div></div></div></div></div></div></div></div>,\n",
       " <div class=\"_16PBlm _3_IKGE\"><div class=\"col\"><div class=\"col _2wzgFH\"><div class=\"row\"><div class=\"_3LWZlK _1BLPMq\">5<img class=\"_1wB99o\" src=\"data:image/svg+xml;base64,PHN2ZyB4bWxucz0iaHR0cDovL3d3dy53My5vcmcvMjAwMC9zdmciIHdpZHRoPSIxMyIgaGVpZ2h0PSIxMiI+PHBhdGggZmlsbD0iI0ZGRiIgZD0iTTYuNSA5LjQzOWwtMy42NzQgMi4yMy45NC00LjI2LTMuMjEtMi44ODMgNC4yNTQtLjQwNEw2LjUuMTEybDEuNjkgNC4wMSA0LjI1NC40MDQtMy4yMSAyLjg4Mi45NCA0LjI2eiIvPjwvc3ZnPg==\"/></div><p class=\"_2-N8zT\">Awesome</p></div><div class=\"row\"><div class=\"t-ZTKy\"><div><div class=\"\">Awesome!<br/>Just made an upgrade from X, worth every single penny spent on it, the camera is just too superb, be it the selfie cam or the main rear cam, the goodness it takes the picture is just beyond words, no smart phone can beat it atm! However, the battery life tends to be on the shorter side, that’s the only con that I can’t think up of now,</div><span class=\"_1H-bmy\"><span>READ MORE</span></span></div></div></div><div class=\"row _3n8db9\"><div class=\"row\"><p class=\"_2sc7ZR _2V5EHH\">Lee Phela</p><svg class=\"_2a1p_T\" height=\"14\" viewbox=\"0 0 12 12\" width=\"14\" xmlns=\"http://www.w3.org/2000/svg\"><g><circle cx=\"6\" cy=\"6\" fill=\"#878787\" r=\"6\"></circle><path d=\"M3 6l2 2 4-4\" fill=\"#878787\" stroke=\"#FFF\" stroke-width=\"1.5\"></path></g></svg><p class=\"_2mcZGG\" id=\"review-2fbe32e0-6b14-4271-a306-838aefc9eba0\"><span>Certified Buyer</span><span>, New Delhi</span></p><div></div><p class=\"_2sc7ZR\">Nov, 2020</p></div><div class=\"_1e9_Zu\"><div class=\"row\"><div class=\"_27aTsS\"><div class=\"_1LmwT9\"><svg class=\"skCrcq\" height=\"15\" width=\"20\" xmlns=\"http://www.w3.org/2000/svg\"><path class=\"_1LIt4y\" d=\"M9.58.006c-.41.043-.794.32-1.01.728-.277.557-2.334 4.693-2.74 5.1-.41.407-.944.6-1.544.6v8.572h7.5c.45 0 .835-.28 1.007-.665 0 0 2.207-6.234 2.207-6.834 0-.6-.47-1.072-1.07-1.072h-3.216c-.6 0-1.07-.535-1.07-1.07 0-.537.835-3.387 1.006-3.944.17-.557-.107-1.157-.664-1.35-.15-.043-.257-.086-.407-.064zM0 6.434v8.572h2.143V6.434H0z\" fill=\"#fff\" fill-rule=\"evenodd\"></path></svg><span class=\"_3c3Px5\">9</span></div><div class=\"_1LmwT9 pkR4jH\"><svg class=\"skCrcq pkR4jH\" height=\"15\" width=\"20\" xmlns=\"http://www.w3.org/2000/svg\"><path class=\"_1LIt4y\" d=\"M9.58.006c-.41.043-.794.32-1.01.728-.277.557-2.334 4.693-2.74 5.1-.41.407-.944.6-1.544.6v8.572h7.5c.45 0 .835-.28 1.007-.665 0 0 2.207-6.234 2.207-6.834 0-.6-.47-1.072-1.07-1.072h-3.216c-.6 0-1.07-.535-1.07-1.07 0-.537.835-3.387 1.006-3.944.17-.557-.107-1.157-.664-1.35-.15-.043-.257-.086-.407-.064zM0 6.434v8.572h2.143V6.434H0z\" fill=\"#fff\" fill-rule=\"evenodd\"></path></svg><span class=\"_3c3Px5\">2</span></div></div><div class=\"_2bmov8\"><svg class=\"_2UvOBb\" height=\"11\" viewbox=\"0 0 16 27\" width=\"6\" xmlns=\"http://www.w3.org/2000/svg\"><path class=\"_2aPE6f\" d=\"M16 23.207L6.11 13.161 16 3.093 12.955 0 0 13.161l12.955 13.161z\" fill=\"#fff\"></path></svg><div class=\"_3E8aIl _38dCuf\"><div class=\"_3XCI6U\"><a href=\"/reviews/MOBFWBYZVRPH2UCD:5?reviewId=2fbe32e0-6b14-4271-a306-838aefc9eba0\"><span>Permalink</span></a></div><div class=\"_3XCI6U _2b2z-j\"><span>Report Abuse</span></div></div></div></div></div></div></div></div></div>,\n",
       " <div class=\"_16PBlm _3_IKGE\"><div class=\"col\"><div class=\"col _2wzgFH\"><div class=\"row\"><div class=\"_3LWZlK _1BLPMq\">5<img class=\"_1wB99o\" src=\"data:image/svg+xml;base64,PHN2ZyB4bWxucz0iaHR0cDovL3d3dy53My5vcmcvMjAwMC9zdmciIHdpZHRoPSIxMyIgaGVpZ2h0PSIxMiI+PHBhdGggZmlsbD0iI0ZGRiIgZD0iTTYuNSA5LjQzOWwtMy42NzQgMi4yMy45NC00LjI2LTMuMjEtMi44ODMgNC4yNTQtLjQwNEw2LjUuMTEybDEuNjkgNC4wMSA0LjI1NC40MDQtMy4yMSAyLjg4Mi45NCA0LjI2eiIvPjwvc3ZnPg==\"/></div><p class=\"_2-N8zT\">Simply awesome</p></div><div class=\"row\"><div class=\"t-ZTKy\"><div><div class=\"\">indeed a great phone feels premium in hand but battery life is low</div><span class=\"_1H-bmy\"><span>READ MORE</span></span></div></div></div><div class=\"_2nMSwX _3oLIki\"><div class=\"_21YjFX _2A07HP\" style=\"background-image:url(https://rukminim1.flixcart.com/blobio/124/124/imr-202105/blobio-imr-202105_218937a29a45459c9c6f56e264d7c733.jpg?q=90), url(data:image/svg+xml;base64,PHN2ZyB3aWR0aD0iMjIiIGhlaWdodD0iMTgiIHhtbG5zPSJodHRwOi8vd3d3LnczLm9yZy8yMDAwL3N2ZyI+PGcgZmlsbD0iIzlEOUQ5RCIgZmlsbC1ydWxlPSJub256ZXJvIj48cGF0aCBkPSJNMjAgMEgyQzEgMCAwIDEgMCAydjE0YzAgMS4xLjkgMiAyIDJoMThjMSAwIDItMSAyLTJWMmMwLTEtMS0yLTItMnptMCAxNS45MmMtLjAyLjAzLS4wNi4wNi0uMDguMDhIMlYyLjA4TDIuMDggMmgxNy44M2MuMDMuMDIuMDYuMDYuMDguMDh2MTMuODRIMjB6Ii8+PHBhdGggZD0iTTEwIDEyLjUxTDcuNSA5LjUgNCAxNGgxNGwtNC41LTZ6Ii8+PC9nPjwvc3ZnPg==);width:62px;height:62px\"></div></div><div class=\"row _3n8db9\"><div class=\"row\"><p class=\"_2sc7ZR _2V5EHH\">Rajkumar tiwari</p><svg class=\"_2a1p_T\" height=\"14\" viewbox=\"0 0 12 12\" width=\"14\" xmlns=\"http://www.w3.org/2000/svg\"><g><circle cx=\"6\" cy=\"6\" fill=\"#878787\" r=\"6\"></circle><path d=\"M3 6l2 2 4-4\" fill=\"#878787\" stroke=\"#FFF\" stroke-width=\"1.5\"></path></g></svg><p class=\"_2mcZGG\" id=\"review-ff2300b9-2965-4513-ac9c-0d8312e08943\"><span>Certified Buyer</span><span>, Kanpur</span></p><div></div><p class=\"_2sc7ZR\">May, 2021</p></div><div class=\"_1e9_Zu\"><div class=\"row\"><div class=\"_27aTsS\"><div class=\"_1LmwT9\"><svg class=\"skCrcq\" height=\"15\" width=\"20\" xmlns=\"http://www.w3.org/2000/svg\"><path class=\"_1LIt4y\" d=\"M9.58.006c-.41.043-.794.32-1.01.728-.277.557-2.334 4.693-2.74 5.1-.41.407-.944.6-1.544.6v8.572h7.5c.45 0 .835-.28 1.007-.665 0 0 2.207-6.234 2.207-6.834 0-.6-.47-1.072-1.07-1.072h-3.216c-.6 0-1.07-.535-1.07-1.07 0-.537.835-3.387 1.006-3.944.17-.557-.107-1.157-.664-1.35-.15-.043-.257-.086-.407-.064zM0 6.434v8.572h2.143V6.434H0z\" fill=\"#fff\" fill-rule=\"evenodd\"></path></svg><span class=\"_3c3Px5\">2312</span></div><div class=\"_1LmwT9 pkR4jH\"><svg class=\"skCrcq pkR4jH\" height=\"15\" width=\"20\" xmlns=\"http://www.w3.org/2000/svg\"><path class=\"_1LIt4y\" d=\"M9.58.006c-.41.043-.794.32-1.01.728-.277.557-2.334 4.693-2.74 5.1-.41.407-.944.6-1.544.6v8.572h7.5c.45 0 .835-.28 1.007-.665 0 0 2.207-6.234 2.207-6.834 0-.6-.47-1.072-1.07-1.072h-3.216c-.6 0-1.07-.535-1.07-1.07 0-.537.835-3.387 1.006-3.944.17-.557-.107-1.157-.664-1.35-.15-.043-.257-.086-.407-.064zM0 6.434v8.572h2.143V6.434H0z\" fill=\"#fff\" fill-rule=\"evenodd\"></path></svg><span class=\"_3c3Px5\">207</span></div></div><div class=\"_2bmov8\"><svg class=\"_2UvOBb\" height=\"11\" viewbox=\"0 0 16 27\" width=\"6\" xmlns=\"http://www.w3.org/2000/svg\"><path class=\"_2aPE6f\" d=\"M16 23.207L6.11 13.161 16 3.093 12.955 0 0 13.161l12.955 13.161z\" fill=\"#fff\"></path></svg><div class=\"_3E8aIl _38dCuf\"><div class=\"_3XCI6U\"><a href=\"/reviews/MOBFWBYZXYSCEEEH:41?reviewId=ff2300b9-2965-4513-ac9c-0d8312e08943\"><span>Permalink</span></a></div><div class=\"_3XCI6U _2b2z-j\"><span>Report Abuse</span></div></div></div></div></div></div></div></div></div>,\n",
       " <div class=\"_16PBlm _3_IKGE\"><div class=\"col\"><div class=\"col _2wzgFH\"><div class=\"row\"><div class=\"_3LWZlK _1BLPMq\">3<img class=\"_1wB99o\" src=\"data:image/svg+xml;base64,PHN2ZyB4bWxucz0iaHR0cDovL3d3dy53My5vcmcvMjAwMC9zdmciIHdpZHRoPSIxMyIgaGVpZ2h0PSIxMiI+PHBhdGggZmlsbD0iI0ZGRiIgZD0iTTYuNSA5LjQzOWwtMy42NzQgMi4yMy45NC00LjI2LTMuMjEtMi44ODMgNC4yNTQtLjQwNEw2LjUuMTEybDEuNjkgNC4wMSA0LjI1NC40MDQtMy4yMSAyLjg4Mi45NCA0LjI2eiIvPjwvc3ZnPg==\"/></div><p class=\"_2-N8zT\">Nice</p></div><div class=\"row\"><div class=\"t-ZTKy\"><div><div class=\"\">Its just Perfect . Prices are a bit high .</div><span class=\"_1H-bmy\"><span>READ MORE</span></span></div></div></div><div class=\"_2nMSwX _3oLIki\"><div class=\"_21YjFX _2A07HP\" style=\"background-image:url(https://rukminim1.flixcart.com/blobio/124/124/imr-202205/blobio-imr-202205_b94891003a1147a18ec68ea0099bb8b2.jpeg?q=90), url(data:image/svg+xml;base64,PHN2ZyB3aWR0aD0iMjIiIGhlaWdodD0iMTgiIHhtbG5zPSJodHRwOi8vd3d3LnczLm9yZy8yMDAwL3N2ZyI+PGcgZmlsbD0iIzlEOUQ5RCIgZmlsbC1ydWxlPSJub256ZXJvIj48cGF0aCBkPSJNMjAgMEgyQzEgMCAwIDEgMCAydjE0YzAgMS4xLjkgMiAyIDJoMThjMSAwIDItMSAyLTJWMmMwLTEtMS0yLTItMnptMCAxNS45MmMtLjAyLjAzLS4wNi4wNi0uMDguMDhIMlYyLjA4TDIuMDggMmgxNy44M2MuMDMuMDIuMDYuMDYuMDguMDh2MTMuODRIMjB6Ii8+PHBhdGggZD0iTTEwIDEyLjUxTDcuNSA5LjUgNCAxNGgxNGwtNC41LTZ6Ii8+PC9nPjwvc3ZnPg==);width:62px;height:62px\"></div></div><div class=\"row _3n8db9\"><div class=\"row\"><p class=\"_2sc7ZR _2V5EHH\">Kirti Yadav</p><svg class=\"_2a1p_T\" height=\"14\" viewbox=\"0 0 12 12\" width=\"14\" xmlns=\"http://www.w3.org/2000/svg\"><g><circle cx=\"6\" cy=\"6\" fill=\"#878787\" r=\"6\"></circle><path d=\"M3 6l2 2 4-4\" fill=\"#878787\" stroke=\"#FFF\" stroke-width=\"1.5\"></path></g></svg><p class=\"_2mcZGG\" id=\"review-3c26e2ad-b6ab-44c4-9010-c0ee33f12caf\"><span>Certified Buyer</span><span>, Hyderabad</span></p><div></div><p class=\"_2sc7ZR\">10 months ago</p></div><div class=\"_1e9_Zu\"><div class=\"row\"><div class=\"_27aTsS\"><div class=\"_1LmwT9\"><svg class=\"skCrcq\" height=\"15\" width=\"20\" xmlns=\"http://www.w3.org/2000/svg\"><path class=\"_1LIt4y\" d=\"M9.58.006c-.41.043-.794.32-1.01.728-.277.557-2.334 4.693-2.74 5.1-.41.407-.944.6-1.544.6v8.572h7.5c.45 0 .835-.28 1.007-.665 0 0 2.207-6.234 2.207-6.834 0-.6-.47-1.072-1.07-1.072h-3.216c-.6 0-1.07-.535-1.07-1.07 0-.537.835-3.387 1.006-3.944.17-.557-.107-1.157-.664-1.35-.15-.043-.257-.086-.407-.064zM0 6.434v8.572h2.143V6.434H0z\" fill=\"#fff\" fill-rule=\"evenodd\"></path></svg><span class=\"_3c3Px5\">438</span></div><div class=\"_1LmwT9 pkR4jH\"><svg class=\"skCrcq pkR4jH\" height=\"15\" width=\"20\" xmlns=\"http://www.w3.org/2000/svg\"><path class=\"_1LIt4y\" d=\"M9.58.006c-.41.043-.794.32-1.01.728-.277.557-2.334 4.693-2.74 5.1-.41.407-.944.6-1.544.6v8.572h7.5c.45 0 .835-.28 1.007-.665 0 0 2.207-6.234 2.207-6.834 0-.6-.47-1.072-1.07-1.072h-3.216c-.6 0-1.07-.535-1.07-1.07 0-.537.835-3.387 1.006-3.944.17-.557-.107-1.157-.664-1.35-.15-.043-.257-.086-.407-.064zM0 6.434v8.572h2.143V6.434H0z\" fill=\"#fff\" fill-rule=\"evenodd\"></path></svg><span class=\"_3c3Px5\">35</span></div></div><div class=\"_2bmov8\"><svg class=\"_2UvOBb\" height=\"11\" viewbox=\"0 0 16 27\" width=\"6\" xmlns=\"http://www.w3.org/2000/svg\"><path class=\"_2aPE6f\" d=\"M16 23.207L6.11 13.161 16 3.093 12.955 0 0 13.161l12.955 13.161z\" fill=\"#fff\"></path></svg><div class=\"_3E8aIl _38dCuf\"><div class=\"_3XCI6U\"><a href=\"/reviews/MOBFWBYZBZ7Y56WD:21?reviewId=3c26e2ad-b6ab-44c4-9010-c0ee33f12caf\"><span>Permalink</span></a></div><div class=\"_3XCI6U _2b2z-j\"><span>Report Abuse</span></div></div></div></div></div></div></div></div></div>,\n",
       " <div class=\"_16PBlm _3_IKGE\"><div class=\"col\"><div class=\"col _2wzgFH\"><div class=\"row\"><div class=\"_3LWZlK _1BLPMq\">5<img class=\"_1wB99o\" src=\"data:image/svg+xml;base64,PHN2ZyB4bWxucz0iaHR0cDovL3d3dy53My5vcmcvMjAwMC9zdmciIHdpZHRoPSIxMyIgaGVpZ2h0PSIxMiI+PHBhdGggZmlsbD0iI0ZGRiIgZD0iTTYuNSA5LjQzOWwtMy42NzQgMi4yMy45NC00LjI2LTMuMjEtMi44ODMgNC4yNTQtLjQwNEw2LjUuMTEybDEuNjkgNC4wMSA0LjI1NC40MDQtMy4yMSAyLjg4Mi45NCA0LjI2eiIvPjwvc3ZnPg==\"/></div><p class=\"_2-N8zT\">Fabulous!</p></div><div class=\"row\"><div class=\"t-ZTKy\"><div><div class=\"\">The camera is mind-blowing I love it 😘</div><span class=\"_1H-bmy\"><span>READ MORE</span></span></div></div></div><div class=\"_2nMSwX _3oLIki\"><div class=\"_21YjFX _2A07HP\" style=\"background-image:url(https://rukminim1.flixcart.com/blobio/124/124/imr-202011/blobio-imr-202011_4d2a9089b41f4d9f803f90ceec6ef3c6.jpg?q=90), url(data:image/svg+xml;base64,PHN2ZyB3aWR0aD0iMjIiIGhlaWdodD0iMTgiIHhtbG5zPSJodHRwOi8vd3d3LnczLm9yZy8yMDAwL3N2ZyI+PGcgZmlsbD0iIzlEOUQ5RCIgZmlsbC1ydWxlPSJub256ZXJvIj48cGF0aCBkPSJNMjAgMEgyQzEgMCAwIDEgMCAydjE0YzAgMS4xLjkgMiAyIDJoMThjMSAwIDItMSAyLTJWMmMwLTEtMS0yLTItMnptMCAxNS45MmMtLjAyLjAzLS4wNi4wNi0uMDguMDhIMlYyLjA4TDIuMDggMmgxNy44M2MuMDMuMDIuMDYuMDYuMDguMDh2MTMuODRIMjB6Ii8+PHBhdGggZD0iTTEwIDEyLjUxTDcuNSA5LjUgNCAxNGgxNGwtNC41LTZ6Ii8+PC9nPjwvc3ZnPg==);width:62px;height:62px\"></div><div class=\"_21YjFX _2A07HP\" style=\"background-image:url(https://rukminim1.flixcart.com/blobio/124/124/imr-202011/blobio-imr-202011_6082623bbd2142ffaf63ceb66f29b63b.jpg?q=90), url(data:image/svg+xml;base64,PHN2ZyB3aWR0aD0iMjIiIGhlaWdodD0iMTgiIHhtbG5zPSJodHRwOi8vd3d3LnczLm9yZy8yMDAwL3N2ZyI+PGcgZmlsbD0iIzlEOUQ5RCIgZmlsbC1ydWxlPSJub256ZXJvIj48cGF0aCBkPSJNMjAgMEgyQzEgMCAwIDEgMCAydjE0YzAgMS4xLjkgMiAyIDJoMThjMSAwIDItMSAyLTJWMmMwLTEtMS0yLTItMnptMCAxNS45MmMtLjAyLjAzLS4wNi4wNi0uMDguMDhIMlYyLjA4TDIuMDggMmgxNy44M2MuMDMuMDIuMDYuMDYuMDguMDh2MTMuODRIMjB6Ii8+PHBhdGggZD0iTTEwIDEyLjUxTDcuNSA5LjUgNCAxNGgxNGwtNC41LTZ6Ii8+PC9nPjwvc3ZnPg==);width:62px;height:62px\"></div><div class=\"_21YjFX _2A07HP\" style=\"background-image:url(https://rukminim1.flixcart.com/blobio/124/124/imr-202011/blobio-imr-202011_62ef22662bca4fad8ae031e3cfee4673.jpg?q=90), url(data:image/svg+xml;base64,PHN2ZyB3aWR0aD0iMjIiIGhlaWdodD0iMTgiIHhtbG5zPSJodHRwOi8vd3d3LnczLm9yZy8yMDAwL3N2ZyI+PGcgZmlsbD0iIzlEOUQ5RCIgZmlsbC1ydWxlPSJub256ZXJvIj48cGF0aCBkPSJNMjAgMEgyQzEgMCAwIDEgMCAydjE0YzAgMS4xLjkgMiAyIDJoMThjMSAwIDItMSAyLTJWMmMwLTEtMS0yLTItMnptMCAxNS45MmMtLjAyLjAzLS4wNi4wNi0uMDguMDhIMlYyLjA4TDIuMDggMmgxNy44M2MuMDMuMDIuMDYuMDYuMDguMDh2MTMuODRIMjB6Ii8+PHBhdGggZD0iTTEwIDEyLjUxTDcuNSA5LjUgNCAxNGgxNGwtNC41LTZ6Ii8+PC9nPjwvc3ZnPg==);width:62px;height:62px\"></div></div><div class=\"row _3n8db9\"><div class=\"row\"><p class=\"_2sc7ZR _2V5EHH\">Tushar Saini</p><svg class=\"_2a1p_T\" height=\"14\" viewbox=\"0 0 12 12\" width=\"14\" xmlns=\"http://www.w3.org/2000/svg\"><g><circle cx=\"6\" cy=\"6\" fill=\"#878787\" r=\"6\"></circle><path d=\"M3 6l2 2 4-4\" fill=\"#878787\" stroke=\"#FFF\" stroke-width=\"1.5\"></path></g></svg><p class=\"_2mcZGG\" id=\"review-fd150567-d1a0-474b-802f-d342c67255bc\"><span>Certified Buyer</span><span>, Jhunjhunun</span></p><div></div><p class=\"_2sc7ZR\">Nov, 2020</p></div><div class=\"_1e9_Zu\"><div class=\"row\"><div class=\"_27aTsS\"><div class=\"_1LmwT9\"><svg class=\"skCrcq\" height=\"15\" width=\"20\" xmlns=\"http://www.w3.org/2000/svg\"><path class=\"_1LIt4y\" d=\"M9.58.006c-.41.043-.794.32-1.01.728-.277.557-2.334 4.693-2.74 5.1-.41.407-.944.6-1.544.6v8.572h7.5c.45 0 .835-.28 1.007-.665 0 0 2.207-6.234 2.207-6.834 0-.6-.47-1.072-1.07-1.072h-3.216c-.6 0-1.07-.535-1.07-1.07 0-.537.835-3.387 1.006-3.944.17-.557-.107-1.157-.664-1.35-.15-.043-.257-.086-.407-.064zM0 6.434v8.572h2.143V6.434H0z\" fill=\"#fff\" fill-rule=\"evenodd\"></path></svg><span class=\"_3c3Px5\">2366</span></div><div class=\"_1LmwT9 pkR4jH\"><svg class=\"skCrcq pkR4jH\" height=\"15\" width=\"20\" xmlns=\"http://www.w3.org/2000/svg\"><path class=\"_1LIt4y\" d=\"M9.58.006c-.41.043-.794.32-1.01.728-.277.557-2.334 4.693-2.74 5.1-.41.407-.944.6-1.544.6v8.572h7.5c.45 0 .835-.28 1.007-.665 0 0 2.207-6.234 2.207-6.834 0-.6-.47-1.072-1.07-1.072h-3.216c-.6 0-1.07-.535-1.07-1.07 0-.537.835-3.387 1.006-3.944.17-.557-.107-1.157-.664-1.35-.15-.043-.257-.086-.407-.064zM0 6.434v8.572h2.143V6.434H0z\" fill=\"#fff\" fill-rule=\"evenodd\"></path></svg><span class=\"_3c3Px5\">291</span></div></div><div class=\"_2bmov8\"><svg class=\"_2UvOBb\" height=\"11\" viewbox=\"0 0 16 27\" width=\"6\" xmlns=\"http://www.w3.org/2000/svg\"><path class=\"_2aPE6f\" d=\"M16 23.207L6.11 13.161 16 3.093 12.955 0 0 13.161l12.955 13.161z\" fill=\"#fff\"></path></svg><div class=\"_3E8aIl _38dCuf\"><div class=\"_3XCI6U\"><a href=\"/reviews/MOBFWBYZMZTJZTWK:1?reviewId=fd150567-d1a0-474b-802f-d342c67255bc\"><span>Permalink</span></a></div><div class=\"_3XCI6U _2b2z-j\"><span>Report Abuse</span></div></div></div></div></div></div></div></div></div>,\n",
       " <div class=\"_16PBlm _3_IKGE\"><div class=\"col\"><div class=\"col _2wzgFH\"><div class=\"row\"><div class=\"_3LWZlK _1BLPMq\">5<img class=\"_1wB99o\" src=\"data:image/svg+xml;base64,PHN2ZyB4bWxucz0iaHR0cDovL3d3dy53My5vcmcvMjAwMC9zdmciIHdpZHRoPSIxMyIgaGVpZ2h0PSIxMiI+PHBhdGggZmlsbD0iI0ZGRiIgZD0iTTYuNSA5LjQzOWwtMy42NzQgMi4yMy45NC00LjI2LTMuMjEtMi44ODMgNC4yNTQtLjQwNEw2LjUuMTEybDEuNjkgNC4wMSA0LjI1NC40MDQtMy4yMSAyLjg4Mi45NCA0LjI2eiIvPjwvc3ZnPg==\"/></div><p class=\"_2-N8zT\">Fabulous!</p></div><div class=\"row\"><div class=\"t-ZTKy\"><div><div class=\"\">A masterpiece to cherish.</div><span class=\"_1H-bmy\"><span>READ MORE</span></span></div></div></div><div class=\"_2nMSwX _3oLIki\"><div class=\"_21YjFX _2A07HP\" style=\"background-image:url(https://rukminim1.flixcart.com/blobio/124/124/imr-202104/blobio-imr-202104_964553494c82482c9d4679d632b94e46.jpeg?q=90), url(data:image/svg+xml;base64,PHN2ZyB3aWR0aD0iMjIiIGhlaWdodD0iMTgiIHhtbG5zPSJodHRwOi8vd3d3LnczLm9yZy8yMDAwL3N2ZyI+PGcgZmlsbD0iIzlEOUQ5RCIgZmlsbC1ydWxlPSJub256ZXJvIj48cGF0aCBkPSJNMjAgMEgyQzEgMCAwIDEgMCAydjE0YzAgMS4xLjkgMiAyIDJoMThjMSAwIDItMSAyLTJWMmMwLTEtMS0yLTItMnptMCAxNS45MmMtLjAyLjAzLS4wNi4wNi0uMDguMDhIMlYyLjA4TDIuMDggMmgxNy44M2MuMDMuMDIuMDYuMDYuMDguMDh2MTMuODRIMjB6Ii8+PHBhdGggZD0iTTEwIDEyLjUxTDcuNSA5LjUgNCAxNGgxNGwtNC41LTZ6Ii8+PC9nPjwvc3ZnPg==);width:62px;height:62px\"></div></div><div class=\"row _3n8db9\"><div class=\"row\"><p class=\"_2sc7ZR _2V5EHH\">Aasheesh Vats</p><svg class=\"_2a1p_T\" height=\"14\" viewbox=\"0 0 12 12\" width=\"14\" xmlns=\"http://www.w3.org/2000/svg\"><g><circle cx=\"6\" cy=\"6\" fill=\"#878787\" r=\"6\"></circle><path d=\"M3 6l2 2 4-4\" fill=\"#878787\" stroke=\"#FFF\" stroke-width=\"1.5\"></path></g></svg><p class=\"_2mcZGG\" id=\"review-6a70039c-f9d0-4fbc-98ad-6fa0a7705e40\"><span>Certified Buyer</span><span>, Ghaziabad</span></p><div></div><p class=\"_2sc7ZR\">Apr, 2021</p></div><div class=\"_1e9_Zu\"><div class=\"row\"><div class=\"_27aTsS\"><div class=\"_1LmwT9\"><svg class=\"skCrcq\" height=\"15\" width=\"20\" xmlns=\"http://www.w3.org/2000/svg\"><path class=\"_1LIt4y\" d=\"M9.58.006c-.41.043-.794.32-1.01.728-.277.557-2.334 4.693-2.74 5.1-.41.407-.944.6-1.544.6v8.572h7.5c.45 0 .835-.28 1.007-.665 0 0 2.207-6.234 2.207-6.834 0-.6-.47-1.072-1.07-1.072h-3.216c-.6 0-1.07-.535-1.07-1.07 0-.537.835-3.387 1.006-3.944.17-.557-.107-1.157-.664-1.35-.15-.043-.257-.086-.407-.064zM0 6.434v8.572h2.143V6.434H0z\" fill=\"#fff\" fill-rule=\"evenodd\"></path></svg><span class=\"_3c3Px5\">447</span></div><div class=\"_1LmwT9 pkR4jH\"><svg class=\"skCrcq pkR4jH\" height=\"15\" width=\"20\" xmlns=\"http://www.w3.org/2000/svg\"><path class=\"_1LIt4y\" d=\"M9.58.006c-.41.043-.794.32-1.01.728-.277.557-2.334 4.693-2.74 5.1-.41.407-.944.6-1.544.6v8.572h7.5c.45 0 .835-.28 1.007-.665 0 0 2.207-6.234 2.207-6.834 0-.6-.47-1.072-1.07-1.072h-3.216c-.6 0-1.07-.535-1.07-1.07 0-.537.835-3.387 1.006-3.944.17-.557-.107-1.157-.664-1.35-.15-.043-.257-.086-.407-.064zM0 6.434v8.572h2.143V6.434H0z\" fill=\"#fff\" fill-rule=\"evenodd\"></path></svg><span class=\"_3c3Px5\">59</span></div></div><div class=\"_2bmov8\"><svg class=\"_2UvOBb\" height=\"11\" viewbox=\"0 0 16 27\" width=\"6\" xmlns=\"http://www.w3.org/2000/svg\"><path class=\"_2aPE6f\" d=\"M16 23.207L6.11 13.161 16 3.093 12.955 0 0 13.161l12.955 13.161z\" fill=\"#fff\"></path></svg><div class=\"_3E8aIl _38dCuf\"><div class=\"_3XCI6U\"><a href=\"/reviews/MOBFWBYZBZ7Y56WD:13?reviewId=6a70039c-f9d0-4fbc-98ad-6fa0a7705e40\"><span>Permalink</span></a></div><div class=\"_3XCI6U _2b2z-j\"><span>Report Abuse</span></div></div></div></div></div></div></div></div></div>,\n",
       " <div class=\"_16PBlm _3_IKGE\"><div class=\"col\"><div class=\"col _2wzgFH\"><div class=\"row\"><div class=\"_3LWZlK _1BLPMq\">5<img class=\"_1wB99o\" src=\"data:image/svg+xml;base64,PHN2ZyB4bWxucz0iaHR0cDovL3d3dy53My5vcmcvMjAwMC9zdmciIHdpZHRoPSIxMyIgaGVpZ2h0PSIxMiI+PHBhdGggZmlsbD0iI0ZGRiIgZD0iTTYuNSA5LjQzOWwtMy42NzQgMi4yMy45NC00LjI2LTMuMjEtMi44ODMgNC4yNTQtLjQwNEw2LjUuMTEybDEuNjkgNC4wMSA0LjI1NC40MDQtMy4yMSAyLjg4Mi45NCA0LjI2eiIvPjwvc3ZnPg==\"/></div><p class=\"_2-N8zT\">Fabulous!</p></div><div class=\"row\"><div class=\"t-ZTKy\"><div><div class=\"\">This one of the best iPhone ever built, though battery backup isn’t good. But the user experience is brilliant.<br/><br/>Upgraded from 11 Pro.</div><span class=\"_1H-bmy\"><span>READ MORE</span></span></div></div></div><div class=\"_2nMSwX _3oLIki\"><div class=\"_21YjFX _2A07HP\" style=\"background-image:url(https://rukminim1.flixcart.com/blobio/124/124/imr-202011/blobio-imr-202011_53cf82d6edb04b28870c4f7b5189d74a.jpeg?q=90), url(data:image/svg+xml;base64,PHN2ZyB3aWR0aD0iMjIiIGhlaWdodD0iMTgiIHhtbG5zPSJodHRwOi8vd3d3LnczLm9yZy8yMDAwL3N2ZyI+PGcgZmlsbD0iIzlEOUQ5RCIgZmlsbC1ydWxlPSJub256ZXJvIj48cGF0aCBkPSJNMjAgMEgyQzEgMCAwIDEgMCAydjE0YzAgMS4xLjkgMiAyIDJoMThjMSAwIDItMSAyLTJWMmMwLTEtMS0yLTItMnptMCAxNS45MmMtLjAyLjAzLS4wNi4wNi0uMDguMDhIMlYyLjA4TDIuMDggMmgxNy44M2MuMDMuMDIuMDYuMDYuMDguMDh2MTMuODRIMjB6Ii8+PHBhdGggZD0iTTEwIDEyLjUxTDcuNSA5LjUgNCAxNGgxNGwtNC41LTZ6Ii8+PC9nPjwvc3ZnPg==);width:62px;height:62px\"></div></div><div class=\"row _3n8db9\"><div class=\"row\"><p class=\"_2sc7ZR _2V5EHH\">Salman Rahman</p><svg class=\"_2a1p_T\" height=\"14\" viewbox=\"0 0 12 12\" width=\"14\" xmlns=\"http://www.w3.org/2000/svg\"><g><circle cx=\"6\" cy=\"6\" fill=\"#878787\" r=\"6\"></circle><path d=\"M3 6l2 2 4-4\" fill=\"#878787\" stroke=\"#FFF\" stroke-width=\"1.5\"></path></g></svg><p class=\"_2mcZGG\" id=\"review-6f1e9c24-d7d7-42be-b115-508bdc3ec0ac\"><span>Certified Buyer</span><span>, New Delhi</span></p><div></div><p class=\"_2sc7ZR\">Nov, 2020</p></div><div class=\"_1e9_Zu\"><div class=\"row\"><div class=\"_27aTsS\"><div class=\"_1LmwT9\"><svg class=\"skCrcq\" height=\"15\" width=\"20\" xmlns=\"http://www.w3.org/2000/svg\"><path class=\"_1LIt4y\" d=\"M9.58.006c-.41.043-.794.32-1.01.728-.277.557-2.334 4.693-2.74 5.1-.41.407-.944.6-1.544.6v8.572h7.5c.45 0 .835-.28 1.007-.665 0 0 2.207-6.234 2.207-6.834 0-.6-.47-1.072-1.07-1.072h-3.216c-.6 0-1.07-.535-1.07-1.07 0-.537.835-3.387 1.006-3.944.17-.557-.107-1.157-.664-1.35-.15-.043-.257-.086-.407-.064zM0 6.434v8.572h2.143V6.434H0z\" fill=\"#fff\" fill-rule=\"evenodd\"></path></svg><span class=\"_3c3Px5\">394</span></div><div class=\"_1LmwT9 pkR4jH\"><svg class=\"skCrcq pkR4jH\" height=\"15\" width=\"20\" xmlns=\"http://www.w3.org/2000/svg\"><path class=\"_1LIt4y\" d=\"M9.58.006c-.41.043-.794.32-1.01.728-.277.557-2.334 4.693-2.74 5.1-.41.407-.944.6-1.544.6v8.572h7.5c.45 0 .835-.28 1.007-.665 0 0 2.207-6.234 2.207-6.834 0-.6-.47-1.072-1.07-1.072h-3.216c-.6 0-1.07-.535-1.07-1.07 0-.537.835-3.387 1.006-3.944.17-.557-.107-1.157-.664-1.35-.15-.043-.257-.086-.407-.064zM0 6.434v8.572h2.143V6.434H0z\" fill=\"#fff\" fill-rule=\"evenodd\"></path></svg><span class=\"_3c3Px5\">63</span></div></div><div class=\"_2bmov8\"><svg class=\"_2UvOBb\" height=\"11\" viewbox=\"0 0 16 27\" width=\"6\" xmlns=\"http://www.w3.org/2000/svg\"><path class=\"_2aPE6f\" d=\"M16 23.207L6.11 13.161 16 3.093 12.955 0 0 13.161l12.955 13.161z\" fill=\"#fff\"></path></svg><div class=\"_3E8aIl _38dCuf\"><div class=\"_3XCI6U\"><a href=\"/reviews/MOBFWBYZXYSCEEEH:10?reviewId=6f1e9c24-d7d7-42be-b115-508bdc3ec0ac\"><span>Permalink</span></a></div><div class=\"_3XCI6U _2b2z-j\"><span>Report Abuse</span></div></div></div></div></div></div></div></div></div>,\n",
       " <div class=\"_3UAT2v _16PBlm\"><span class=\"\">All 96 reviews</span></div>]"
      ]
     },
     "execution_count": 44,
     "metadata": {},
     "output_type": "execute_result"
    }
   ],
   "source": [
    "comment_box"
   ]
  },
  {
   "cell_type": "code",
   "execution_count": 62,
   "id": "dab649d0-5a3e-49a0-9e08-76953ea47cf9",
   "metadata": {},
   "outputs": [
    {
     "data": {
      "text/plain": [
       "[<p class=\"_2sc7ZR _2V5EHH\">Vinit Kar</p>]"
      ]
     },
     "execution_count": 62,
     "metadata": {},
     "output_type": "execute_result"
    }
   ],
   "source": [
    "comment_box[0].div.div.find_all(\"p\",{\"class\":\"_2sc7ZR _2V5EHH\"}) #to find the name of the person who has written the comment"
   ]
  },
  {
   "cell_type": "code",
   "execution_count": 64,
   "id": "987574d2-a5a1-40c4-97d7-66863a108ae9",
   "metadata": {},
   "outputs": [
    {
     "data": {
      "text/plain": [
       "'Vinit Kar'"
      ]
     },
     "execution_count": 64,
     "metadata": {},
     "output_type": "execute_result"
    }
   ],
   "source": [
    "comment_box[0].div.div.find_all(\"p\",{\"class\":\"_2sc7ZR _2V5EHH\"})[0].text"
   ]
  },
  {
   "cell_type": "code",
   "execution_count": 69,
   "id": "209f5ae8-6171-4f6e-8f2b-4396e85a05ac",
   "metadata": {},
   "outputs": [
    {
     "name": "stdout",
     "output_type": "stream",
     "text": [
      "Vinit Kar\n",
      "Rahul  Meena\n",
      "Nami Hathishah\n",
      "Rajesh Jena\n",
      "Lee Phela\n",
      "Rajkumar tiwari\n",
      "Kirti Yadav\n",
      "Tushar Saini\n",
      "Aasheesh Vats\n",
      "Salman Rahman\n"
     ]
    },
    {
     "ename": "AttributeError",
     "evalue": "'NoneType' object has no attribute 'div'",
     "output_type": "error",
     "traceback": [
      "\u001b[0;31m---------------------------------------------------------------------------\u001b[0m",
      "\u001b[0;31mAttributeError\u001b[0m                            Traceback (most recent call last)",
      "Cell \u001b[0;32mIn[69], line 2\u001b[0m\n\u001b[1;32m      1\u001b[0m \u001b[38;5;28;01mfor\u001b[39;00m i \u001b[38;5;129;01min\u001b[39;00m comment_box:\n\u001b[0;32m----> 2\u001b[0m     \u001b[38;5;28mprint\u001b[39m(\u001b[43mi\u001b[49m\u001b[38;5;241;43m.\u001b[39;49m\u001b[43mdiv\u001b[49m\u001b[38;5;241;43m.\u001b[39;49m\u001b[43mdiv\u001b[49m\u001b[38;5;241m.\u001b[39mfind_all(\u001b[38;5;124m\"\u001b[39m\u001b[38;5;124mp\u001b[39m\u001b[38;5;124m\"\u001b[39m,{\u001b[38;5;124m\"\u001b[39m\u001b[38;5;124mclass\u001b[39m\u001b[38;5;124m\"\u001b[39m:\u001b[38;5;124m\"\u001b[39m\u001b[38;5;124m_2sc7ZR _2V5EHH\u001b[39m\u001b[38;5;124m\"\u001b[39m})[\u001b[38;5;241m0\u001b[39m]\u001b[38;5;241m.\u001b[39mtext) \u001b[38;5;66;03m#to find the name of all the person who has written the comment    \u001b[39;00m\n",
      "\u001b[0;31mAttributeError\u001b[0m: 'NoneType' object has no attribute 'div'"
     ]
    }
   ],
   "source": [
    "for i in comment_box:\n",
    "    print(i.div.div.find_all(\"p\",{\"class\":\"_2sc7ZR _2V5EHH\"})[0].text) #to find the name of all the person who has written the comment    "
   ]
  },
  {
   "cell_type": "code",
   "execution_count": 71,
   "id": "7899b5df-a5b0-4513-bb2d-112db993fc7d",
   "metadata": {},
   "outputs": [
    {
     "data": {
      "text/plain": [
       "'5'"
      ]
     },
     "execution_count": 71,
     "metadata": {},
     "output_type": "execute_result"
    }
   ],
   "source": [
    "comment_box[0].div.div.div.div.text #to get rating"
   ]
  },
  {
   "cell_type": "code",
   "execution_count": 77,
   "id": "a26f0300-ac7f-416d-8472-51c313003f9b",
   "metadata": {},
   "outputs": [
    {
     "name": "stdout",
     "output_type": "stream",
     "text": [
      "5\n",
      "5\n",
      "5\n",
      "5\n",
      "5\n",
      "5\n",
      "3\n",
      "5\n",
      "5\n",
      "5\n"
     ]
    },
    {
     "ename": "AttributeError",
     "evalue": "'NoneType' object has no attribute 'div'",
     "output_type": "error",
     "traceback": [
      "\u001b[0;31m---------------------------------------------------------------------------\u001b[0m",
      "\u001b[0;31mAttributeError\u001b[0m                            Traceback (most recent call last)",
      "Cell \u001b[0;32mIn[77], line 2\u001b[0m\n\u001b[1;32m      1\u001b[0m \u001b[38;5;28;01mfor\u001b[39;00m i \u001b[38;5;129;01min\u001b[39;00m comment_box:\n\u001b[0;32m----> 2\u001b[0m     \u001b[38;5;28mprint\u001b[39m(\u001b[43mi\u001b[49m\u001b[38;5;241;43m.\u001b[39;49m\u001b[43mdiv\u001b[49m\u001b[38;5;241;43m.\u001b[39;49m\u001b[43mdiv\u001b[49m\u001b[38;5;241m.\u001b[39mdiv\u001b[38;5;241m.\u001b[39mdiv\u001b[38;5;241m.\u001b[39mtext)\n",
      "\u001b[0;31mAttributeError\u001b[0m: 'NoneType' object has no attribute 'div'"
     ]
    }
   ],
   "source": [
    "for i in comment_box:\n",
    "    print(i.div.div.div.div.text)"
   ]
  },
  {
   "cell_type": "code",
   "execution_count": 75,
   "id": "9a964326-3854-4b4e-95be-8aceffa3a3cd",
   "metadata": {},
   "outputs": [
    {
     "data": {
      "text/plain": [
       "'Best in the market!'"
      ]
     },
     "execution_count": 75,
     "metadata": {},
     "output_type": "execute_result"
    }
   ],
   "source": [
    "comment_box[0].div.div.div.p.text #to get comment"
   ]
  },
  {
   "cell_type": "code",
   "execution_count": 78,
   "id": "41613934-6b7e-4026-ac58-9f0e8872269b",
   "metadata": {},
   "outputs": [
    {
     "name": "stdout",
     "output_type": "stream",
     "text": [
      "Best in the market!\n",
      "Highly recommended\n",
      "Super!\n",
      "Brilliant\n",
      "Awesome\n",
      "Simply awesome\n",
      "Nice\n",
      "Fabulous!\n",
      "Fabulous!\n",
      "Fabulous!\n"
     ]
    },
    {
     "ename": "AttributeError",
     "evalue": "'NoneType' object has no attribute 'div'",
     "output_type": "error",
     "traceback": [
      "\u001b[0;31m---------------------------------------------------------------------------\u001b[0m",
      "\u001b[0;31mAttributeError\u001b[0m                            Traceback (most recent call last)",
      "Cell \u001b[0;32mIn[78], line 2\u001b[0m\n\u001b[1;32m      1\u001b[0m \u001b[38;5;28;01mfor\u001b[39;00m i \u001b[38;5;129;01min\u001b[39;00m comment_box:\n\u001b[0;32m----> 2\u001b[0m     \u001b[38;5;28mprint\u001b[39m(\u001b[43mi\u001b[49m\u001b[38;5;241;43m.\u001b[39;49m\u001b[43mdiv\u001b[49m\u001b[38;5;241;43m.\u001b[39;49m\u001b[43mdiv\u001b[49m\u001b[38;5;241m.\u001b[39mdiv\u001b[38;5;241m.\u001b[39mp\u001b[38;5;241m.\u001b[39mtext)\n",
      "\u001b[0;31mAttributeError\u001b[0m: 'NoneType' object has no attribute 'div'"
     ]
    }
   ],
   "source": [
    "for i in comment_box:\n",
    "    print(i.div.div.div.p.text)"
   ]
  },
  {
   "cell_type": "code",
   "execution_count": 79,
   "id": "11245362-7bdf-489c-9b7d-100e94da6b1a",
   "metadata": {},
   "outputs": [
    {
     "data": {
      "text/plain": [
       "[<div><div class=\"\">I have been using iPhones for years, but the fast charging and battery on this one is brilliant. Like i always say, iPhone is more of a jewellery than a phone. But this one has some power-packed features and an awesome camera. So if you can afford it, buy it!</div><span class=\"_1H-bmy\"><span>READ MORE</span></span></div>,\n",
       " <div class=\"\">I have been using iPhones for years, but the fast charging and battery on this one is brilliant. Like i always say, iPhone is more of a jewellery than a phone. But this one has some power-packed features and an awesome camera. So if you can afford it, buy it!</div>,\n",
       " <div></div>]"
      ]
     },
     "execution_count": 79,
     "metadata": {},
     "output_type": "execute_result"
    }
   ],
   "source": [
    "comment_box[0].div.div.find_all(\"div\",{\"class\":\"\"}) #to get the comments"
   ]
  },
  {
   "cell_type": "code",
   "execution_count": 83,
   "id": "ad5d1f56-1b0b-40eb-8c08-273f31ddda1d",
   "metadata": {},
   "outputs": [
    {
     "name": "stdout",
     "output_type": "stream",
     "text": [
      "I have been using iPhones for years, but the fast charging and battery on this one is brilliant. Like i always say, iPhone is more of a jewellery than a phone. But this one has some power-packed features and an awesome camera. So if you can afford it, buy it!READ MORE\n",
      "I like the most in this phone:-1. I like the size of this phone because it is easy to hold.2. The camera quality of this phone is admirable. 3. Battery backup is good.4. The new design and colour  of this phone also a plus point of its beauty.5. These  points are my personal which i like most in this phone.READ MORE\n",
      "One of the best looking phone in the market right now with a decent performance jump from 11 pro. Camera is excellent and the display is quite responsive and sharp. Only issue is it does not have a higher refresh rate and the battery life is average.READ MORE\n",
      "I have upgraded from Android to iOS for the first time with the IPhone 12 Pro. And the experience is very much satisfactory. The new A14 bionic processor is very fast. The boxy design is what I liked the most. The camera and display are top notch. Night mode photography is excellent. Worth upgrading from Android to iOS .READ MORE\n",
      "Awesome!Just made an upgrade from X, worth every single penny spent on it, the camera is just too superb, be it the selfie cam or the main rear cam, the goodness it takes the picture is just beyond words, no smart phone can beat it atm! However, the battery life tends to be on the shorter side, that’s the only con that I can’t think up of now,READ MORE\n",
      "indeed a great phone feels premium in hand but battery life is lowREAD MORE\n",
      "Its just Perfect . Prices are a bit high .READ MORE\n",
      "The camera is mind-blowing I love it 😘READ MORE\n",
      "A masterpiece to cherish.READ MORE\n",
      "This one of the best iPhone ever built, though battery backup isn’t good. But the user experience is brilliant.Upgraded from 11 Pro.READ MORE\n"
     ]
    },
    {
     "ename": "AttributeError",
     "evalue": "'NoneType' object has no attribute 'div'",
     "output_type": "error",
     "traceback": [
      "\u001b[0;31m---------------------------------------------------------------------------\u001b[0m",
      "\u001b[0;31mAttributeError\u001b[0m                            Traceback (most recent call last)",
      "Cell \u001b[0;32mIn[83], line 2\u001b[0m\n\u001b[1;32m      1\u001b[0m \u001b[38;5;28;01mfor\u001b[39;00m i \u001b[38;5;129;01min\u001b[39;00m comment_box:\n\u001b[0;32m----> 2\u001b[0m     \u001b[38;5;28mprint\u001b[39m(\u001b[43mi\u001b[49m\u001b[38;5;241;43m.\u001b[39;49m\u001b[43mdiv\u001b[49m\u001b[38;5;241;43m.\u001b[39;49m\u001b[43mdiv\u001b[49m\u001b[38;5;241m.\u001b[39mfind_all(\u001b[38;5;124m\"\u001b[39m\u001b[38;5;124mdiv\u001b[39m\u001b[38;5;124m\"\u001b[39m,{\u001b[38;5;124m\"\u001b[39m\u001b[38;5;124mclass\u001b[39m\u001b[38;5;124m\"\u001b[39m:\u001b[38;5;124m\"\u001b[39m\u001b[38;5;124m\"\u001b[39m})[\u001b[38;5;241m0\u001b[39m]\u001b[38;5;241m.\u001b[39mtext)\n",
      "\u001b[0;31mAttributeError\u001b[0m: 'NoneType' object has no attribute 'div'"
     ]
    }
   ],
   "source": [
    "for i in comment_box:\n",
    "    print(i.div.div.find_all(\"div\",{\"class\":\"\"})[0].text)"
   ]
  },
  {
   "cell_type": "code",
   "execution_count": null,
   "id": "36ca2453-77e8-4205-99c9-b39bd0d32f8b",
   "metadata": {},
   "outputs": [],
   "source": []
  }
 ],
 "metadata": {
  "kernelspec": {
   "display_name": "Python 3 (ipykernel)",
   "language": "python",
   "name": "python3"
  },
  "language_info": {
   "codemirror_mode": {
    "name": "ipython",
    "version": 3
   },
   "file_extension": ".py",
   "mimetype": "text/x-python",
   "name": "python",
   "nbconvert_exporter": "python",
   "pygments_lexer": "ipython3",
   "version": "3.10.8"
  }
 },
 "nbformat": 4,
 "nbformat_minor": 5
}
