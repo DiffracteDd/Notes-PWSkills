{
 "cells": [
  {
   "cell_type": "code",
   "execution_count": 1,
   "id": "bb50efe0-961e-4d77-8791-c827de7aea8c",
   "metadata": {},
   "outputs": [
    {
     "name": "stdout",
     "output_type": "stream",
     "text": [
      "There is some issue with my code [Errno 2] No such file or directory: 'test.txt'\n"
     ]
    }
   ],
   "source": [
    "try :\n",
    "    f=open(\"test.txt\",\"r\")\n",
    "except Exception as e:\n",
    "    print(\"There is some issue with my code\",e)\n"
   ]
  },
  {
   "cell_type": "code",
   "execution_count": null,
   "id": "8c9e092f-4e24-413e-ad2b-d6cb4e813ad2",
   "metadata": {},
   "outputs": [],
   "source": []
  },
  {
   "cell_type": "markdown",
   "id": "c4f0dba8-1784-4832-9640-b590fe98d574",
   "metadata": {},
   "source": [
    "Else block will execute if try block gets executed without exception."
   ]
  },
  {
   "cell_type": "code",
   "execution_count": 2,
   "id": "6ce6bedc-cb30-42f6-bcb4-5eec351c1fd9",
   "metadata": {},
   "outputs": [
    {
     "name": "stdout",
     "output_type": "stream",
     "text": [
      "try excuted without exception\n"
     ]
    }
   ],
   "source": [
    "try :\n",
    "    f=open(\"test.txt\",\"w\")\n",
    "    f.write(\"This is my message\")\n",
    "except Exception as e:\n",
    "    print(\"There is some issue with my code \")\n",
    "else:\n",
    "    f.close()\n",
    "    print(\"try excuted without exception\")\n",
    "    "
   ]
  },
  {
   "cell_type": "code",
   "execution_count": null,
   "id": "e6a0fdfd-8590-463f-b9d5-db024fc6bdcf",
   "metadata": {},
   "outputs": [],
   "source": []
  },
  {
   "cell_type": "markdown",
   "id": "4a7a2238-0a18-476d-95c4-fc29a8848078",
   "metadata": {},
   "source": [
    "Finally block will always execute itself , it doesnt matter whether exception has been handled or not "
   ]
  },
  {
   "cell_type": "code",
   "execution_count": 3,
   "id": "66f55d99-5b24-456e-933a-7816a150bd34",
   "metadata": {},
   "outputs": [
    {
     "name": "stdout",
     "output_type": "stream",
     "text": [
      "There is some issue with my code \n",
      "Finally will get executed\n"
     ]
    }
   ],
   "source": [
    "try :\n",
    "    f=open(\"test.txt\",\"r\")\n",
    "    f.write(\"This is my message\")\n",
    "except Exception as e:\n",
    "    print(\"There is some issue with my code \")\n",
    "else:\n",
    "    f.close()\n",
    "    print(\"try excuted without exception\")\n",
    "finally :\n",
    "    print(\"Finally will get executed\")"
   ]
  },
  {
   "cell_type": "code",
   "execution_count": null,
   "id": "79d499cd-31e6-4ab9-97bd-c22675f1f5ad",
   "metadata": {},
   "outputs": [],
   "source": []
  },
  {
   "cell_type": "code",
   "execution_count": null,
   "id": "1ee6e58f-5c2e-43f7-ac97-f975886d0315",
   "metadata": {},
   "outputs": [],
   "source": []
  },
  {
   "cell_type": "markdown",
   "id": "b449ae8b-ab8d-46da-89f8-0125bc368654",
   "metadata": {},
   "source": [
    "Custom Exception Handling"
   ]
  },
  {
   "cell_type": "markdown",
   "id": "819ece41-6fff-4680-aecd-ffff1f8f4b3d",
   "metadata": {},
   "source": [
    "In cases when the exception is for the user and  not for the system . In such cases custom exception is used."
   ]
  },
  {
   "cell_type": "code",
   "execution_count": 4,
   "id": "c9d37fe4-b58d-4888-aae0-6950f5cdd89d",
   "metadata": {},
   "outputs": [
    {
     "name": "stdin",
     "output_type": "stream",
     "text": [
      "enter age = 23\n"
     ]
    }
   ],
   "source": [
    "age=int(input(\"enter age =\"))"
   ]
  },
  {
   "cell_type": "code",
   "execution_count": 5,
   "id": "6dcdce0b-c49f-426b-a3b1-6e6fdc9c4aa7",
   "metadata": {},
   "outputs": [
    {
     "name": "stdin",
     "output_type": "stream",
     "text": [
      "enter age = -23\n"
     ]
    }
   ],
   "source": [
    "age=int(input(\"enter age =\"))"
   ]
  },
  {
   "cell_type": "markdown",
   "id": "799e28d9-28c8-4860-934b-58dc7abc61c8",
   "metadata": {},
   "source": [
    "But -23 is not a valid age , although it is accepted by the system but the user knows that it is not possible."
   ]
  },
  {
   "cell_type": "code",
   "execution_count": null,
   "id": "566701cb-636d-4788-b779-d6c9de9aa7a0",
   "metadata": {},
   "outputs": [],
   "source": []
  },
  {
   "cell_type": "markdown",
   "id": "b0fd159d-469a-407c-a13c-5a6455230f83",
   "metadata": {},
   "source": [
    "Creating own class and Inheriting Exception class \n",
    "creating a constructor that will take a message when an object of the  class is created.\n",
    "Raise is a reserved keyword that calls custom class. "
   ]
  },
  {
   "cell_type": "code",
   "execution_count": 15,
   "id": "96724a2d-e539-4eb8-a7dc-bef91335ec69",
   "metadata": {},
   "outputs": [],
   "source": [
    "class validateage(Exception):\n",
    "    def __init__(self,msg):\n",
    "        self.msg=msg\n",
    "\n",
    "    "
   ]
  },
  {
   "cell_type": "code",
   "execution_count": 16,
   "id": "0f6f9e70-c481-4f3b-a431-690e83e62b02",
   "metadata": {},
   "outputs": [],
   "source": [
    "def validate_age(age):\n",
    "    if age < 0:\n",
    "        raise validateage(\"age should not be lessser than 0\")\n",
    "    elif age > 200:\n",
    "        raise validateage(\"age should not be so high\")\n",
    "    else:\n",
    "        print(\"age is valid\")"
   ]
  },
  {
   "cell_type": "code",
   "execution_count": 17,
   "id": "19917516-c08a-4ebf-9e0d-ec3b213e414a",
   "metadata": {},
   "outputs": [
    {
     "name": "stdin",
     "output_type": "stream",
     "text": [
      "enter age -12\n"
     ]
    },
    {
     "name": "stdout",
     "output_type": "stream",
     "text": [
      "age should not be lessser than 0\n"
     ]
    }
   ],
   "source": [
    "try:\n",
    "    age=int(input(\"enter age\"))\n",
    "    validate_age(age)\n",
    "except validateage as e:\n",
    "    print(e)"
   ]
  },
  {
   "cell_type": "code",
   "execution_count": null,
   "id": "4d154fa0-a0c2-4296-b9e8-594c662a1d97",
   "metadata": {},
   "outputs": [],
   "source": []
  },
  {
   "cell_type": "code",
   "execution_count": null,
   "id": "78b68a49-45d7-4a8e-898e-30d930f4e837",
   "metadata": {},
   "outputs": [],
   "source": []
  },
  {
   "cell_type": "code",
   "execution_count": null,
   "id": "bf95fb21-8bfc-4c86-afd6-3e4be8f101de",
   "metadata": {},
   "outputs": [],
   "source": []
  }
 ],
 "metadata": {
  "kernelspec": {
   "display_name": "Python 3 (ipykernel)",
   "language": "python",
   "name": "python3"
  },
  "language_info": {
   "codemirror_mode": {
    "name": "ipython",
    "version": 3
   },
   "file_extension": ".py",
   "mimetype": "text/x-python",
   "name": "python",
   "nbconvert_exporter": "python",
   "pygments_lexer": "ipython3",
   "version": "3.10.8"
  }
 },
 "nbformat": 4,
 "nbformat_minor": 5
}
