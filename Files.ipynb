{
 "cells": [
  {
   "cell_type": "code",
   "execution_count": 8,
   "id": "9cca60ee-c30d-41f1-93f1-235fea0cbc9e",
   "metadata": {},
   "outputs": [],
   "source": [
    "f=open(\"test.txt\",'a')"
   ]
  },
  {
   "cell_type": "code",
   "execution_count": 9,
   "id": "8686e6a6-1801-4f2f-9b6b-4a902409d654",
   "metadata": {},
   "outputs": [
    {
     "data": {
      "text/plain": [
       "'/home/jovyan/work'"
      ]
     },
     "execution_count": 9,
     "metadata": {},
     "output_type": "execute_result"
    }
   ],
   "source": [
    "pwd\n"
   ]
  },
  {
   "cell_type": "code",
   "execution_count": 10,
   "id": "0cc52fb0-c4d0-4663-bd91-eaa6b195cb7e",
   "metadata": {},
   "outputs": [
    {
     "name": "stdout",
     "output_type": "stream",
     "text": [
      "\u001b[0m\u001b[01;34mAssignments\u001b[0m/  DAY4.ipynb        functions.ipynb  README.md\n",
      "DAY2.ipynb    Decorators.ipynb  Functions.ipynb  sample-code.ipynb\n",
      "DAY3.ipynb    Files.ipynb       OOP.ipynb        test.txt\n"
     ]
    }
   ],
   "source": [
    "ls"
   ]
  },
  {
   "cell_type": "code",
   "execution_count": 11,
   "id": "3685dd5b-4f90-4689-a51d-dae3b68221ee",
   "metadata": {},
   "outputs": [
    {
     "data": {
      "text/plain": [
       "44"
      ]
     },
     "execution_count": 11,
     "metadata": {},
     "output_type": "execute_result"
    }
   ],
   "source": [
    "f.write(\"this is my first write operation in the file\")"
   ]
  },
  {
   "cell_type": "code",
   "execution_count": 12,
   "id": "87316fa8-749a-47f2-b0b9-4839660d6e88",
   "metadata": {},
   "outputs": [],
   "source": [
    "f.close()"
   ]
  },
  {
   "cell_type": "code",
   "execution_count": 13,
   "id": "b0b4ef03-d349-476f-ab0d-484508914e33",
   "metadata": {},
   "outputs": [],
   "source": [
    "data=open(\"test.txt\",\"r\")"
   ]
  },
  {
   "cell_type": "code",
   "execution_count": 14,
   "id": "d10db95c-bc72-44c5-9ea6-c421a65f9c19",
   "metadata": {},
   "outputs": [
    {
     "data": {
      "text/plain": [
       "'this is my first write operation in the filethis is my first write operation in the file'"
      ]
     },
     "execution_count": 14,
     "metadata": {},
     "output_type": "execute_result"
    }
   ],
   "source": [
    "data.read()"
   ]
  },
  {
   "cell_type": "markdown",
   "id": "782ca15b-aefe-4503-9c8d-ec416d4da156",
   "metadata": {},
   "source": [
    "Since the cursor has moved to the end of the file, hence it won't read anything more."
   ]
  },
  {
   "cell_type": "code",
   "execution_count": 15,
   "id": "eb1de71e-3f58-4ff5-b56d-73ba08093cbb",
   "metadata": {},
   "outputs": [
    {
     "data": {
      "text/plain": [
       "''"
      ]
     },
     "execution_count": 15,
     "metadata": {},
     "output_type": "execute_result"
    }
   ],
   "source": [
    "data.read()"
   ]
  },
  {
   "cell_type": "markdown",
   "id": "b9547785-cb5d-4f60-aba4-83ef8fa7db72",
   "metadata": {},
   "source": [
    "Using the seek function we reset the cursor at the beginning of the file."
   ]
  },
  {
   "cell_type": "code",
   "execution_count": 16,
   "id": "aee0c14f-f1f2-4783-ab4f-b71e3ad5970b",
   "metadata": {},
   "outputs": [
    {
     "data": {
      "text/plain": [
       "0"
      ]
     },
     "execution_count": 16,
     "metadata": {},
     "output_type": "execute_result"
    }
   ],
   "source": [
    "data.seek(0)"
   ]
  },
  {
   "cell_type": "code",
   "execution_count": 17,
   "id": "1ec41eda-6484-4d62-86c3-1762c376aad5",
   "metadata": {},
   "outputs": [
    {
     "data": {
      "text/plain": [
       "'this is my first write operation in the filethis is my first write operation in the file'"
      ]
     },
     "execution_count": 17,
     "metadata": {},
     "output_type": "execute_result"
    }
   ],
   "source": [
    "data.read()"
   ]
  },
  {
   "cell_type": "code",
   "execution_count": 18,
   "id": "08b28877-7f8b-44f1-b713-6461063d2f5a",
   "metadata": {},
   "outputs": [],
   "source": [
    "data1=open(\"test.txt\",\"r\")"
   ]
  },
  {
   "cell_type": "code",
   "execution_count": 19,
   "id": "419ee590-0107-47f6-ba68-352e1f7542b9",
   "metadata": {},
   "outputs": [
    {
     "name": "stdout",
     "output_type": "stream",
     "text": [
      "this is my first write operation in the filethis is my first write operation in the file\n"
     ]
    }
   ],
   "source": [
    "for i in data1:\n",
    "    print(i)"
   ]
  },
  {
   "cell_type": "code",
   "execution_count": 20,
   "id": "54e63b8c-1689-4bba-8a35-73517455a7b6",
   "metadata": {},
   "outputs": [],
   "source": [
    "import os"
   ]
  },
  {
   "cell_type": "code",
   "execution_count": 21,
   "id": "b8594854-ebe3-4bb7-8d4f-c2056886c623",
   "metadata": {},
   "outputs": [
    {
     "data": {
      "text/plain": [
       "88"
      ]
     },
     "execution_count": 21,
     "metadata": {},
     "output_type": "execute_result"
    }
   ],
   "source": [
    "os.path.getsize(\"test.txt\")\n"
   ]
  },
  {
   "cell_type": "code",
   "execution_count": 3,
   "id": "54a47b35-8569-453e-877d-b542cd523d38",
   "metadata": {},
   "outputs": [],
   "source": [
    "import shutil\n",
    "\n",
    "\n",
    "\n",
    "\n",
    "\n",
    "\n",
    "\n",
    "\n",
    "\n",
    "\n",
    "\n"
   ]
  },
  {
   "cell_type": "markdown",
   "id": "f9263bee-3edb-4d61-a686-0d8c825322aa",
   "metadata": {},
   "source": [
    "Copy the file with a different name\n",
    "\n",
    "\n",
    "\n"
   ]
  },
  {
   "cell_type": "code",
   "execution_count": 2,
   "id": "1d7dba23-621e-47a4-9478-f3d2a4427e06",
   "metadata": {},
   "outputs": [
    {
     "data": {
      "text/plain": [
       "'newtest.txt'"
      ]
     },
     "execution_count": 2,
     "metadata": {},
     "output_type": "execute_result"
    }
   ],
   "source": [
    "shutil.copy(\"test.txt\",\"newtest.txt\")"
   ]
  },
  {
   "cell_type": "markdown",
   "id": "dc1b573f-471c-4e02-b23f-7b33e1e55b13",
   "metadata": {},
   "source": [
    "Delete a file"
   ]
  },
  {
   "cell_type": "code",
   "execution_count": 6,
   "id": "6e63a70d-9da3-49d2-b871-493587808dce",
   "metadata": {},
   "outputs": [
    {
     "ename": "FileNotFoundError",
     "evalue": "[Errno 2] No such file or directory: 'test.txt'",
     "output_type": "error",
     "traceback": [
      "\u001b[0;31m---------------------------------------------------------------------------\u001b[0m",
      "\u001b[0;31mFileNotFoundError\u001b[0m                         Traceback (most recent call last)",
      "Cell \u001b[0;32mIn[6], line 2\u001b[0m\n\u001b[1;32m      1\u001b[0m \u001b[38;5;28;01mimport\u001b[39;00m \u001b[38;5;21;01mos\u001b[39;00m\n\u001b[0;32m----> 2\u001b[0m \u001b[43mos\u001b[49m\u001b[38;5;241;43m.\u001b[39;49m\u001b[43mremove\u001b[49m\u001b[43m(\u001b[49m\u001b[38;5;124;43m\"\u001b[39;49m\u001b[38;5;124;43mtest.txt\u001b[39;49m\u001b[38;5;124;43m\"\u001b[39;49m\u001b[43m)\u001b[49m\n",
      "\u001b[0;31mFileNotFoundError\u001b[0m: [Errno 2] No such file or directory: 'test.txt'"
     ]
    }
   ],
   "source": [
    "import os\n",
    "os.remove(\"test.txt\")"
   ]
  },
  {
   "cell_type": "markdown",
   "id": "60c8ddde-7f97-4768-b3df-5545114bc5dc",
   "metadata": {},
   "source": [
    "\"as f\" is an alias for the operation"
   ]
  },
  {
   "cell_type": "code",
   "execution_count": 9,
   "id": "b8b03347-3933-4585-9f6a-129318144f2a",
   "metadata": {},
   "outputs": [
    {
     "name": "stdout",
     "output_type": "stream",
     "text": [
      "this is my first write operation in the filethis is my first write operation in the file\n"
     ]
    }
   ],
   "source": [
    "with open(\"newtest.txt\",\"r\")as f:\n",
    "    print(f.read())"
   ]
  },
  {
   "cell_type": "code",
   "execution_count": 10,
   "id": "e4b94cb0-d829-4d1b-abcf-d0f9ae2e5ab0",
   "metadata": {},
   "outputs": [],
   "source": [
    "os.rename(\"newtest.txt\",\"test1.txt\")"
   ]
  },
  {
   "cell_type": "code",
   "execution_count": null,
   "id": "9a45ce0b-156d-4636-b1bb-e4575c09ad5c",
   "metadata": {},
   "outputs": [],
   "source": []
  },
  {
   "cell_type": "markdown",
   "id": "d435aec2-4524-41c9-a2b0-fd407b4a0334",
   "metadata": {},
   "source": [
    "Using JSON"
   ]
  },
  {
   "cell_type": "code",
   "execution_count": 11,
   "id": "47b18455-3f15-4a2a-a984-936e80cbf448",
   "metadata": {},
   "outputs": [],
   "source": [
    "data={\n",
    "    \"name\":\"sudh\",\n",
    "    \"mail_id\":\"sudh@gmail.com\",\n",
    "    \"phone_number\":123456,\n",
    "    \"subject\":[\"data science\",\"big data\",\"data analytic\"]\n",
    "}"
   ]
  },
  {
   "cell_type": "code",
   "execution_count": 12,
   "id": "bdffb0c1-52ec-4985-be63-1984af9ad7dc",
   "metadata": {},
   "outputs": [],
   "source": [
    "import json"
   ]
  },
  {
   "cell_type": "code",
   "execution_count": 13,
   "id": "d5d0a2c6-beed-4e7e-a6b4-9dd209a5fcc4",
   "metadata": {},
   "outputs": [],
   "source": [
    "with open(\"test1.json\",\"w\")as f:\n",
    "    json.dump(data,f)"
   ]
  },
  {
   "cell_type": "code",
   "execution_count": 15,
   "id": "37e6ef8a-d80a-48e9-a87e-6b98fc3ce6d8",
   "metadata": {},
   "outputs": [],
   "source": [
    "with open(\"test1.json\",\"r\")as f:\n",
    "    data1=json.load(f)"
   ]
  },
  {
   "cell_type": "code",
   "execution_count": 16,
   "id": "aa514dad-b55f-4d01-9e83-f2a9c40b83fe",
   "metadata": {},
   "outputs": [
    {
     "data": {
      "text/plain": [
       "{'name': 'sudh',\n",
       " 'mail_id': 'sudh@gmail.com',\n",
       " 'phone_number': 123456,\n",
       " 'subject': ['data science', 'big data', 'data analytic']}"
      ]
     },
     "execution_count": 16,
     "metadata": {},
     "output_type": "execute_result"
    }
   ],
   "source": [
    "data1"
   ]
  },
  {
   "cell_type": "code",
   "execution_count": 17,
   "id": "5bfe4ecf-3673-4f50-b294-b186256fe33e",
   "metadata": {},
   "outputs": [
    {
     "data": {
      "text/plain": [
       "'big data'"
      ]
     },
     "execution_count": 17,
     "metadata": {},
     "output_type": "execute_result"
    }
   ],
   "source": [
    "data1[\"subject\"][1]"
   ]
  },
  {
   "cell_type": "code",
   "execution_count": 20,
   "id": "72901471-9775-4f17-b18a-4236f0869995",
   "metadata": {},
   "outputs": [],
   "source": [
    "data=[[\"name\",\"email_id\",\"number\"],\n",
    "      [\"sudh\",\"sudh@gmail.com\",98765],\n",
    "      [\"krish\",\"krish@gmail.com\",2345],\n",
    "]"
   ]
  },
  {
   "cell_type": "markdown",
   "id": "2ada6160-dc32-466e-a372-90fffb83c091",
   "metadata": {},
   "source": [
    "using comma seperated values(csv)"
   ]
  },
  {
   "cell_type": "code",
   "execution_count": 21,
   "id": "25095d3d-743e-435c-b3c7-000699870ce9",
   "metadata": {},
   "outputs": [],
   "source": [
    "import csv"
   ]
  },
  {
   "cell_type": "code",
   "execution_count": 22,
   "id": "4440c0a1-20a5-4637-ac6c-fd80f2445512",
   "metadata": {},
   "outputs": [],
   "source": [
    "with open(\"test3.csv\",\"w\")as f:\n",
    "    w=csv.writer(f)\n",
    "    for i in data:\n",
    "        w.writerow(i)"
   ]
  },
  {
   "cell_type": "code",
   "execution_count": 23,
   "id": "82820a41-6b40-4204-8233-ddb5abbf2ad0",
   "metadata": {},
   "outputs": [
    {
     "name": "stdout",
     "output_type": "stream",
     "text": [
      "['name', 'email_id', 'number']\n",
      "['sudh', 'sudh@gmail.com', '98765']\n",
      "['krish', 'krish@gmail.com', '2345']\n"
     ]
    }
   ],
   "source": [
    "with open(\"test3.csv\",\"r\") as f:\n",
    "    read=csv.reader(f)\n",
    "    for i in read:\n",
    "        print(i)"
   ]
  },
  {
   "cell_type": "code",
   "execution_count": null,
   "id": "d137e884-5f02-4a77-82f4-718e858b2406",
   "metadata": {},
   "outputs": [],
   "source": []
  },
  {
   "cell_type": "markdown",
   "id": "f74da0db-f1f5-4284-8ea0-49475bbc793a",
   "metadata": {},
   "source": [
    "Using Binary files"
   ]
  },
  {
   "cell_type": "markdown",
   "id": "88cd0859-faa6-42d3-a2e1-4f5ea168c401",
   "metadata": {},
   "source": [
    "wb stands for write binary"
   ]
  },
  {
   "cell_type": "code",
   "execution_count": 24,
   "id": "940991a2-33b4-47c6-8908-bdd4f5aa437d",
   "metadata": {},
   "outputs": [],
   "source": [
    "with open(\"test4.bin\",\"wb\") as f:\n",
    "    f.write(b\"\\x01\\x02\\x03\")"
   ]
  },
  {
   "cell_type": "code",
   "execution_count": 25,
   "id": "9f1de347-20a3-46a9-b9e3-c7724251d528",
   "metadata": {},
   "outputs": [
    {
     "name": "stdout",
     "output_type": "stream",
     "text": [
      "b'\\x01\\x02\\x03'\n"
     ]
    }
   ],
   "source": [
    "with open(\"test4.bin\",\"rb\") as f:\n",
    "    print(f.read())"
   ]
  },
  {
   "cell_type": "code",
   "execution_count": null,
   "id": "c3e3d395-8f57-4a88-9f79-8c593255bfa7",
   "metadata": {},
   "outputs": [],
   "source": [
    "\n"
   ]
  },
  {
   "cell_type": "markdown",
   "id": "a03522cd-693a-433d-b0cc-205b55e7b402",
   "metadata": {},
   "source": [
    "Buffered Read and Write"
   ]
  },
  {
   "cell_type": "code",
   "execution_count": 26,
   "id": "dc9b5fde-bae8-4006-a8e9-ad2832f84265",
   "metadata": {},
   "outputs": [],
   "source": [
    "import io"
   ]
  },
  {
   "cell_type": "code",
   "execution_count": 29,
   "id": "94c1c8e7-77bf-41a3-b67b-3ac37c95f590",
   "metadata": {},
   "outputs": [],
   "source": [
    "with open(\"test.txt\",\"wb\") as f:\n",
    "    file=io.BufferedWriter(f)\n",
    "    file.write(b\"this is my buffer writer\\n\")\n",
    "    file.write(b\"this is my second line that I am writing\")\n",
    "    file.flush()"
   ]
  },
  {
   "cell_type": "code",
   "execution_count": 31,
   "id": "fa1802ac-14fa-4624-9ea1-1960a3b743a9",
   "metadata": {},
   "outputs": [
    {
     "name": "stdout",
     "output_type": "stream",
     "text": [
      "b'this is my'\n"
     ]
    }
   ],
   "source": [
    "with open(\"test.txt\",\"rb\") as f:\n",
    "    file=io.BufferedReader(f)\n",
    "    data=file.read(10)\n",
    "    print(data)"
   ]
  },
  {
   "cell_type": "code",
   "execution_count": null,
   "id": "497bd8dc-1d1b-46f1-9f7f-995236f88ec8",
   "metadata": {},
   "outputs": [],
   "source": []
  },
  {
   "cell_type": "code",
   "execution_count": null,
   "id": "4f5294d6-d777-4efb-89f1-2295c381b637",
   "metadata": {},
   "outputs": [],
   "source": []
  },
  {
   "cell_type": "markdown",
   "id": "e3ed9f96-4439-49d7-956d-a9e9c2a0fd63",
   "metadata": {},
   "source": [
    "Logging and Debugging"
   ]
  },
  {
   "cell_type": "code",
   "execution_count": 11,
   "id": "1d6657e5-39f8-4c8e-87a1-56eeb996bd2c",
   "metadata": {},
   "outputs": [],
   "source": [
    "import logging\n"
   ]
  },
  {
   "cell_type": "code",
   "execution_count": 2,
   "id": "03ace42b-41d2-45e4-b09a-876473ec6bad",
   "metadata": {},
   "outputs": [],
   "source": [
    "logging.basicConfig(filename=\"test.log\",level=logging.INFO)"
   ]
  },
  {
   "cell_type": "code",
   "execution_count": 3,
   "id": "a8383023-28ab-4a5c-b20a-e77046540481",
   "metadata": {},
   "outputs": [],
   "source": [
    "logging.info(\"this is my line of execution\")"
   ]
  },
  {
   "cell_type": "code",
   "execution_count": 4,
   "id": "5f894e29-c151-4aea-b13a-12bcd8d0ba76",
   "metadata": {},
   "outputs": [],
   "source": [
    "logging.error(\"this is my error\")"
   ]
  },
  {
   "cell_type": "code",
   "execution_count": 5,
   "id": "846aea14-4d3c-454e-b18e-aa1f9d3cb45a",
   "metadata": {},
   "outputs": [],
   "source": [
    "logging.critical(\"this is my critical\")"
   ]
  },
  {
   "cell_type": "code",
   "execution_count": 6,
   "id": "917a411b-59b4-4811-96cc-a8a499551edb",
   "metadata": {},
   "outputs": [],
   "source": [
    "logging.warning(\"this is my warning\")"
   ]
  },
  {
   "cell_type": "markdown",
   "id": "21237d3a-6384-49cd-811e-7dc54616bcc0",
   "metadata": {},
   "source": [
    "Hierarchy followed by logging:-\n",
    "1>NOSET\n",
    "2>DEBUG\n",
    "3>INFO\n",
    "4>WARNING\n",
    "5>ERROR\n",
    "6>CRITICAL"
   ]
  },
  {
   "cell_type": "markdown",
   "id": "eefba9ba-f74c-43e2-9271-4748dbd96885",
   "metadata": {},
   "source": [
    "If we write logging.debug , nothing will show up in the test.log file\n",
    "this is because we have logged in through INFO (logging.INFO) , hence everything below INFO in the hierarchy chart  will be acccepted but anything above it will be discarded"
   ]
  },
  {
   "cell_type": "code",
   "execution_count": null,
   "id": "919a73ad-2c19-4f9d-99d4-d60a1ae2472e",
   "metadata": {},
   "outputs": [],
   "source": []
  },
  {
   "cell_type": "markdown",
   "id": "33e70e43-fc5f-412d-9d22-157753f60754",
   "metadata": {},
   "source": [
    "To stop accessing or to exit the log file "
   ]
  },
  {
   "cell_type": "code",
   "execution_count": null,
   "id": "edff009a-6b38-482f-9a99-6b13a3d447f6",
   "metadata": {},
   "outputs": [],
   "source": [
    "logging.shutdown()"
   ]
  },
  {
   "cell_type": "code",
   "execution_count": 18,
   "id": "5d02c1a4-6005-4352-a3f3-e5269c49bce8",
   "metadata": {},
   "outputs": [],
   "source": [
    "logging.basicConfig(filename=\"test1.log\",level=logging.DEBUG,format='%(asctime)s %(message)s')"
   ]
  },
  {
   "cell_type": "code",
   "execution_count": 4,
   "id": "e007bd8b-8179-447b-96ab-f678846ae331",
   "metadata": {},
   "outputs": [],
   "source": [
    "logging.info(\"this is my info log\")"
   ]
  },
  {
   "cell_type": "code",
   "execution_count": 5,
   "id": "fa3790d3-7b70-426d-82c0-e6df882e4d90",
   "metadata": {},
   "outputs": [],
   "source": [
    "logging.debug(\"this is my debug log\")"
   ]
  },
  {
   "cell_type": "code",
   "execution_count": 6,
   "id": "c50375fa-61d2-4417-b721-8f9cf881d6fa",
   "metadata": {},
   "outputs": [],
   "source": [
    "logging.warning(\"this is my debug log\")"
   ]
  },
  {
   "cell_type": "code",
   "execution_count": 7,
   "id": "66d8a395-c84f-4da7-b895-2ab8aeb3bbe4",
   "metadata": {},
   "outputs": [],
   "source": [
    "logging.shutdown()"
   ]
  },
  {
   "cell_type": "code",
   "execution_count": 19,
   "id": "cdf3fa4c-ddf8-4f24-a0f7-f675a2c94b2b",
   "metadata": {},
   "outputs": [],
   "source": [
    "logging.basicConfig(filename=\"test5.log\",level=logging.DEBUG,format='%(asctime)s %(name)s %(levelname)s %(message)s')"
   ]
  },
  {
   "cell_type": "code",
   "execution_count": 14,
   "id": "e95fcb3e-67d9-48ca-92ad-bda65f3b1c0f",
   "metadata": {},
   "outputs": [],
   "source": [
    "logging.info(\"this is my info log\")"
   ]
  },
  {
   "cell_type": "code",
   "execution_count": null,
   "id": "8001d52c-d3aa-4a95-ab6b-0138985283a5",
   "metadata": {},
   "outputs": [],
   "source": []
  },
  {
   "cell_type": "markdown",
   "id": "2c036cbd-d597-4c4c-a255-adb505b37834",
   "metadata": {},
   "source": [
    "Implementation of logging"
   ]
  },
  {
   "cell_type": "code",
   "execution_count": 15,
   "id": "16f552c9-37f7-44e6-9b53-eb9d62e3b8ec",
   "metadata": {},
   "outputs": [],
   "source": [
    "l=[1,2,3,4,[4,5,6],\"sudh\",\"kumar\"]"
   ]
  },
  {
   "cell_type": "code",
   "execution_count": 23,
   "id": "ea813287-187a-4170-b82f-49bbb7de81de",
   "metadata": {},
   "outputs": [],
   "source": [
    "l1_int=[]\n",
    "l2_str=[]\n",
    "for i in l:\n",
    "    logging.info(\"this is the start of my first for loop {}\".format(l))\n",
    "    logging.info(\"this is the value of i am logging {}\".format(i))\n",
    "    if type(i)==list:\n",
    "        for j in i:\n",
    "            logging.info(\"logging my j {j} and i{i}\".format(i=i,j=j))\n",
    "            if type(j)==int:\n",
    "                l1_int.append(j)\n",
    "    elif type(i)==int:\n",
    "        l1_int.append(i)\n",
    "    else:\n",
    "        if type(i)==str:\n",
    "            l2_str.append(i)"
   ]
  },
  {
   "cell_type": "code",
   "execution_count": 24,
   "id": "e8c01b9e-83c9-45dc-8b27-74b25d973d88",
   "metadata": {},
   "outputs": [
    {
     "data": {
      "text/plain": [
       "[1, 2, 3, 4, 4, 5, 6]"
      ]
     },
     "execution_count": 24,
     "metadata": {},
     "output_type": "execute_result"
    }
   ],
   "source": [
    "l1_int"
   ]
  },
  {
   "cell_type": "code",
   "execution_count": 25,
   "id": "38a531a5-b515-44ed-934e-b0032b536e0e",
   "metadata": {},
   "outputs": [
    {
     "data": {
      "text/plain": [
       "['sudh', 'kumar']"
      ]
     },
     "execution_count": 25,
     "metadata": {},
     "output_type": "execute_result"
    }
   ],
   "source": [
    "l2_str"
   ]
  },
  {
   "cell_type": "code",
   "execution_count": 28,
   "id": "a5037ce6-9e56-4539-8cf7-1237598a57ec",
   "metadata": {},
   "outputs": [],
   "source": [
    "logging.info(\"this is my final result with all int{i} and all str{j}\".format(i=l1_int,j=l2_str))"
   ]
  },
  {
   "cell_type": "code",
   "execution_count": null,
   "id": "756b9dd6-57c9-42ac-9271-6a0b0dd7dfed",
   "metadata": {},
   "outputs": [],
   "source": []
  }
 ],
 "metadata": {
  "kernelspec": {
   "display_name": "Python 3 (ipykernel)",
   "language": "python",
   "name": "python3"
  },
  "language_info": {
   "codemirror_mode": {
    "name": "ipython",
    "version": 3
   },
   "file_extension": ".py",
   "mimetype": "text/x-python",
   "name": "python",
   "nbconvert_exporter": "python",
   "pygments_lexer": "ipython3",
   "version": "3.10.8"
  }
 },
 "nbformat": 4,
 "nbformat_minor": 5
}
