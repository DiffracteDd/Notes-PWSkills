{
 "cells": [
  {
   "cell_type": "code",
   "execution_count": 1,
   "id": "04f37cba-cd49-459a-bc0f-27ca930cc368",
   "metadata": {},
   "outputs": [],
   "source": [
    "import scipy.stats as stat\n",
    "import numpy as np"
   ]
  },
  {
   "cell_type": "code",
   "execution_count": 2,
   "id": "8f544e52-11b1-4b1c-a005-52c150039ba4",
   "metadata": {},
   "outputs": [],
   "source": [
    "## No of hours student study daily in a weekly basis\n",
    "##monday,tuesday,Wednesday,thursday,Friday,Saturday,sunday\n",
    "expected_data=[8,6,7,9,6,9,7]\n",
    "observed_data=[7,8,6,9,9,6,7]"
   ]
  },
  {
   "cell_type": "code",
   "execution_count": 9,
   "id": "ced04137-b36b-4907-9c18-7fa67bcbb1a4",
   "metadata": {},
   "outputs": [],
   "source": [
    "#if the sum of both the expected data and observed data is equal, then only we can perform the chi test"
   ]
  },
  {
   "cell_type": "code",
   "execution_count": 3,
   "id": "289c027d-c1ba-4714-9ee8-ebe2e2fb6ccf",
   "metadata": {},
   "outputs": [
    {
     "data": {
      "text/plain": [
       "(52, 52)"
      ]
     },
     "execution_count": 3,
     "metadata": {},
     "output_type": "execute_result"
    }
   ],
   "source": [
    "sum(expected_data),sum(observed_data)"
   ]
  },
  {
   "cell_type": "code",
   "execution_count": 4,
   "id": "2a88b8a2-681b-43a4-bc55-2653daff4e05",
   "metadata": {},
   "outputs": [],
   "source": [
    "## Chi square Goodness OF Fit\n",
    "chisquare_test_statistics,p_value=stat.chisquare(observed_data,expected_data)"
   ]
  },
  {
   "cell_type": "code",
   "execution_count": 5,
   "id": "d901fd99-d8a5-4d30-a700-d022afac3c90",
   "metadata": {},
   "outputs": [
    {
     "name": "stdout",
     "output_type": "stream",
     "text": [
      "3.4345238095238093\n",
      "0.7526596580922865\n"
     ]
    },
    {
     "data": {
      "text/plain": [
       "(None, None)"
      ]
     },
     "execution_count": 5,
     "metadata": {},
     "output_type": "execute_result"
    }
   ],
   "source": [
    "print(chisquare_test_statistics),print(p_value)"
   ]
  },
  {
   "cell_type": "code",
   "execution_count": 6,
   "id": "88450ed5-439f-4eb9-bc62-0b5b4fed8a47",
   "metadata": {},
   "outputs": [],
   "source": [
    "## find the critical value\n",
    "significance=0.05\n",
    "dof=len(observed_data)-1\n",
    "critical_value=stat.chi2.ppf(1-significance,dof)"
   ]
  },
  {
   "cell_type": "code",
   "execution_count": 7,
   "id": "6678cd17-a0ae-4faa-91c1-fb4913564471",
   "metadata": {},
   "outputs": [
    {
     "data": {
      "text/plain": [
       "12.591587243743977"
      ]
     },
     "execution_count": 7,
     "metadata": {},
     "output_type": "execute_result"
    }
   ],
   "source": [
    "critical_value"
   ]
  },
  {
   "cell_type": "code",
   "execution_count": 8,
   "id": "f89640c1-01d2-4175-bec5-9beeeb3a7a8e",
   "metadata": {},
   "outputs": [
    {
     "name": "stdout",
     "output_type": "stream",
     "text": [
      "Accept the null hypothesis\n"
     ]
    }
   ],
   "source": [
    "if chisquare_test_statistics > critical_value:\n",
    "    print(\"Reject the null hypothesis\")\n",
    "else:\n",
    "    print(\"Accept the null hypothesis\")"
   ]
  },
  {
   "cell_type": "code",
   "execution_count": null,
   "id": "ca28ab9f-d820-4fb5-a183-d7798d4ee98d",
   "metadata": {},
   "outputs": [],
   "source": []
  }
 ],
 "metadata": {
  "kernelspec": {
   "display_name": "Python 3 (ipykernel)",
   "language": "python",
   "name": "python3"
  },
  "language_info": {
   "codemirror_mode": {
    "name": "ipython",
    "version": 3
   },
   "file_extension": ".py",
   "mimetype": "text/x-python",
   "name": "python",
   "nbconvert_exporter": "python",
   "pygments_lexer": "ipython3",
   "version": "3.10.8"
  }
 },
 "nbformat": 4,
 "nbformat_minor": 5
}
