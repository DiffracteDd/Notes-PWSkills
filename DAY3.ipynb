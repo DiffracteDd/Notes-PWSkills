{
 "cells": [
  {
   "cell_type": "markdown",
   "id": "f78ff792-0fa3-4ef4-9a13-f845f79ddc1e",
   "metadata": {},
   "source": [
    "Logical Operators \n",
    "1. AND \n",
    "2. OR\n",
    "3. NOT\n"
   ]
  },
  {
   "cell_type": "markdown",
   "id": "0f257594-51db-4e76-b3ac-dc2764a479b6",
   "metadata": {},
   "source": [
    "# \"Not\" will always give answer in true or false independent of boolean or integer"
   ]
  },
  {
   "cell_type": "code",
   "execution_count": 3,
   "id": "558556b3-173d-446a-8964-70b5049cd5ff",
   "metadata": {},
   "outputs": [],
   "source": [
    "str1 = 'Hello World'"
   ]
  },
  {
   "cell_type": "code",
   "execution_count": 5,
   "id": "a01bb72b-bd4f-4256-94d9-d1e7de11e885",
   "metadata": {},
   "outputs": [
    {
     "data": {
      "text/plain": [
       "'Hello world'"
      ]
     },
     "execution_count": 5,
     "metadata": {},
     "output_type": "execute_result"
    }
   ],
   "source": [
    "str1.capitalize()"
   ]
  },
  {
   "cell_type": "code",
   "execution_count": 6,
   "id": "54646454-7645-405b-ba98-0e0d15efda08",
   "metadata": {},
   "outputs": [],
   "source": [
    "string = 'PW Skills Data Science'"
   ]
  },
  {
   "cell_type": "code",
   "execution_count": 7,
   "id": "ecbb7b5f-0ce2-447b-86f8-d6043153dd11",
   "metadata": {},
   "outputs": [
    {
     "data": {
      "text/plain": [
       "'i'"
      ]
     },
     "execution_count": 7,
     "metadata": {},
     "output_type": "execute_result"
    }
   ],
   "source": [
    "string[5]"
   ]
  },
  {
   "cell_type": "code",
   "execution_count": 8,
   "id": "241a42d8-a35c-45aa-a4a1-7aec5defeb4f",
   "metadata": {},
   "outputs": [
    {
     "data": {
      "text/plain": [
       "'ills Data Science'"
      ]
     },
     "execution_count": 8,
     "metadata": {},
     "output_type": "execute_result"
    }
   ],
   "source": [
    "string[5:]"
   ]
  },
  {
   "cell_type": "markdown",
   "id": "523c2b78-1b00-47ec-981c-04c203844c85",
   "metadata": {},
   "source": [
    "String Slicing "
   ]
  },
  {
   "cell_type": "code",
   "execution_count": 10,
   "id": "1c96d53a-5fdc-4f86-8531-9062e2a6d1dd",
   "metadata": {},
   "outputs": [
    {
     "data": {
      "text/plain": [
       "'ills D'"
      ]
     },
     "execution_count": 10,
     "metadata": {},
     "output_type": "execute_result"
    }
   ],
   "source": [
    "string [5:11]"
   ]
  },
  {
   "cell_type": "code",
   "execution_count": 11,
   "id": "aa0fea70-488e-4c9d-89ba-e46384a0e88a",
   "metadata": {},
   "outputs": [
    {
     "data": {
      "text/plain": [
       "'e'"
      ]
     },
     "execution_count": 11,
     "metadata": {},
     "output_type": "execute_result"
    }
   ],
   "source": [
    "string[-1]"
   ]
  },
  {
   "cell_type": "code",
   "execution_count": 12,
   "id": "9ab58404-b11e-4ba4-9fba-01c410358dd5",
   "metadata": {},
   "outputs": [],
   "source": [
    "course_name=\"Data Science Masters\""
   ]
  },
  {
   "cell_type": "code",
   "execution_count": 14,
   "id": "cfdd37b3-eda0-42b8-811f-08fb631e7bf5",
   "metadata": {},
   "outputs": [
    {
     "data": {
      "text/plain": [
       "'Science'"
      ]
     },
     "execution_count": 14,
     "metadata": {},
     "output_type": "execute_result"
    }
   ],
   "source": [
    "course_name[5:12]"
   ]
  },
  {
   "cell_type": "code",
   "execution_count": 17,
   "id": "e3c5b05f-d105-476d-b295-1e9c7b1cfa93",
   "metadata": {},
   "outputs": [
    {
     "data": {
      "text/plain": [
       "' ecneicS'"
      ]
     },
     "execution_count": 17,
     "metadata": {},
     "output_type": "execute_result"
    }
   ],
   "source": [
    "course_name[12:4:-1]"
   ]
  },
  {
   "cell_type": "markdown",
   "id": "700f7546-3285-4c99-b020-b962ee8e8ba4",
   "metadata": {},
   "source": [
    "#\"course_name.find\"\n",
    "Docstring:\n",
    "S.find(sub[, start[, end]]) -> int\n",
    "\n",
    "Return the lowest index in S where substring sub is found,\n",
    "such that sub is contained within S[start:end].  Optional\n",
    "arguments start and end are interpreted as in slice notation.\n",
    "\n",
    "Return -1 on failure.\n",
    "Type:      builtin_function_or_method"
   ]
  },
  {
   "cell_type": "code",
   "execution_count": null,
   "id": "0c7126f4-70e7-4786-b879-45f2f43014d2",
   "metadata": {},
   "outputs": [],
   "source": []
  }
 ],
 "metadata": {
  "kernelspec": {
   "display_name": "Python 3 (ipykernel)",
   "language": "python",
   "name": "python3"
  },
  "language_info": {
   "codemirror_mode": {
    "name": "ipython",
    "version": 3
   },
   "file_extension": ".py",
   "mimetype": "text/x-python",
   "name": "python",
   "nbconvert_exporter": "python",
   "pygments_lexer": "ipython3",
   "version": "3.10.8"
  }
 },
 "nbformat": 4,
 "nbformat_minor": 5
}
